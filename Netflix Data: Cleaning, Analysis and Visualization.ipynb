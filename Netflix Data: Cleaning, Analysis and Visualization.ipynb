{
 "cells": [
  {
   "cell_type": "code",
   "execution_count": null,
   "id": "a2cdfaa0-ec38-4bc2-ac76-bc8d257e7ed0",
   "metadata": {},
   "outputs": [],
   "source": [
    "# STEP 1: Import Required Libraries\n",
    "!pip install matplotlib\n",
    "import pandas as pd\n",
    "import numpy as np\n",
    "import matplotlib.pyplot as plt\n",
    "import seaborn as sns\n",
    "from sklearn.preprocessing import StandardScaler, OneHotEncoder\n",
    "from sklearn.ensemble import IsolationForest, RandomForestClassifier\n",
    "from sklearn.model_selection import train_test_split\n",
    "from sklearn.metrics import classification_report, accuracy_score\n",
    "import warnings\n",
    "warnings.filterwarnings(\"ignore\")"
   ]
  },
  {
   "cell_type": "code",
   "execution_count": 4,
   "id": "d900539d-a1db-41be-b80e-624289be6b57",
   "metadata": {},
   "outputs": [
    {
     "name": "stdout",
     "output_type": "stream",
     "text": [
      "Initial Shape: (8790, 10)\n"
     ]
    },
    {
     "data": {
      "text/html": [
       "<div>\n",
       "<style scoped>\n",
       "    .dataframe tbody tr th:only-of-type {\n",
       "        vertical-align: middle;\n",
       "    }\n",
       "\n",
       "    .dataframe tbody tr th {\n",
       "        vertical-align: top;\n",
       "    }\n",
       "\n",
       "    .dataframe thead th {\n",
       "        text-align: right;\n",
       "    }\n",
       "</style>\n",
       "<table border=\"1\" class=\"dataframe\">\n",
       "  <thead>\n",
       "    <tr style=\"text-align: right;\">\n",
       "      <th></th>\n",
       "      <th>show_id</th>\n",
       "      <th>type</th>\n",
       "      <th>title</th>\n",
       "      <th>director</th>\n",
       "      <th>country</th>\n",
       "      <th>date_added</th>\n",
       "      <th>release_year</th>\n",
       "      <th>rating</th>\n",
       "      <th>duration</th>\n",
       "      <th>listed_in</th>\n",
       "    </tr>\n",
       "  </thead>\n",
       "  <tbody>\n",
       "    <tr>\n",
       "      <th>0</th>\n",
       "      <td>s1</td>\n",
       "      <td>Movie</td>\n",
       "      <td>Dick Johnson Is Dead</td>\n",
       "      <td>Kirsten Johnson</td>\n",
       "      <td>United States</td>\n",
       "      <td>9/25/2021</td>\n",
       "      <td>2020</td>\n",
       "      <td>PG-13</td>\n",
       "      <td>90 min</td>\n",
       "      <td>Documentaries</td>\n",
       "    </tr>\n",
       "    <tr>\n",
       "      <th>1</th>\n",
       "      <td>s3</td>\n",
       "      <td>TV Show</td>\n",
       "      <td>Ganglands</td>\n",
       "      <td>Julien Leclercq</td>\n",
       "      <td>France</td>\n",
       "      <td>9/24/2021</td>\n",
       "      <td>2021</td>\n",
       "      <td>TV-MA</td>\n",
       "      <td>1 Season</td>\n",
       "      <td>Crime TV Shows, International TV Shows, TV Act...</td>\n",
       "    </tr>\n",
       "    <tr>\n",
       "      <th>2</th>\n",
       "      <td>s6</td>\n",
       "      <td>TV Show</td>\n",
       "      <td>Midnight Mass</td>\n",
       "      <td>Mike Flanagan</td>\n",
       "      <td>United States</td>\n",
       "      <td>9/24/2021</td>\n",
       "      <td>2021</td>\n",
       "      <td>TV-MA</td>\n",
       "      <td>1 Season</td>\n",
       "      <td>TV Dramas, TV Horror, TV Mysteries</td>\n",
       "    </tr>\n",
       "    <tr>\n",
       "      <th>3</th>\n",
       "      <td>s14</td>\n",
       "      <td>Movie</td>\n",
       "      <td>Confessions of an Invisible Girl</td>\n",
       "      <td>Bruno Garotti</td>\n",
       "      <td>Brazil</td>\n",
       "      <td>9/22/2021</td>\n",
       "      <td>2021</td>\n",
       "      <td>TV-PG</td>\n",
       "      <td>91 min</td>\n",
       "      <td>Children &amp; Family Movies, Comedies</td>\n",
       "    </tr>\n",
       "    <tr>\n",
       "      <th>4</th>\n",
       "      <td>s8</td>\n",
       "      <td>Movie</td>\n",
       "      <td>Sankofa</td>\n",
       "      <td>Haile Gerima</td>\n",
       "      <td>United States</td>\n",
       "      <td>9/24/2021</td>\n",
       "      <td>1993</td>\n",
       "      <td>TV-MA</td>\n",
       "      <td>125 min</td>\n",
       "      <td>Dramas, Independent Movies, International Movies</td>\n",
       "    </tr>\n",
       "  </tbody>\n",
       "</table>\n",
       "</div>"
      ],
      "text/plain": [
       "  show_id     type                             title         director  \\\n",
       "0      s1    Movie              Dick Johnson Is Dead  Kirsten Johnson   \n",
       "1      s3  TV Show                         Ganglands  Julien Leclercq   \n",
       "2      s6  TV Show                     Midnight Mass    Mike Flanagan   \n",
       "3     s14    Movie  Confessions of an Invisible Girl    Bruno Garotti   \n",
       "4      s8    Movie                           Sankofa     Haile Gerima   \n",
       "\n",
       "         country date_added  release_year rating  duration  \\\n",
       "0  United States  9/25/2021          2020  PG-13    90 min   \n",
       "1         France  9/24/2021          2021  TV-MA  1 Season   \n",
       "2  United States  9/24/2021          2021  TV-MA  1 Season   \n",
       "3         Brazil  9/22/2021          2021  TV-PG    91 min   \n",
       "4  United States  9/24/2021          1993  TV-MA   125 min   \n",
       "\n",
       "                                           listed_in  \n",
       "0                                      Documentaries  \n",
       "1  Crime TV Shows, International TV Shows, TV Act...  \n",
       "2                 TV Dramas, TV Horror, TV Mysteries  \n",
       "3                 Children & Family Movies, Comedies  \n",
       "4   Dramas, Independent Movies, International Movies  "
      ]
     },
     "execution_count": 4,
     "metadata": {},
     "output_type": "execute_result"
    }
   ],
   "source": [
    "# STEP 2: Load the Dataset\n",
    "df = pd.read_csv('netflix data.csv')\n",
    "print(\"Initial Shape:\", df.shape)\n",
    "df.head()\n"
   ]
  },
  {
   "cell_type": "code",
   "execution_count": 5,
   "id": "087e04d5-eccb-4f96-87c7-38e1c6d44fa0",
   "metadata": {},
   "outputs": [],
   "source": [
    "# Load dataset\n",
    "data = pd.read_csv(\"netflix data.csv\")\n"
   ]
  },
  {
   "cell_type": "code",
   "execution_count": 6,
   "id": "1a9b505b-d52a-45ca-8e52-ca6803be0351",
   "metadata": {},
   "outputs": [],
   "source": [
    "# Data cleaning\n",
    "data = data.drop_duplicates()\n",
    "data['date_added'] = pd.to_datetime(data['date_added'], errors='coerce')\n"
   ]
  },
  {
   "cell_type": "code",
   "execution_count": 7,
   "id": "3054daae-28e9-4f53-aeda-8a0c9c9f0406",
   "metadata": {},
   "outputs": [],
   "source": [
    "# Netflix color theme (multiple pastel red shades)\n",
    "netflix_reds = [\"#FF6F61\", \"#FF7F7F\", \"#FF8C8C\", \"#FF9999\", \"#FFA3A3\", \"#FFB3B3\", \"#FFC2C2\", \"#FFD6D6\"]"
   ]
  },
  {
   "cell_type": "code",
   "execution_count": 8,
   "id": "9aae180b-b354-45bc-a3bb-7aedb6b36574",
   "metadata": {},
   "outputs": [
    {
     "data": {
      "application/vnd.plotly.v1+json": {
       "config": {
        "plotlyServerURL": "https://plot.ly"
       },
       "data": [
        {
         "domain": {
          "x": [
           0,
           1
          ],
          "y": [
           0,
           1
          ]
         },
         "hoverinfo": "none",
         "labels": [
          "Movie",
          "TV Show",
          "TV Show",
          "Movie",
          "Movie",
          "TV Show",
          "Movie",
          "Movie",
          "Movie",
          "Movie",
          "Movie",
          "Movie",
          "Movie",
          "Movie",
          "Movie",
          "Movie",
          "Movie",
          "TV Show",
          "TV Show",
          "Movie",
          "TV Show",
          "TV Show",
          "TV Show",
          "Movie",
          "TV Show",
          "Movie",
          "Movie",
          "TV Show",
          "Movie",
          "Movie",
          "Movie",
          "Movie",
          "Movie",
          "TV Show",
          "TV Show",
          "TV Show",
          "TV Show",
          "TV Show",
          "TV Show",
          "TV Show",
          "TV Show",
          "TV Show",
          "TV Show",
          "TV Show",
          "TV Show",
          "TV Show",
          "TV Show",
          "TV Show",
          "TV Show",
          "TV Show",
          "TV Show",
          "Movie",
          "Movie",
          "Movie",
          "Movie",
          "Movie",
          "Movie",
          "Movie",
          "TV Show",
          "Movie",
          "Movie",
          "Movie",
          "Movie",
          "Movie",
          "Movie",
          "Movie",
          "Movie",
          "TV Show",
          "Movie",
          "Movie",
          "Movie",
          "Movie",
          "TV Show",
          "TV Show",
          "TV Show",
          "TV Show",
          "TV Show",
          "TV Show",
          "TV Show",
          "TV Show",
          "Movie",
          "Movie",
          "Movie",
          "Movie",
          "Movie",
          "Movie",
          "Movie",
          "Movie",
          "Movie",
          "TV Show",
          "TV Show",
          "TV Show",
          "TV Show",
          "TV Show",
          "TV Show",
          "Movie",
          "TV Show",
          "TV Show",
          "TV Show",
          "TV Show",
          "TV Show",
          "TV Show",
          "TV Show",
          "TV Show",
          "TV Show",
          "TV Show",
          "Movie",
          "Movie",
          "Movie",
          "TV Show",
          "Movie",
          "Movie",
          "Movie",
          "TV Show",
          "Movie",
          "Movie",
          "TV Show",
          "TV Show",
          "TV Show",
          "TV Show",
          "TV Show",
          "TV Show",
          "TV Show",
          "TV Show",
          "TV Show",
          "TV Show",
          "Movie",
          "TV Show",
          "Movie",
          "Movie",
          "Movie",
          "Movie",
          "Movie",
          "Movie",
          "Movie",
          "Movie",
          "Movie",
          "TV Show",
          "TV Show",
          "TV Show",
          "Movie",
          "TV Show",
          "Movie",
          "TV Show",
          "Movie",
          "TV Show",
          "TV Show",
          "TV Show",
          "Movie",
          "TV Show",
          "TV Show",
          "Movie",
          "TV Show",
          "TV Show",
          "Movie",
          "Movie",
          "TV Show",
          "TV Show",
          "TV Show",
          "Movie",
          "TV Show",
          "TV Show",
          "TV Show",
          "TV Show",
          "TV Show",
          "TV Show",
          "TV Show",
          "Movie",
          "TV Show",
          "Movie",
          "Movie",
          "Movie",
          "Movie",
          "Movie",
          "Movie",
          "Movie",
          "Movie",
          "Movie",
          "TV Show",
          "Movie",
          "Movie",
          "Movie",
          "Movie",
          "Movie",
          "Movie",
          "Movie",
          "TV Show",
          "TV Show",
          "TV Show",
          "TV Show",
          "TV Show",
          "TV Show",
          "TV Show",
          "TV Show",
          "TV Show",
          "Movie",
          "Movie",
          "Movie",
          "Movie",
          "Movie",
          "Movie",
          "Movie",
          "Movie",
          "Movie",
          "Movie",
          "Movie",
          "Movie",
          "Movie",
          "Movie",
          "Movie",
          "Movie",
          "Movie",
          "Movie",
          "TV Show",
          "TV Show",
          "TV Show",
          "Movie",
          "Movie",
          "Movie",
          "Movie",
          "Movie",
          "TV Show",
          "Movie",
          "Movie",
          "Movie",
          "Movie",
          "Movie",
          "Movie",
          "Movie",
          "Movie",
          "Movie",
          "TV Show",
          "TV Show",
          "TV Show",
          "TV Show",
          "Movie",
          "TV Show",
          "TV Show",
          "TV Show",
          "TV Show",
          "TV Show",
          "TV Show",
          "Movie",
          "Movie",
          "Movie",
          "Movie",
          "Movie",
          "Movie",
          "Movie",
          "Movie",
          "Movie",
          "Movie",
          "Movie",
          "Movie",
          "Movie",
          "Movie",
          "Movie",
          "TV Show",
          "Movie",
          "TV Show",
          "TV Show",
          "TV Show",
          "TV Show",
          "Movie",
          "Movie",
          "Movie",
          "Movie",
          "Movie",
          "Movie",
          "TV Show",
          "Movie",
          "TV Show",
          "TV Show",
          "Movie",
          "Movie",
          "Movie",
          "Movie",
          "Movie",
          "Movie",
          "Movie",
          "Movie",
          "Movie",
          "Movie",
          "TV Show",
          "TV Show",
          "TV Show",
          "TV Show",
          "TV Show",
          "TV Show",
          "Movie",
          "Movie",
          "Movie",
          "TV Show",
          "TV Show",
          "Movie",
          "Movie",
          "Movie",
          "TV Show",
          "TV Show",
          "TV Show",
          "TV Show",
          "TV Show",
          "TV Show",
          "Movie",
          "TV Show",
          "TV Show",
          "TV Show",
          "TV Show",
          "TV Show",
          "TV Show",
          "TV Show",
          "Movie",
          "TV Show",
          "TV Show",
          "TV Show",
          "TV Show",
          "TV Show",
          "Movie",
          "Movie",
          "Movie",
          "TV Show",
          "Movie",
          "Movie",
          "Movie",
          "Movie",
          "Movie",
          "Movie",
          "Movie",
          "Movie",
          "Movie",
          "Movie",
          "Movie",
          "Movie",
          "TV Show",
          "TV Show",
          "Movie",
          "TV Show",
          "TV Show",
          "TV Show",
          "TV Show",
          "TV Show",
          "Movie",
          "Movie",
          "Movie",
          "Movie",
          "Movie",
          "Movie",
          "Movie",
          "Movie",
          "Movie",
          "Movie",
          "Movie",
          "Movie",
          "TV Show",
          "Movie",
          "Movie",
          "TV Show",
          "TV Show",
          "TV Show",
          "TV Show",
          "TV Show",
          "TV Show",
          "TV Show",
          "Movie",
          "Movie",
          "Movie",
          "Movie",
          "Movie",
          "Movie",
          "TV Show",
          "Movie",
          "TV Show",
          "TV Show",
          "TV Show",
          "TV Show",
          "TV Show",
          "TV Show",
          "TV Show",
          "Movie",
          "Movie",
          "TV Show",
          "Movie",
          "Movie",
          "Movie",
          "Movie",
          "Movie",
          "TV Show",
          "Movie",
          "TV Show",
          "TV Show",
          "TV Show",
          "TV Show",
          "Movie",
          "TV Show",
          "TV Show",
          "TV Show",
          "TV Show",
          "TV Show",
          "TV Show",
          "TV Show",
          "TV Show",
          "TV Show",
          "TV Show",
          "Movie",
          "TV Show",
          "Movie",
          "Movie",
          "Movie",
          "TV Show",
          "TV Show",
          "Movie",
          "Movie",
          "Movie",
          "Movie",
          "Movie",
          "Movie",
          "Movie",
          "Movie",
          "TV Show",
          "TV Show",
          "TV Show",
          "TV Show",
          "Movie",
          "TV Show",
          "TV Show",
          "TV Show",
          "Movie",
          "TV Show",
          "Movie",
          "Movie",
          "Movie",
          "TV Show",
          "TV Show",
          "TV Show",
          "TV Show",
          "Movie",
          "Movie",
          "Movie",
          "TV Show",
          "Movie",
          "TV Show",
          "TV Show",
          "TV Show",
          "TV Show",
          "TV Show",
          "TV Show",
          "Movie",
          "TV Show",
          "TV Show",
          "TV Show",
          "TV Show",
          "TV Show",
          "Movie",
          "Movie",
          "Movie",
          "TV Show",
          "TV Show",
          "TV Show",
          "TV Show",
          "TV Show",
          "TV Show",
          "TV Show",
          "TV Show",
          "TV Show",
          "TV Show",
          "Movie",
          "Movie",
          "Movie",
          "Movie",
          "Movie",
          "TV Show",
          "Movie",
          "Movie",
          "Movie",
          "Movie",
          "TV Show",
          "Movie",
          "TV Show",
          "Movie",
          "Movie",
          "Movie",
          "Movie",
          "Movie",
          "TV Show",
          "TV Show",
          "TV Show",
          "TV Show",
          "TV Show",
          "Movie",
          "Movie",
          "Movie",
          "Movie",
          "Movie",
          "Movie",
          "Movie",
          "Movie",
          "Movie",
          "Movie",
          "Movie",
          "Movie",
          "Movie",
          "Movie",
          "Movie",
          "Movie",
          "Movie",
          "TV Show",
          "TV Show",
          "TV Show",
          "Movie",
          "Movie",
          "Movie",
          "Movie",
          "TV Show",
          "Movie",
          "TV Show",
          "Movie",
          "Movie",
          "Movie",
          "TV Show",
          "Movie",
          "Movie",
          "Movie",
          "Movie",
          "Movie",
          "TV Show",
          "TV Show",
          "TV Show",
          "TV Show",
          "Movie",
          "Movie",
          "Movie",
          "Movie",
          "Movie",
          "Movie",
          "Movie",
          "Movie",
          "Movie",
          "TV Show",
          "Movie",
          "TV Show",
          "Movie",
          "Movie",
          "TV Show",
          "TV Show",
          "TV Show",
          "TV Show",
          "TV Show",
          "TV Show",
          "TV Show",
          "TV Show",
          "TV Show",
          "TV Show",
          "TV Show",
          "TV Show",
          "TV Show",
          "TV Show",
          "TV Show",
          "Movie",
          "TV Show",
          "Movie",
          "Movie",
          "Movie",
          "Movie",
          "Movie",
          "Movie",
          "Movie",
          "Movie",
          "Movie",
          "Movie",
          "Movie",
          "Movie",
          "Movie",
          "Movie",
          "TV Show",
          "TV Show",
          "TV Show",
          "TV Show",
          "TV Show",
          "Movie",
          "Movie",
          "Movie",
          "Movie",
          "Movie",
          "Movie",
          "Movie",
          "Movie",
          "Movie",
          "Movie",
          "Movie",
          "Movie",
          "Movie",
          "TV Show",
          "TV Show",
          "TV Show",
          "Movie",
          "TV Show",
          "TV Show",
          "TV Show",
          "Movie",
          "Movie",
          "Movie",
          "Movie",
          "Movie",
          "TV Show",
          "Movie",
          "Movie",
          "Movie",
          "Movie",
          "Movie",
          "Movie",
          "Movie",
          "Movie",
          "Movie",
          "TV Show",
          "Movie",
          "Movie",
          "TV Show",
          "Movie",
          "TV Show",
          "TV Show",
          "TV Show",
          "TV Show",
          "Movie",
          "Movie",
          "Movie",
          "TV Show",
          "Movie",
          "Movie",
          "Movie",
          "TV Show",
          "TV Show",
          "Movie",
          "TV Show",
          "TV Show",
          "Movie",
          "Movie",
          "TV Show",
          "TV Show",
          "TV Show",
          "TV Show",
          "TV Show",
          "TV Show",
          "TV Show",
          "TV Show",
          "Movie",
          "Movie",
          "Movie",
          "TV Show",
          "Movie",
          "TV Show",
          "TV Show",
          "Movie",
          "TV Show",
          "Movie",
          "Movie",
          "TV Show",
          "Movie",
          "Movie",
          "TV Show",
          "TV Show",
          "TV Show",
          "TV Show",
          "TV Show",
          "TV Show",
          "TV Show",
          "TV Show",
          "TV Show",
          "Movie",
          "Movie",
          "Movie",
          "Movie",
          "Movie",
          "Movie",
          "Movie",
          "TV Show",
          "Movie",
          "Movie",
          "Movie",
          "Movie",
          "Movie",
          "TV Show",
          "TV Show",
          "Movie",
          "Movie",
          "Movie",
          "Movie",
          "Movie",
          "Movie",
          "Movie",
          "Movie",
          "Movie",
          "Movie",
          "Movie",
          "Movie",
          "Movie",
          "Movie",
          "Movie",
          "Movie",
          "Movie",
          "Movie",
          "Movie",
          "Movie",
          "Movie",
          "Movie",
          "Movie",
          "Movie",
          "Movie",
          "Movie",
          "Movie",
          "Movie",
          "Movie",
          "Movie",
          "Movie",
          "Movie",
          "Movie",
          "Movie",
          "Movie",
          "Movie",
          "Movie",
          "Movie",
          "Movie",
          "TV Show",
          "Movie",
          "Movie",
          "Movie",
          "Movie",
          "Movie",
          "Movie",
          "Movie",
          "Movie",
          "Movie",
          "Movie",
          "Movie",
          "Movie",
          "Movie",
          "Movie",
          "TV Show",
          "Movie",
          "Movie",
          "Movie",
          "Movie",
          "Movie",
          "Movie",
          "Movie",
          "Movie",
          "Movie",
          "Movie",
          "Movie",
          "Movie",
          "Movie",
          "Movie",
          "Movie",
          "Movie",
          "Movie",
          "Movie",
          "Movie",
          "Movie",
          "Movie",
          "Movie",
          "Movie",
          "Movie",
          "Movie",
          "Movie",
          "Movie",
          "Movie",
          "Movie",
          "Movie",
          "Movie",
          "TV Show",
          "Movie",
          "Movie",
          "TV Show",
          "Movie",
          "Movie",
          "Movie",
          "Movie",
          "Movie",
          "Movie",
          "Movie",
          "TV Show",
          "Movie",
          "Movie",
          "Movie",
          "Movie",
          "Movie",
          "Movie",
          "Movie",
          "Movie",
          "Movie",
          "Movie",
          "Movie",
          "TV Show",
          "TV Show",
          "TV Show",
          "Movie",
          "Movie",
          "Movie",
          "TV Show",
          "Movie",
          "Movie",
          "Movie",
          "TV Show",
          "Movie",
          "Movie",
          "Movie",
          "Movie",
          "Movie",
          "Movie",
          "Movie",
          "Movie",
          "Movie",
          "Movie",
          "Movie",
          "TV Show",
          "Movie",
          "Movie",
          "Movie",
          "Movie",
          "Movie",
          "Movie",
          "Movie",
          "Movie",
          "Movie",
          "TV Show",
          "Movie",
          "TV Show",
          "Movie",
          "Movie",
          "Movie",
          "Movie",
          "TV Show",
          "Movie",
          "TV Show",
          "Movie",
          "Movie",
          "Movie",
          "Movie",
          "Movie",
          "Movie",
          "Movie",
          "Movie",
          "Movie",
          "Movie",
          "Movie",
          "Movie",
          "Movie",
          "TV Show",
          "TV Show",
          "Movie",
          "Movie",
          "Movie",
          "Movie",
          "Movie",
          "Movie",
          "Movie",
          "Movie",
          "Movie",
          "Movie",
          "Movie",
          "Movie",
          "Movie",
          "Movie",
          "Movie",
          "Movie",
          "Movie",
          "Movie",
          "Movie",
          "Movie",
          "Movie",
          "Movie",
          "Movie",
          "Movie",
          "Movie",
          "Movie",
          "Movie",
          "Movie",
          "Movie",
          "Movie",
          "TV Show",
          "Movie",
          "Movie",
          "Movie",
          "Movie",
          "Movie",
          "Movie",
          "Movie",
          "Movie",
          "Movie",
          "Movie",
          "Movie",
          "Movie",
          "Movie",
          "Movie",
          "Movie",
          "Movie",
          "Movie",
          "Movie",
          "Movie",
          "Movie",
          "Movie",
          "Movie",
          "TV Show",
          "TV Show",
          "Movie",
          "Movie",
          "Movie",
          "Movie",
          "Movie",
          "Movie",
          "Movie",
          "Movie",
          "Movie",
          "Movie",
          "Movie",
          "Movie",
          "Movie",
          "Movie",
          "Movie",
          "Movie",
          "Movie",
          "Movie",
          "Movie",
          "Movie",
          "Movie",
          "Movie",
          "Movie",
          "Movie",
          "Movie",
          "Movie",
          "Movie",
          "Movie",
          "Movie",
          "TV Show",
          "TV Show",
          "Movie",
          "Movie",
          "Movie",
          "Movie",
          "Movie",
          "Movie",
          "Movie",
          "Movie",
          "Movie",
          "TV Show",
          "Movie",
          "Movie",
          "Movie",
          "Movie",
          "Movie",
          "Movie",
          "Movie",
          "Movie",
          "Movie",
          "Movie",
          "TV Show",
          "Movie",
          "Movie",
          "Movie",
          "TV Show",
          "Movie",
          "Movie",
          "Movie",
          "TV Show",
          "Movie",
          "Movie",
          "Movie",
          "Movie",
          "Movie",
          "Movie",
          "Movie",
          "Movie",
          "Movie",
          "Movie",
          "Movie",
          "Movie",
          "Movie",
          "Movie",
          "Movie",
          "Movie",
          "Movie",
          "Movie",
          "Movie",
          "Movie",
          "Movie",
          "Movie",
          "Movie",
          "Movie",
          "Movie",
          "Movie",
          "Movie",
          "Movie",
          "TV Show",
          "Movie",
          "Movie",
          "Movie",
          "Movie",
          "Movie",
          "Movie",
          "Movie",
          "Movie",
          "Movie",
          "Movie",
          "Movie",
          "Movie",
          "Movie",
          "Movie",
          "Movie",
          "Movie",
          "Movie",
          "Movie",
          "Movie",
          "Movie",
          "Movie",
          "TV Show",
          "Movie",
          "Movie",
          "Movie",
          "Movie",
          "Movie",
          "Movie",
          "Movie",
          "Movie",
          "Movie",
          "Movie",
          "Movie",
          "Movie",
          "Movie",
          "Movie",
          "Movie",
          "Movie",
          "Movie",
          "Movie",
          "Movie",
          "Movie",
          "Movie",
          "Movie",
          "Movie",
          "Movie",
          "Movie",
          "Movie",
          "Movie",
          "Movie",
          "Movie",
          "Movie",
          "Movie",
          "Movie",
          "Movie",
          "Movie",
          "Movie",
          "Movie",
          "Movie",
          "Movie",
          "Movie",
          "TV Show",
          "Movie",
          "Movie",
          "Movie",
          "Movie",
          "Movie",
          "Movie",
          "TV Show",
          "Movie",
          "Movie",
          "TV Show",
          "Movie",
          "Movie",
          "Movie",
          "Movie",
          "Movie",
          "Movie",
          "Movie",
          "Movie",
          "Movie",
          "Movie",
          "Movie",
          "Movie",
          "Movie",
          "Movie",
          "Movie",
          "Movie",
          "Movie",
          "Movie",
          "Movie",
          "Movie",
          "Movie",
          "Movie",
          "Movie",
          "Movie",
          "Movie",
          "Movie",
          "Movie",
          "Movie",
          "Movie",
          "Movie",
          "Movie",
          "Movie",
          "Movie",
          "Movie",
          "Movie",
          "Movie",
          "Movie",
          "Movie",
          "Movie",
          "Movie",
          "Movie",
          "Movie",
          "Movie",
          "Movie",
          "Movie",
          "Movie",
          "Movie",
          "Movie",
          "Movie",
          "Movie",
          "Movie",
          "Movie",
          "Movie",
          "Movie",
          "Movie",
          "Movie",
          "Movie",
          "Movie",
          "Movie",
          "TV Show",
          "Movie",
          "Movie",
          "Movie",
          "Movie",
          "Movie",
          "Movie",
          "Movie",
          "Movie",
          "Movie",
          "Movie",
          "Movie",
          "Movie",
          "Movie",
          "Movie",
          "Movie",
          "Movie",
          "TV Show",
          "Movie",
          "Movie",
          "Movie",
          "Movie",
          "Movie",
          "Movie",
          "Movie",
          "Movie",
          "Movie",
          "Movie",
          "Movie",
          "Movie",
          "Movie",
          "Movie",
          "Movie",
          "TV Show",
          "Movie",
          "Movie",
          "Movie",
          "Movie",
          "Movie",
          "Movie",
          "Movie",
          "Movie",
          "Movie",
          "Movie",
          "Movie",
          "Movie",
          "Movie",
          "Movie",
          "Movie",
          "Movie",
          "Movie",
          "Movie",
          "Movie",
          "Movie",
          "TV Show",
          "Movie",
          "Movie",
          "Movie",
          "Movie",
          "TV Show",
          "Movie",
          "Movie",
          "Movie",
          "Movie",
          "Movie",
          "TV Show",
          "Movie",
          "Movie",
          "Movie",
          "TV Show",
          "Movie",
          "Movie",
          "Movie",
          "Movie",
          "Movie",
          "Movie",
          "Movie",
          "Movie",
          "Movie",
          "Movie",
          "Movie",
          "Movie",
          "Movie",
          "Movie",
          "Movie",
          "Movie",
          "Movie",
          "Movie",
          "Movie",
          "Movie",
          "Movie",
          "Movie",
          "Movie",
          "Movie",
          "Movie",
          "Movie",
          "Movie",
          "Movie",
          "Movie",
          "Movie",
          "Movie",
          "Movie",
          "TV Show",
          "Movie",
          "Movie",
          "Movie",
          "Movie",
          "Movie",
          "Movie",
          "Movie",
          "Movie",
          "Movie",
          "Movie",
          "Movie",
          "Movie",
          "Movie",
          "Movie",
          "Movie",
          "Movie",
          "Movie",
          "Movie",
          "Movie",
          "TV Show",
          "Movie",
          "TV Show",
          "Movie",
          "Movie",
          "Movie",
          "Movie",
          "Movie",
          "Movie",
          "Movie",
          "Movie",
          "Movie",
          "Movie",
          "Movie",
          "Movie",
          "Movie",
          "Movie",
          "Movie",
          "Movie",
          "Movie",
          "Movie",
          "Movie",
          "TV Show",
          "Movie",
          "Movie",
          "Movie",
          "Movie",
          "Movie",
          "Movie",
          "Movie",
          "Movie",
          "Movie",
          "Movie",
          "Movie",
          "Movie",
          "Movie",
          "Movie",
          "Movie",
          "Movie",
          "Movie",
          "Movie",
          "Movie",
          "Movie",
          "Movie",
          "Movie",
          "Movie",
          "Movie",
          "Movie",
          "Movie",
          "Movie",
          "Movie",
          "Movie",
          "Movie",
          "Movie",
          "Movie",
          "Movie",
          "Movie",
          "Movie",
          "Movie",
          "TV Show",
          "Movie",
          "TV Show",
          "Movie",
          "Movie",
          "Movie",
          "Movie",
          "Movie",
          "Movie",
          "Movie",
          "Movie",
          "TV Show",
          "Movie",
          "Movie",
          "Movie",
          "Movie",
          "Movie",
          "Movie",
          "Movie",
          "Movie",
          "Movie",
          "Movie",
          "Movie",
          "Movie",
          "Movie",
          "Movie",
          "Movie",
          "Movie",
          "Movie",
          "Movie",
          "TV Show",
          "Movie",
          "Movie",
          "Movie",
          "Movie",
          "Movie",
          "Movie",
          "Movie",
          "Movie",
          "TV Show",
          "Movie",
          "Movie",
          "Movie",
          "Movie",
          "Movie",
          "Movie",
          "Movie",
          "Movie",
          "Movie",
          "Movie",
          "Movie",
          "Movie",
          "Movie",
          "Movie",
          "Movie",
          "Movie",
          "Movie",
          "Movie",
          "Movie",
          "Movie",
          "Movie",
          "Movie",
          "Movie",
          "Movie",
          "Movie",
          "Movie",
          "Movie",
          "TV Show",
          "Movie",
          "Movie",
          "Movie",
          "Movie",
          "Movie",
          "Movie",
          "Movie",
          "TV Show",
          "Movie",
          "TV Show",
          "TV Show",
          "Movie",
          "Movie",
          "Movie",
          "Movie",
          "TV Show",
          "Movie",
          "Movie",
          "Movie",
          "Movie",
          "Movie",
          "Movie",
          "Movie",
          "Movie",
          "Movie",
          "Movie",
          "TV Show",
          "TV Show",
          "Movie",
          "Movie",
          "Movie",
          "Movie",
          "Movie",
          "Movie",
          "Movie",
          "Movie",
          "Movie",
          "Movie",
          "Movie",
          "Movie",
          "Movie",
          "TV Show",
          "TV Show",
          "Movie",
          "Movie",
          "Movie",
          "Movie",
          "Movie",
          "Movie",
          "Movie",
          "Movie",
          "Movie",
          "Movie",
          "Movie",
          "Movie",
          "Movie",
          "Movie",
          "Movie",
          "Movie",
          "Movie",
          "Movie",
          "Movie",
          "Movie",
          "Movie",
          "Movie",
          "Movie",
          "Movie",
          "Movie",
          "Movie",
          "Movie",
          "Movie",
          "Movie",
          "Movie",
          "Movie",
          "Movie",
          "Movie",
          "Movie",
          "Movie",
          "Movie",
          "Movie",
          "Movie",
          "Movie",
          "Movie",
          "Movie",
          "Movie",
          "Movie",
          "TV Show",
          "Movie",
          "Movie",
          "Movie",
          "Movie",
          "Movie",
          "Movie",
          "Movie",
          "Movie",
          "Movie",
          "Movie",
          "Movie",
          "Movie",
          "Movie",
          "Movie",
          "Movie",
          "Movie",
          "Movie",
          "Movie",
          "Movie",
          "Movie",
          "Movie",
          "Movie",
          "Movie",
          "Movie",
          "Movie",
          "Movie",
          "Movie",
          "Movie",
          "Movie",
          "TV Show",
          "Movie",
          "Movie",
          "Movie",
          "Movie",
          "Movie",
          "Movie",
          "TV Show",
          "Movie",
          "Movie",
          "Movie",
          "Movie",
          "Movie",
          "Movie",
          "Movie",
          "TV Show",
          "Movie",
          "Movie",
          "Movie",
          "Movie",
          "Movie",
          "Movie",
          "TV Show",
          "Movie",
          "Movie",
          "Movie",
          "Movie",
          "Movie",
          "Movie",
          "Movie",
          "Movie",
          "Movie",
          "Movie",
          "Movie",
          "Movie",
          "Movie",
          "Movie",
          "Movie",
          "Movie",
          "Movie",
          "Movie",
          "Movie",
          "Movie",
          "TV Show",
          "Movie",
          "Movie",
          "Movie",
          "Movie",
          "Movie",
          "Movie",
          "Movie",
          "Movie",
          "Movie",
          "Movie",
          "Movie",
          "Movie",
          "Movie",
          "Movie",
          "Movie",
          "TV Show",
          "Movie",
          "Movie",
          "Movie",
          "Movie",
          "TV Show",
          "Movie",
          "Movie",
          "Movie",
          "Movie",
          "Movie",
          "Movie",
          "Movie",
          "Movie",
          "Movie",
          "Movie",
          "Movie",
          "Movie",
          "Movie",
          "Movie",
          "Movie",
          "Movie",
          "Movie",
          "Movie",
          "Movie",
          "Movie",
          "Movie",
          "Movie",
          "Movie",
          "Movie",
          "Movie",
          "Movie",
          "Movie",
          "Movie",
          "Movie",
          "Movie",
          "Movie",
          "Movie",
          "Movie",
          "TV Show",
          "Movie",
          "Movie",
          "Movie",
          "Movie",
          "Movie",
          "Movie",
          "Movie",
          "Movie",
          "Movie",
          "Movie",
          "Movie",
          "Movie",
          "Movie",
          "Movie",
          "Movie",
          "Movie",
          "Movie",
          "Movie",
          "Movie",
          "Movie",
          "Movie",
          "Movie",
          "Movie",
          "Movie",
          "TV Show",
          "Movie",
          "Movie",
          "Movie",
          "Movie",
          "Movie",
          "Movie",
          "Movie",
          "Movie",
          "Movie",
          "Movie",
          "Movie",
          "Movie",
          "Movie",
          "Movie",
          "Movie",
          "Movie",
          "Movie",
          "Movie",
          "Movie",
          "Movie",
          "Movie",
          "Movie",
          "Movie",
          "Movie",
          "Movie",
          "Movie",
          "Movie",
          "Movie",
          "Movie",
          "Movie",
          "Movie",
          "Movie",
          "Movie",
          "Movie",
          "Movie",
          "Movie",
          "Movie",
          "Movie",
          "Movie",
          "Movie",
          "Movie",
          "Movie",
          "Movie",
          "Movie",
          "Movie",
          "Movie",
          "Movie",
          "Movie",
          "Movie",
          "Movie",
          "Movie",
          "Movie",
          "Movie",
          "Movie",
          "Movie",
          "Movie",
          "Movie",
          "Movie",
          "Movie",
          "Movie",
          "Movie",
          "Movie",
          "Movie",
          "Movie",
          "Movie",
          "Movie",
          "Movie",
          "Movie",
          "Movie",
          "Movie",
          "Movie",
          "Movie",
          "Movie",
          "Movie",
          "Movie",
          "Movie",
          "Movie",
          "TV Show",
          "Movie",
          "Movie",
          "Movie",
          "Movie",
          "Movie",
          "Movie",
          "Movie",
          "Movie",
          "Movie",
          "Movie",
          "Movie",
          "Movie",
          "Movie",
          "Movie",
          "Movie",
          "TV Show",
          "Movie",
          "Movie",
          "Movie",
          "Movie",
          "Movie",
          "Movie",
          "Movie",
          "Movie",
          "TV Show",
          "Movie",
          "Movie",
          "Movie",
          "Movie",
          "Movie",
          "Movie",
          "Movie",
          "Movie",
          "Movie",
          "Movie",
          "Movie",
          "Movie",
          "Movie",
          "Movie",
          "Movie",
          "Movie",
          "Movie",
          "Movie",
          "Movie",
          "Movie",
          "Movie",
          "Movie",
          "Movie",
          "Movie",
          "Movie",
          "Movie",
          "Movie",
          "Movie",
          "Movie",
          "Movie",
          "Movie",
          "TV Show",
          "Movie",
          "Movie",
          "Movie",
          "Movie",
          "Movie",
          "Movie",
          "Movie",
          "Movie",
          "Movie",
          "Movie",
          "Movie",
          "Movie",
          "Movie",
          "Movie",
          "TV Show",
          "Movie",
          "Movie",
          "Movie",
          "Movie",
          "Movie",
          "Movie",
          "Movie",
          "Movie",
          "Movie",
          "Movie",
          "Movie",
          "Movie",
          "Movie",
          "Movie",
          "Movie",
          "Movie",
          "Movie",
          "Movie",
          "Movie",
          "Movie",
          "Movie",
          "Movie",
          "Movie",
          "Movie",
          "Movie",
          "Movie",
          "Movie",
          "Movie",
          "Movie",
          "Movie",
          "Movie",
          "Movie",
          "Movie",
          "Movie",
          "Movie",
          "Movie",
          "Movie",
          "Movie",
          "Movie",
          "Movie",
          "Movie",
          "TV Show",
          "Movie",
          "Movie",
          "Movie",
          "Movie",
          "Movie",
          "Movie",
          "Movie",
          "Movie",
          "Movie",
          "Movie",
          "Movie",
          "Movie",
          "Movie",
          "Movie",
          "Movie",
          "Movie",
          "Movie",
          "Movie",
          "Movie",
          "Movie",
          "Movie",
          "Movie",
          "TV Show",
          "Movie",
          "Movie",
          "Movie",
          "Movie",
          "Movie",
          "Movie",
          "Movie",
          "Movie",
          "Movie",
          "Movie",
          "Movie",
          "Movie",
          "Movie",
          "Movie",
          "Movie",
          "Movie",
          "Movie",
          "TV Show",
          "Movie",
          "Movie",
          "Movie",
          "TV Show",
          "Movie",
          "Movie",
          "Movie",
          "Movie",
          "Movie",
          "Movie",
          "Movie",
          "Movie",
          "Movie",
          "Movie",
          "Movie",
          "Movie",
          "Movie",
          "Movie",
          "Movie",
          "Movie",
          "TV Show",
          "Movie",
          "Movie",
          "Movie",
          "Movie",
          "Movie",
          "Movie",
          "Movie",
          "Movie",
          "Movie",
          "Movie",
          "Movie",
          "Movie",
          "Movie",
          "Movie",
          "Movie",
          "Movie",
          "Movie",
          "Movie",
          "Movie",
          "Movie",
          "Movie",
          "Movie",
          "Movie",
          "Movie",
          "Movie",
          "TV Show",
          "Movie",
          "Movie",
          "Movie",
          "Movie",
          "Movie",
          "Movie",
          "Movie",
          "Movie",
          "Movie",
          "Movie",
          "Movie",
          "Movie",
          "Movie",
          "Movie",
          "Movie",
          "Movie",
          "Movie",
          "Movie",
          "Movie",
          "Movie",
          "Movie",
          "Movie",
          "Movie",
          "Movie",
          "Movie",
          "Movie",
          "Movie",
          "Movie",
          "Movie",
          "Movie",
          "Movie",
          "Movie",
          "Movie",
          "Movie",
          "Movie",
          "Movie",
          "Movie",
          "Movie",
          "Movie",
          "Movie",
          "Movie",
          "Movie",
          "Movie",
          "Movie",
          "Movie",
          "Movie",
          "Movie",
          "Movie",
          "Movie",
          "Movie",
          "Movie",
          "Movie",
          "Movie",
          "Movie",
          "Movie",
          "Movie",
          "Movie",
          "Movie",
          "Movie",
          "Movie",
          "Movie",
          "Movie",
          "Movie",
          "Movie",
          "Movie",
          "Movie",
          "Movie",
          "TV Show",
          "Movie",
          "Movie",
          "Movie",
          "Movie",
          "Movie",
          "Movie",
          "Movie",
          "Movie",
          "Movie",
          "Movie",
          "Movie",
          "TV Show",
          "Movie",
          "Movie",
          "Movie",
          "Movie",
          "Movie",
          "Movie",
          "Movie",
          "Movie",
          "Movie",
          "Movie",
          "Movie",
          "Movie",
          "Movie",
          "Movie",
          "Movie",
          "Movie",
          "Movie",
          "Movie",
          "Movie",
          "Movie",
          "TV Show",
          "Movie",
          "Movie",
          "Movie",
          "Movie",
          "Movie",
          "Movie",
          "Movie",
          "Movie",
          "Movie",
          "Movie",
          "Movie",
          "TV Show",
          "Movie",
          "Movie",
          "Movie",
          "Movie",
          "Movie",
          "Movie",
          "Movie",
          "Movie",
          "TV Show",
          "Movie",
          "Movie",
          "Movie",
          "Movie",
          "Movie",
          "Movie",
          "Movie",
          "Movie",
          "Movie",
          "Movie",
          "Movie",
          "Movie",
          "Movie",
          "Movie",
          "Movie",
          "Movie",
          "Movie",
          "Movie",
          "Movie",
          "Movie",
          "Movie",
          "Movie",
          "TV Show",
          "Movie",
          "Movie",
          "Movie",
          "Movie",
          "Movie",
          "Movie",
          "Movie",
          "Movie",
          "Movie",
          "TV Show",
          "TV Show",
          "Movie",
          "Movie",
          "Movie",
          "Movie",
          "Movie",
          "Movie",
          "Movie",
          "Movie",
          "Movie",
          "Movie",
          "Movie",
          "Movie",
          "Movie",
          "Movie",
          "Movie",
          "Movie",
          "TV Show",
          "Movie",
          "Movie",
          "TV Show",
          "Movie",
          "Movie",
          "TV Show",
          "Movie",
          "Movie",
          "Movie",
          "Movie",
          "Movie",
          "Movie",
          "TV Show",
          "Movie",
          "Movie",
          "Movie",
          "Movie",
          "Movie",
          "Movie",
          "Movie",
          "Movie",
          "Movie",
          "Movie",
          "Movie",
          "Movie",
          "Movie",
          "Movie",
          "Movie",
          "Movie",
          "Movie",
          "Movie",
          "TV Show",
          "TV Show",
          "Movie",
          "Movie",
          "Movie",
          "Movie",
          "Movie",
          "Movie",
          "Movie",
          "Movie",
          "Movie",
          "Movie",
          "Movie",
          "Movie",
          "Movie",
          "Movie",
          "Movie",
          "Movie",
          "Movie",
          "Movie",
          "Movie",
          "Movie",
          "Movie",
          "Movie",
          "Movie",
          "Movie",
          "Movie",
          "Movie",
          "Movie",
          "Movie",
          "Movie",
          "Movie",
          "Movie",
          "Movie",
          "Movie",
          "Movie",
          "Movie",
          "Movie",
          "Movie",
          "Movie",
          "Movie",
          "Movie",
          "Movie",
          "TV Show",
          "Movie",
          "Movie",
          "Movie",
          "Movie",
          "Movie",
          "Movie",
          "Movie",
          "TV Show",
          "Movie",
          "Movie",
          "Movie",
          "Movie",
          "Movie",
          "Movie",
          "Movie",
          "Movie",
          "Movie",
          "Movie",
          "Movie",
          "Movie",
          "Movie",
          "Movie",
          "Movie",
          "TV Show",
          "Movie",
          "Movie",
          "Movie",
          "Movie",
          "Movie",
          "Movie",
          "Movie",
          "Movie",
          "Movie",
          "Movie",
          "Movie",
          "Movie",
          "Movie",
          "Movie",
          "Movie",
          "Movie",
          "Movie",
          "Movie",
          "Movie",
          "Movie",
          "Movie",
          "Movie",
          "Movie",
          "Movie",
          "Movie",
          "Movie",
          "Movie",
          "Movie",
          "Movie",
          "Movie",
          "Movie",
          "Movie",
          "Movie",
          "Movie",
          "Movie",
          "Movie",
          "Movie",
          "Movie",
          "Movie",
          "Movie",
          "Movie",
          "Movie",
          "TV Show",
          "Movie",
          "Movie",
          "Movie",
          "Movie",
          "Movie",
          "Movie",
          "Movie",
          "Movie",
          "Movie",
          "Movie",
          "Movie",
          "Movie",
          "Movie",
          "Movie",
          "Movie",
          "Movie",
          "Movie",
          "Movie",
          "Movie",
          "Movie",
          "Movie",
          "Movie",
          "Movie",
          "TV Show",
          "Movie",
          "Movie",
          "Movie",
          "Movie",
          "Movie",
          "Movie",
          "Movie",
          "Movie",
          "Movie",
          "TV Show",
          "Movie",
          "Movie",
          "Movie",
          "Movie",
          "Movie",
          "Movie",
          "TV Show",
          "Movie",
          "Movie",
          "Movie",
          "Movie",
          "Movie",
          "Movie",
          "Movie",
          "Movie",
          "Movie",
          "Movie",
          "Movie",
          "Movie",
          "Movie",
          "Movie",
          "Movie",
          "Movie",
          "Movie",
          "Movie",
          "Movie",
          "TV Show",
          "Movie",
          "Movie",
          "Movie",
          "Movie",
          "Movie",
          "Movie",
          "Movie",
          "Movie",
          "Movie",
          "Movie",
          "Movie",
          "Movie",
          "Movie",
          "Movie",
          "Movie",
          "Movie",
          "Movie",
          "Movie",
          "Movie",
          "Movie",
          "Movie",
          "Movie",
          "TV Show",
          "Movie",
          "Movie",
          "Movie",
          "Movie",
          "Movie",
          "Movie",
          "Movie",
          "Movie",
          "TV Show",
          "Movie",
          "Movie",
          "Movie",
          "Movie",
          "Movie",
          "Movie",
          "Movie",
          "Movie",
          "Movie",
          "TV Show",
          "Movie",
          "Movie",
          "Movie",
          "Movie",
          "Movie",
          "Movie",
          "Movie",
          "Movie",
          "Movie",
          "Movie",
          "Movie",
          "TV Show",
          "Movie",
          "Movie",
          "Movie",
          "Movie",
          "Movie",
          "Movie",
          "Movie",
          "Movie",
          "Movie",
          "Movie",
          "Movie",
          "Movie",
          "Movie",
          "TV Show",
          "TV Show",
          "Movie",
          "Movie",
          "Movie",
          "Movie",
          "Movie",
          "Movie",
          "Movie",
          "Movie",
          "Movie",
          "Movie",
          "TV Show",
          "Movie",
          "Movie",
          "Movie",
          "Movie",
          "Movie",
          "Movie",
          "Movie",
          "Movie",
          "Movie",
          "Movie",
          "Movie",
          "Movie",
          "Movie",
          "Movie",
          "Movie",
          "Movie",
          "Movie",
          "TV Show",
          "Movie",
          "Movie",
          "Movie",
          "Movie",
          "Movie",
          "Movie",
          "Movie",
          "Movie",
          "Movie",
          "Movie",
          "Movie",
          "Movie",
          "Movie",
          "Movie",
          "Movie",
          "Movie",
          "Movie",
          "Movie",
          "Movie",
          "Movie",
          "Movie",
          "TV Show",
          "Movie",
          "Movie",
          "Movie",
          "Movie",
          "Movie",
          "Movie",
          "Movie",
          "Movie",
          "Movie",
          "Movie",
          "Movie",
          "Movie",
          "Movie",
          "Movie",
          "Movie",
          "Movie",
          "TV Show",
          "Movie",
          "Movie",
          "Movie",
          "Movie",
          "Movie",
          "Movie",
          "Movie",
          "Movie",
          "Movie",
          "Movie",
          "Movie",
          "Movie",
          "Movie",
          "TV Show",
          "Movie",
          "Movie",
          "Movie",
          "Movie",
          "Movie",
          "Movie",
          "Movie",
          "Movie",
          "Movie",
          "Movie",
          "Movie",
          "Movie",
          "Movie",
          "Movie",
          "Movie",
          "Movie",
          "Movie",
          "TV Show",
          "Movie",
          "Movie",
          "Movie",
          "Movie",
          "TV Show",
          "Movie",
          "Movie",
          "Movie",
          "Movie",
          "Movie",
          "Movie",
          "TV Show",
          "Movie",
          "Movie",
          "Movie",
          "Movie",
          "Movie",
          "Movie",
          "Movie",
          "Movie",
          "Movie",
          "Movie",
          "Movie",
          "Movie",
          "Movie",
          "Movie",
          "Movie",
          "Movie",
          "TV Show",
          "Movie",
          "Movie",
          "Movie",
          "Movie",
          "Movie",
          "Movie",
          "Movie",
          "Movie",
          "Movie",
          "Movie",
          "Movie",
          "Movie",
          "Movie",
          "Movie",
          "TV Show",
          "Movie",
          "Movie",
          "Movie",
          "Movie",
          "Movie",
          "Movie",
          "Movie",
          "Movie",
          "Movie",
          "Movie",
          "Movie",
          "Movie",
          "Movie",
          "Movie",
          "Movie",
          "Movie",
          "Movie",
          "Movie",
          "Movie",
          "Movie",
          "Movie",
          "Movie",
          "Movie",
          "Movie",
          "Movie",
          "Movie",
          "Movie",
          "Movie",
          "Movie",
          "Movie",
          "Movie",
          "Movie",
          "Movie",
          "Movie",
          "Movie",
          "Movie",
          "Movie",
          "Movie",
          "Movie",
          "Movie",
          "Movie",
          "Movie",
          "TV Show",
          "Movie",
          "Movie",
          "Movie",
          "Movie",
          "Movie",
          "Movie",
          "Movie",
          "Movie",
          "Movie",
          "Movie",
          "Movie",
          "Movie",
          "Movie",
          "Movie",
          "Movie",
          "Movie",
          "Movie",
          "Movie",
          "Movie",
          "Movie",
          "Movie",
          "Movie",
          "Movie",
          "Movie",
          "Movie",
          "Movie",
          "Movie",
          "Movie",
          "Movie",
          "Movie",
          "Movie",
          "Movie",
          "Movie",
          "Movie",
          "Movie",
          "Movie",
          "Movie",
          "Movie",
          "Movie",
          "Movie",
          "Movie",
          "Movie",
          "Movie",
          "Movie",
          "Movie",
          "Movie",
          "Movie",
          "Movie",
          "Movie",
          "Movie",
          "Movie",
          "Movie",
          "Movie",
          "Movie",
          "Movie",
          "Movie",
          "Movie",
          "Movie",
          "TV Show",
          "TV Show",
          "Movie",
          "Movie",
          "Movie",
          "Movie",
          "TV Show",
          "Movie",
          "Movie",
          "Movie",
          "Movie",
          "Movie",
          "Movie",
          "Movie",
          "Movie",
          "Movie",
          "Movie",
          "Movie",
          "Movie",
          "Movie",
          "Movie",
          "Movie",
          "Movie",
          "Movie",
          "Movie",
          "Movie",
          "Movie",
          "Movie",
          "Movie",
          "Movie",
          "Movie",
          "Movie",
          "Movie",
          "Movie",
          "Movie",
          "Movie",
          "Movie",
          "TV Show",
          "Movie",
          "Movie",
          "Movie",
          "Movie",
          "Movie",
          "Movie",
          "Movie",
          "Movie",
          "Movie",
          "Movie",
          "Movie",
          "Movie",
          "Movie",
          "Movie",
          "Movie",
          "Movie",
          "Movie",
          "Movie",
          "Movie",
          "Movie",
          "TV Show",
          "Movie",
          "Movie",
          "Movie",
          "Movie",
          "Movie",
          "Movie",
          "Movie",
          "TV Show",
          "Movie",
          "Movie",
          "Movie",
          "Movie",
          "Movie",
          "Movie",
          "Movie",
          "Movie",
          "Movie",
          "Movie",
          "Movie",
          "Movie",
          "Movie",
          "Movie",
          "Movie",
          "Movie",
          "TV Show",
          "TV Show",
          "Movie",
          "Movie",
          "Movie",
          "Movie",
          "Movie",
          "Movie",
          "Movie",
          "Movie",
          "Movie",
          "Movie",
          "Movie",
          "Movie",
          "Movie",
          "TV Show",
          "Movie",
          "Movie",
          "Movie",
          "Movie",
          "Movie",
          "Movie",
          "Movie",
          "Movie",
          "Movie",
          "TV Show",
          "Movie",
          "Movie",
          "Movie",
          "Movie",
          "Movie",
          "Movie",
          "TV Show",
          "Movie",
          "Movie",
          "Movie",
          "Movie",
          "Movie",
          "Movie",
          "Movie",
          "Movie",
          "Movie",
          "Movie",
          "Movie",
          "Movie",
          "Movie",
          "Movie",
          "Movie",
          "Movie",
          "Movie",
          "Movie",
          "Movie",
          "TV Show",
          "Movie",
          "TV Show",
          "TV Show",
          "Movie",
          "Movie",
          "Movie",
          "Movie",
          "Movie",
          "Movie",
          "Movie",
          "TV Show",
          "Movie",
          "TV Show",
          "TV Show",
          "Movie",
          "Movie",
          "Movie",
          "Movie",
          "Movie",
          "Movie",
          "Movie",
          "Movie",
          "Movie",
          "Movie",
          "Movie",
          "Movie",
          "Movie",
          "Movie",
          "Movie",
          "Movie",
          "Movie",
          "Movie",
          "Movie",
          "Movie",
          "Movie",
          "Movie",
          "Movie",
          "Movie",
          "Movie",
          "Movie",
          "Movie",
          "TV Show",
          "Movie",
          "Movie",
          "Movie",
          "Movie",
          "Movie",
          "Movie",
          "Movie",
          "Movie",
          "Movie",
          "Movie",
          "Movie",
          "Movie",
          "Movie",
          "Movie",
          "Movie",
          "Movie",
          "Movie",
          "Movie",
          "Movie",
          "Movie",
          "Movie",
          "Movie",
          "Movie",
          "Movie",
          "Movie",
          "Movie",
          "Movie",
          "TV Show",
          "Movie",
          "Movie",
          "Movie",
          "Movie",
          "Movie",
          "Movie",
          "Movie",
          "Movie",
          "Movie",
          "Movie",
          "Movie",
          "Movie",
          "TV Show",
          "Movie",
          "Movie",
          "Movie",
          "Movie",
          "Movie",
          "Movie",
          "Movie",
          "Movie",
          "Movie",
          "Movie",
          "Movie",
          "Movie",
          "Movie",
          "Movie",
          "Movie",
          "Movie",
          "Movie",
          "Movie",
          "Movie",
          "Movie",
          "Movie",
          "Movie",
          "Movie",
          "Movie",
          "Movie",
          "Movie",
          "Movie",
          "Movie",
          "Movie",
          "Movie",
          "Movie",
          "Movie",
          "Movie",
          "Movie",
          "Movie",
          "Movie",
          "Movie",
          "TV Show",
          "Movie",
          "Movie",
          "Movie",
          "Movie",
          "Movie",
          "Movie",
          "Movie",
          "Movie",
          "Movie",
          "Movie",
          "Movie",
          "Movie",
          "Movie",
          "Movie",
          "Movie",
          "Movie",
          "Movie",
          "Movie",
          "Movie",
          "Movie",
          "Movie",
          "Movie",
          "Movie",
          "TV Show",
          "Movie",
          "Movie",
          "Movie",
          "Movie",
          "Movie",
          "Movie",
          "Movie",
          "Movie",
          "Movie",
          "Movie",
          "Movie",
          "Movie",
          "Movie",
          "TV Show",
          "Movie",
          "Movie",
          "Movie",
          "Movie",
          "Movie",
          "Movie",
          "Movie",
          "Movie",
          "Movie",
          "Movie",
          "Movie",
          "Movie",
          "Movie",
          "Movie",
          "Movie",
          "Movie",
          "Movie",
          "Movie",
          "Movie",
          "Movie",
          "Movie",
          "Movie",
          "Movie",
          "Movie",
          "Movie",
          "Movie",
          "Movie",
          "Movie",
          "TV Show",
          "Movie",
          "Movie",
          "Movie",
          "Movie",
          "Movie",
          "Movie",
          "Movie",
          "Movie",
          "TV Show",
          "Movie",
          "Movie",
          "Movie",
          "Movie",
          "Movie",
          "Movie",
          "Movie",
          "Movie",
          "Movie",
          "Movie",
          "Movie",
          "Movie",
          "Movie",
          "Movie",
          "Movie",
          "Movie",
          "Movie",
          "Movie",
          "Movie",
          "Movie",
          "Movie",
          "Movie",
          "Movie",
          "Movie",
          "Movie",
          "Movie",
          "Movie",
          "Movie",
          "Movie",
          "Movie",
          "Movie",
          "Movie",
          "Movie",
          "Movie",
          "Movie",
          "Movie",
          "Movie",
          "Movie",
          "Movie",
          "Movie",
          "Movie",
          "Movie",
          "Movie",
          "Movie",
          "Movie",
          "Movie",
          "Movie",
          "Movie",
          "Movie",
          "Movie",
          "Movie",
          "Movie",
          "Movie",
          "Movie",
          "Movie",
          "Movie",
          "Movie",
          "Movie",
          "Movie",
          "Movie",
          "Movie",
          "Movie",
          "Movie",
          "Movie",
          "Movie",
          "Movie",
          "Movie",
          "Movie",
          "Movie",
          "Movie",
          "Movie",
          "Movie",
          "Movie",
          "Movie",
          "Movie",
          "Movie",
          "Movie",
          "Movie",
          "Movie",
          "Movie",
          "Movie",
          "Movie",
          "Movie",
          "Movie",
          "Movie",
          "Movie",
          "Movie",
          "Movie",
          "Movie",
          "Movie",
          "Movie",
          "Movie",
          "Movie",
          "Movie",
          "Movie",
          "Movie",
          "Movie",
          "Movie",
          "Movie",
          "Movie",
          "Movie",
          "Movie",
          "Movie",
          "Movie",
          "Movie",
          "Movie",
          "TV Show",
          "Movie",
          "Movie",
          "Movie",
          "Movie",
          "Movie",
          "Movie",
          "Movie",
          "Movie",
          "Movie",
          "Movie",
          "Movie",
          "Movie",
          "Movie",
          "Movie",
          "Movie",
          "Movie",
          "Movie",
          "Movie",
          "Movie",
          "Movie",
          "Movie",
          "Movie",
          "Movie",
          "Movie",
          "Movie",
          "Movie",
          "Movie",
          "Movie",
          "Movie",
          "Movie",
          "Movie",
          "Movie",
          "Movie",
          "Movie",
          "Movie",
          "Movie",
          "Movie",
          "Movie",
          "Movie",
          "TV Show",
          "Movie",
          "Movie",
          "Movie",
          "Movie",
          "Movie",
          "Movie",
          "Movie",
          "Movie",
          "Movie",
          "Movie",
          "Movie",
          "Movie",
          "Movie",
          "Movie",
          "Movie",
          "Movie",
          "Movie",
          "Movie",
          "Movie",
          "Movie",
          "Movie",
          "Movie",
          "Movie",
          "Movie",
          "Movie",
          "Movie",
          "Movie",
          "Movie",
          "Movie",
          "Movie",
          "Movie",
          "Movie",
          "Movie",
          "Movie",
          "Movie",
          "Movie",
          "Movie",
          "Movie",
          "Movie",
          "Movie",
          "Movie",
          "Movie",
          "Movie",
          "Movie",
          "Movie",
          "Movie",
          "Movie",
          "Movie",
          "Movie",
          "TV Show",
          "Movie",
          "Movie",
          "Movie",
          "TV Show",
          "Movie",
          "Movie",
          "Movie",
          "Movie",
          "Movie",
          "Movie",
          "Movie",
          "Movie",
          "Movie",
          "Movie",
          "TV Show",
          "Movie",
          "Movie",
          "Movie",
          "Movie",
          "Movie",
          "Movie",
          "Movie",
          "Movie",
          "Movie",
          "Movie",
          "Movie",
          "Movie",
          "Movie",
          "Movie",
          "Movie",
          "Movie",
          "Movie",
          "Movie",
          "Movie",
          "Movie",
          "Movie",
          "Movie",
          "Movie",
          "Movie",
          "TV Show",
          "Movie",
          "Movie",
          "Movie",
          "Movie",
          "Movie",
          "Movie",
          "Movie",
          "Movie",
          "Movie",
          "Movie",
          "Movie",
          "Movie",
          "Movie",
          "Movie",
          "Movie",
          "Movie",
          "Movie",
          "Movie",
          "Movie",
          "Movie",
          "Movie",
          "Movie",
          "Movie",
          "Movie",
          "Movie",
          "Movie",
          "Movie",
          "Movie",
          "Movie",
          "Movie",
          "Movie",
          "Movie",
          "Movie",
          "Movie",
          "Movie",
          "Movie",
          "Movie",
          "Movie",
          "Movie",
          "Movie",
          "Movie",
          "Movie",
          "Movie",
          "Movie",
          "Movie",
          "Movie",
          "Movie",
          "Movie",
          "Movie",
          "Movie",
          "Movie",
          "Movie",
          "Movie",
          "Movie",
          "Movie",
          "Movie",
          "Movie",
          "Movie",
          "Movie",
          "Movie",
          "Movie",
          "Movie",
          "Movie",
          "Movie",
          "Movie",
          "Movie",
          "Movie",
          "Movie",
          "Movie",
          "Movie",
          "Movie",
          "Movie",
          "Movie",
          "Movie",
          "Movie",
          "Movie",
          "Movie",
          "Movie",
          "Movie",
          "Movie",
          "Movie",
          "Movie",
          "Movie",
          "Movie",
          "Movie",
          "Movie",
          "Movie",
          "Movie",
          "Movie",
          "Movie",
          "Movie",
          "Movie",
          "Movie",
          "Movie",
          "Movie",
          "Movie",
          "Movie",
          "Movie",
          "Movie",
          "Movie",
          "Movie",
          "Movie",
          "Movie",
          "Movie",
          "Movie",
          "Movie",
          "Movie",
          "Movie",
          "Movie",
          "Movie",
          "Movie",
          "Movie",
          "Movie",
          "Movie",
          "Movie",
          "Movie",
          "Movie",
          "Movie",
          "Movie",
          "Movie",
          "Movie",
          "Movie",
          "Movie",
          "Movie",
          "Movie",
          "Movie",
          "Movie",
          "TV Show",
          "Movie",
          "Movie",
          "Movie",
          "Movie",
          "Movie",
          "Movie",
          "Movie",
          "Movie",
          "Movie",
          "Movie",
          "Movie",
          "Movie",
          "Movie",
          "Movie",
          "Movie",
          "Movie",
          "Movie",
          "Movie",
          "Movie",
          "Movie",
          "Movie",
          "Movie",
          "Movie",
          "Movie",
          "Movie",
          "Movie",
          "Movie",
          "Movie",
          "Movie",
          "Movie",
          "Movie",
          "Movie",
          "Movie",
          "Movie",
          "Movie",
          "Movie",
          "Movie",
          "Movie",
          "Movie",
          "TV Show",
          "Movie",
          "Movie",
          "Movie",
          "Movie",
          "Movie",
          "Movie",
          "Movie",
          "Movie",
          "Movie",
          "Movie",
          "Movie",
          "Movie",
          "Movie",
          "Movie",
          "Movie",
          "Movie",
          "Movie",
          "Movie",
          "Movie",
          "Movie",
          "Movie",
          "Movie",
          "Movie",
          "Movie",
          "Movie",
          "Movie",
          "Movie",
          "Movie",
          "Movie",
          "Movie",
          "Movie",
          "Movie",
          "Movie",
          "Movie",
          "Movie",
          "Movie",
          "Movie",
          "Movie",
          "Movie",
          "Movie",
          "Movie",
          "Movie",
          "Movie",
          "Movie",
          "Movie",
          "Movie",
          "Movie",
          "Movie",
          "Movie",
          "Movie",
          "Movie",
          "Movie",
          "Movie",
          "Movie",
          "Movie",
          "Movie",
          "Movie",
          "Movie",
          "Movie",
          "Movie",
          "TV Show",
          "Movie",
          "Movie",
          "Movie",
          "Movie",
          "Movie",
          "Movie",
          "Movie",
          "Movie",
          "Movie",
          "Movie",
          "Movie",
          "Movie",
          "TV Show",
          "Movie",
          "TV Show",
          "Movie",
          "Movie",
          "Movie",
          "Movie",
          "Movie",
          "Movie",
          "Movie",
          "Movie",
          "Movie",
          "Movie",
          "Movie",
          "Movie",
          "Movie",
          "Movie",
          "Movie",
          "Movie",
          "Movie",
          "Movie",
          "Movie",
          "Movie",
          "Movie",
          "Movie",
          "Movie",
          "Movie",
          "Movie",
          "Movie",
          "Movie",
          "Movie",
          "Movie",
          "Movie",
          "Movie",
          "Movie",
          "Movie",
          "Movie",
          "Movie",
          "Movie",
          "Movie",
          "Movie",
          "Movie",
          "Movie",
          "Movie",
          "Movie",
          "Movie",
          "Movie",
          "Movie",
          "Movie",
          "Movie",
          "Movie",
          "Movie",
          "Movie",
          "Movie",
          "Movie",
          "Movie",
          "Movie",
          "Movie",
          "Movie",
          "Movie",
          "Movie",
          "Movie",
          "TV Show",
          "Movie",
          "Movie",
          "Movie",
          "Movie",
          "Movie",
          "Movie",
          "Movie",
          "Movie",
          "Movie",
          "Movie",
          "Movie",
          "Movie",
          "Movie",
          "Movie",
          "Movie",
          "Movie",
          "Movie",
          "Movie",
          "Movie",
          "Movie",
          "Movie",
          "Movie",
          "Movie",
          "Movie",
          "Movie",
          "Movie",
          "Movie",
          "Movie",
          "Movie",
          "Movie",
          "Movie",
          "Movie",
          "Movie",
          "Movie",
          "Movie",
          "Movie",
          "Movie",
          "Movie",
          "Movie",
          "Movie",
          "Movie",
          "Movie",
          "Movie",
          "TV Show",
          "Movie",
          "TV Show",
          "Movie",
          "Movie",
          "Movie",
          "Movie",
          "Movie",
          "Movie",
          "Movie",
          "Movie",
          "Movie",
          "Movie",
          "TV Show",
          "Movie",
          "Movie",
          "Movie",
          "Movie",
          "Movie",
          "Movie",
          "Movie",
          "TV Show",
          "Movie",
          "Movie",
          "Movie",
          "Movie",
          "Movie",
          "Movie",
          "Movie",
          "Movie",
          "Movie",
          "Movie",
          "Movie",
          "Movie",
          "Movie",
          "Movie",
          "Movie",
          "Movie",
          "Movie",
          "Movie",
          "Movie",
          "Movie",
          "Movie",
          "Movie",
          "Movie",
          "Movie",
          "Movie",
          "Movie",
          "TV Show",
          "Movie",
          "Movie",
          "Movie",
          "Movie",
          "Movie",
          "Movie",
          "Movie",
          "Movie",
          "Movie",
          "Movie",
          "Movie",
          "Movie",
          "Movie",
          "Movie",
          "Movie",
          "Movie",
          "Movie",
          "Movie",
          "Movie",
          "Movie",
          "Movie",
          "Movie",
          "Movie",
          "Movie",
          "Movie",
          "Movie",
          "Movie",
          "Movie",
          "Movie",
          "Movie",
          "Movie",
          "Movie",
          "Movie",
          "Movie",
          "Movie",
          "Movie",
          "Movie",
          "Movie",
          "Movie",
          "Movie",
          "Movie",
          "Movie",
          "Movie",
          "Movie",
          "Movie",
          "TV Show",
          "Movie",
          "Movie",
          "Movie",
          "Movie",
          "Movie",
          "Movie",
          "Movie",
          "Movie",
          "Movie",
          "Movie",
          "Movie",
          "Movie",
          "Movie",
          "Movie",
          "Movie",
          "TV Show",
          "Movie",
          "Movie",
          "Movie",
          "Movie",
          "Movie",
          "Movie",
          "Movie",
          "Movie",
          "Movie",
          "Movie",
          "Movie",
          "Movie",
          "Movie",
          "Movie",
          "Movie",
          "Movie",
          "Movie",
          "Movie",
          "Movie",
          "Movie",
          "Movie",
          "Movie",
          "Movie",
          "Movie",
          "Movie",
          "Movie",
          "Movie",
          "Movie",
          "Movie",
          "Movie",
          "Movie",
          "Movie",
          "Movie",
          "Movie",
          "Movie",
          "Movie",
          "Movie",
          "Movie",
          "Movie",
          "Movie",
          "Movie",
          "Movie",
          "TV Show",
          "Movie",
          "Movie",
          "Movie",
          "Movie",
          "Movie",
          "Movie",
          "Movie",
          "Movie",
          "Movie",
          "Movie",
          "Movie",
          "Movie",
          "Movie",
          "Movie",
          "Movie",
          "TV Show",
          "Movie",
          "Movie",
          "Movie",
          "Movie",
          "Movie",
          "Movie",
          "Movie",
          "Movie",
          "Movie",
          "TV Show",
          "Movie",
          "Movie",
          "TV Show",
          "TV Show",
          "Movie",
          "Movie",
          "Movie",
          "Movie",
          "Movie",
          "Movie",
          "Movie",
          "TV Show",
          "Movie",
          "Movie",
          "Movie",
          "Movie",
          "Movie",
          "Movie",
          "Movie",
          "Movie",
          "Movie",
          "Movie",
          "Movie",
          "Movie",
          "Movie",
          "Movie",
          "Movie",
          "Movie",
          "Movie",
          "Movie",
          "Movie",
          "Movie",
          "Movie",
          "TV Show",
          "Movie",
          "TV Show",
          "Movie",
          "Movie",
          "Movie",
          "Movie",
          "Movie",
          "Movie",
          "Movie",
          "Movie",
          "Movie",
          "Movie",
          "Movie",
          "Movie",
          "Movie",
          "Movie",
          "TV Show",
          "Movie",
          "Movie",
          "Movie",
          "Movie",
          "Movie",
          "Movie",
          "TV Show",
          "Movie",
          "Movie",
          "Movie",
          "Movie",
          "Movie",
          "Movie",
          "Movie",
          "Movie",
          "Movie",
          "Movie",
          "Movie",
          "Movie",
          "Movie",
          "Movie",
          "Movie",
          "Movie",
          "Movie",
          "Movie",
          "Movie",
          "Movie",
          "Movie",
          "Movie",
          "Movie",
          "Movie",
          "Movie",
          "Movie",
          "Movie",
          "Movie",
          "Movie",
          "Movie",
          "Movie",
          "Movie",
          "Movie",
          "Movie",
          "Movie",
          "Movie",
          "Movie",
          "Movie",
          "Movie",
          "Movie",
          "Movie",
          "Movie",
          "Movie",
          "Movie",
          "Movie",
          "Movie",
          "Movie",
          "Movie",
          "Movie",
          "Movie",
          "Movie",
          "Movie",
          "Movie",
          "Movie",
          "Movie",
          "Movie",
          "Movie",
          "Movie",
          "Movie",
          "Movie",
          "Movie",
          "Movie",
          "Movie",
          "Movie",
          "Movie",
          "Movie",
          "Movie",
          "Movie",
          "Movie",
          "Movie",
          "Movie",
          "Movie",
          "Movie",
          "Movie",
          "Movie",
          "Movie",
          "Movie",
          "Movie",
          "Movie",
          "Movie",
          "Movie",
          "Movie",
          "Movie",
          "Movie",
          "Movie",
          "Movie",
          "Movie",
          "Movie",
          "Movie",
          "Movie",
          "Movie",
          "Movie",
          "Movie",
          "Movie",
          "Movie",
          "Movie",
          "Movie",
          "Movie",
          "Movie",
          "Movie",
          "Movie",
          "Movie",
          "Movie",
          "Movie",
          "Movie",
          "Movie",
          "Movie",
          "Movie",
          "Movie",
          "Movie",
          "Movie",
          "Movie",
          "Movie",
          "TV Show",
          "Movie",
          "Movie",
          "Movie",
          "Movie",
          "TV Show",
          "Movie",
          "Movie",
          "Movie",
          "Movie",
          "Movie",
          "Movie",
          "Movie",
          "TV Show",
          "Movie",
          "Movie",
          "TV Show",
          "Movie",
          "Movie",
          "Movie",
          "Movie",
          "Movie",
          "Movie",
          "Movie",
          "Movie",
          "Movie",
          "Movie",
          "Movie",
          "Movie",
          "Movie",
          "Movie",
          "Movie",
          "Movie",
          "Movie",
          "Movie",
          "Movie",
          "TV Show",
          "Movie",
          "Movie",
          "TV Show",
          "Movie",
          "Movie",
          "Movie",
          "Movie",
          "Movie",
          "Movie",
          "Movie",
          "Movie",
          "Movie",
          "Movie",
          "Movie",
          "Movie",
          "Movie",
          "Movie",
          "Movie",
          "Movie",
          "Movie",
          "Movie",
          "Movie",
          "Movie",
          "Movie",
          "Movie",
          "Movie",
          "Movie",
          "Movie",
          "Movie",
          "Movie",
          "Movie",
          "Movie",
          "Movie",
          "Movie",
          "Movie",
          "Movie",
          "Movie",
          "Movie",
          "Movie",
          "Movie",
          "Movie",
          "Movie",
          "Movie",
          "Movie",
          "Movie",
          "Movie",
          "Movie",
          "Movie",
          "Movie",
          "Movie",
          "Movie",
          "Movie",
          "Movie",
          "Movie",
          "Movie",
          "Movie",
          "Movie",
          "Movie",
          "Movie",
          "Movie",
          "Movie",
          "Movie",
          "Movie",
          "Movie",
          "Movie",
          "Movie",
          "TV Show",
          "Movie",
          "Movie",
          "Movie",
          "Movie",
          "Movie",
          "Movie",
          "Movie",
          "Movie",
          "Movie",
          "Movie",
          "Movie",
          "Movie",
          "Movie",
          "Movie",
          "TV Show",
          "Movie",
          "Movie",
          "Movie",
          "Movie",
          "Movie",
          "Movie",
          "Movie",
          "Movie",
          "Movie",
          "Movie",
          "Movie",
          "Movie",
          "TV Show",
          "Movie",
          "Movie",
          "Movie",
          "Movie",
          "Movie",
          "Movie",
          "TV Show",
          "Movie",
          "Movie",
          "Movie",
          "Movie",
          "Movie",
          "Movie",
          "Movie",
          "Movie",
          "Movie",
          "Movie",
          "Movie",
          "Movie",
          "Movie",
          "Movie",
          "Movie",
          "Movie",
          "Movie",
          "Movie",
          "Movie",
          "Movie",
          "Movie",
          "Movie",
          "Movie",
          "Movie",
          "Movie",
          "Movie",
          "Movie",
          "Movie",
          "Movie",
          "Movie",
          "Movie",
          "Movie",
          "Movie",
          "Movie",
          "Movie",
          "Movie",
          "Movie",
          "Movie",
          "Movie",
          "Movie",
          "Movie",
          "Movie",
          "Movie",
          "Movie",
          "Movie",
          "Movie",
          "Movie",
          "Movie",
          "Movie",
          "Movie",
          "Movie",
          "Movie",
          "Movie",
          "Movie",
          "Movie",
          "Movie",
          "Movie",
          "Movie",
          "Movie",
          "Movie",
          "Movie",
          "Movie",
          "Movie",
          "Movie",
          "Movie",
          "Movie",
          "Movie",
          "Movie",
          "Movie",
          "Movie",
          "Movie",
          "Movie",
          "Movie",
          "Movie",
          "Movie",
          "Movie",
          "Movie",
          "Movie",
          "Movie",
          "TV Show",
          "Movie",
          "Movie",
          "Movie",
          "Movie",
          "Movie",
          "Movie",
          "Movie",
          "Movie",
          "Movie",
          "Movie",
          "Movie",
          "Movie",
          "Movie",
          "Movie",
          "Movie",
          "Movie",
          "Movie",
          "Movie",
          "Movie",
          "Movie",
          "Movie",
          "Movie",
          "Movie",
          "Movie",
          "Movie",
          "Movie",
          "Movie",
          "Movie",
          "Movie",
          "Movie",
          "Movie",
          "Movie",
          "Movie",
          "Movie",
          "Movie",
          "Movie",
          "Movie",
          "Movie",
          "Movie",
          "Movie",
          "Movie",
          "Movie",
          "Movie",
          "Movie",
          "Movie",
          "Movie",
          "Movie",
          "Movie",
          "Movie",
          "Movie",
          "Movie",
          "Movie",
          "Movie",
          "Movie",
          "Movie",
          "Movie",
          "Movie",
          "Movie",
          "Movie",
          "Movie",
          "Movie",
          "Movie",
          "TV Show",
          "Movie",
          "Movie",
          "Movie",
          "Movie",
          "Movie",
          "Movie",
          "Movie",
          "Movie",
          "Movie",
          "Movie",
          "Movie",
          "Movie",
          "Movie",
          "Movie",
          "Movie",
          "Movie",
          "Movie",
          "Movie",
          "Movie",
          "Movie",
          "Movie",
          "Movie",
          "Movie",
          "Movie",
          "Movie",
          "Movie",
          "Movie",
          "Movie",
          "Movie",
          "TV Show",
          "Movie",
          "Movie",
          "Movie",
          "Movie",
          "Movie",
          "Movie",
          "Movie",
          "Movie",
          "Movie",
          "Movie",
          "Movie",
          "Movie",
          "Movie",
          "Movie",
          "Movie",
          "Movie",
          "Movie",
          "Movie",
          "Movie",
          "Movie",
          "Movie",
          "Movie",
          "Movie",
          "Movie",
          "Movie",
          "Movie",
          "Movie",
          "Movie",
          "Movie",
          "Movie",
          "Movie",
          "Movie",
          "Movie",
          "Movie",
          "Movie",
          "TV Show",
          "Movie",
          "Movie",
          "Movie",
          "Movie",
          "Movie",
          "Movie",
          "Movie",
          "Movie",
          "Movie",
          "Movie",
          "Movie",
          "Movie",
          "Movie",
          "Movie",
          "Movie",
          "Movie",
          "Movie",
          "Movie",
          "Movie",
          "Movie",
          "Movie",
          "Movie",
          "Movie",
          "Movie",
          "Movie",
          "Movie",
          "Movie",
          "Movie",
          "Movie",
          "Movie",
          "Movie",
          "Movie",
          "Movie",
          "Movie",
          "Movie",
          "Movie",
          "Movie",
          "Movie",
          "Movie",
          "Movie",
          "Movie",
          "Movie",
          "Movie",
          "Movie",
          "Movie",
          "Movie",
          "Movie",
          "Movie",
          "Movie",
          "Movie",
          "Movie",
          "Movie",
          "Movie",
          "Movie",
          "Movie",
          "Movie",
          "Movie",
          "Movie",
          "Movie",
          "Movie",
          "Movie",
          "Movie",
          "Movie",
          "Movie",
          "Movie",
          "Movie",
          "Movie",
          "Movie",
          "Movie",
          "Movie",
          "Movie",
          "Movie",
          "Movie",
          "Movie",
          "Movie",
          "Movie",
          "Movie",
          "Movie",
          "Movie",
          "Movie",
          "Movie",
          "Movie",
          "Movie",
          "Movie",
          "Movie",
          "Movie",
          "Movie",
          "Movie",
          "Movie",
          "Movie",
          "Movie",
          "Movie",
          "Movie",
          "Movie",
          "Movie",
          "Movie",
          "Movie",
          "Movie",
          "Movie",
          "Movie",
          "Movie",
          "Movie",
          "Movie",
          "Movie",
          "Movie",
          "Movie",
          "Movie",
          "Movie",
          "Movie",
          "Movie",
          "TV Show",
          "Movie",
          "Movie",
          "Movie",
          "Movie",
          "Movie",
          "Movie",
          "Movie",
          "Movie",
          "Movie",
          "Movie",
          "Movie",
          "Movie",
          "Movie",
          "Movie",
          "Movie",
          "Movie",
          "Movie",
          "Movie",
          "Movie",
          "Movie",
          "Movie",
          "Movie",
          "Movie",
          "Movie",
          "Movie",
          "Movie",
          "Movie",
          "Movie",
          "Movie",
          "Movie",
          "Movie",
          "Movie",
          "Movie",
          "Movie",
          "Movie",
          "Movie",
          "Movie",
          "Movie",
          "Movie",
          "Movie",
          "Movie",
          "Movie",
          "Movie",
          "Movie",
          "Movie",
          "Movie",
          "Movie",
          "Movie",
          "Movie",
          "TV Show",
          "Movie",
          "Movie",
          "Movie",
          "Movie",
          "Movie",
          "Movie",
          "Movie",
          "Movie",
          "Movie",
          "Movie",
          "Movie",
          "Movie",
          "Movie",
          "Movie",
          "Movie",
          "Movie",
          "Movie",
          "Movie",
          "Movie",
          "Movie",
          "Movie",
          "Movie",
          "Movie",
          "TV Show",
          "Movie",
          "Movie",
          "Movie",
          "Movie",
          "Movie",
          "Movie",
          "Movie",
          "Movie",
          "Movie",
          "Movie",
          "Movie",
          "Movie",
          "Movie",
          "Movie",
          "Movie",
          "Movie",
          "Movie",
          "Movie",
          "Movie",
          "Movie",
          "Movie",
          "Movie",
          "Movie",
          "Movie",
          "Movie",
          "Movie",
          "Movie",
          "TV Show",
          "Movie",
          "Movie",
          "Movie",
          "Movie",
          "Movie",
          "Movie",
          "Movie",
          "Movie",
          "Movie",
          "Movie",
          "Movie",
          "Movie",
          "Movie",
          "Movie",
          "Movie",
          "Movie",
          "Movie",
          "Movie",
          "Movie",
          "Movie",
          "Movie",
          "Movie",
          "Movie",
          "Movie",
          "Movie",
          "Movie",
          "Movie",
          "Movie",
          "Movie",
          "Movie",
          "Movie",
          "Movie",
          "Movie",
          "Movie",
          "Movie",
          "Movie",
          "Movie",
          "Movie",
          "Movie",
          "Movie",
          "Movie",
          "Movie",
          "Movie",
          "Movie",
          "Movie",
          "Movie",
          "Movie",
          "Movie",
          "Movie",
          "Movie",
          "Movie",
          "Movie",
          "Movie",
          "Movie",
          "Movie",
          "Movie",
          "Movie",
          "Movie",
          "Movie",
          "Movie",
          "Movie",
          "Movie",
          "Movie",
          "Movie",
          "Movie",
          "Movie",
          "Movie",
          "Movie",
          "Movie",
          "Movie",
          "Movie",
          "Movie",
          "Movie",
          "Movie",
          "Movie",
          "Movie",
          "Movie",
          "Movie",
          "Movie",
          "Movie",
          "Movie",
          "Movie",
          "Movie",
          "Movie",
          "Movie",
          "Movie",
          "Movie",
          "Movie",
          "Movie",
          "Movie",
          "Movie",
          "Movie",
          "Movie",
          "Movie",
          "Movie",
          "Movie",
          "Movie",
          "Movie",
          "Movie",
          "Movie",
          "Movie",
          "Movie",
          "Movie",
          "Movie",
          "Movie",
          "Movie",
          "Movie",
          "Movie",
          "Movie",
          "Movie",
          "Movie",
          "Movie",
          "Movie",
          "Movie",
          "Movie",
          "Movie",
          "Movie",
          "Movie",
          "Movie",
          "Movie",
          "Movie",
          "Movie",
          "Movie",
          "Movie",
          "Movie",
          "Movie",
          "Movie",
          "Movie",
          "Movie",
          "Movie",
          "Movie",
          "Movie",
          "Movie",
          "Movie",
          "Movie",
          "Movie",
          "Movie",
          "Movie",
          "Movie",
          "Movie",
          "Movie",
          "Movie",
          "Movie",
          "Movie",
          "Movie",
          "Movie",
          "Movie",
          "TV Show",
          "Movie",
          "Movie",
          "Movie",
          "Movie",
          "Movie",
          "Movie",
          "Movie",
          "Movie",
          "Movie",
          "Movie",
          "Movie",
          "Movie",
          "Movie",
          "Movie",
          "Movie",
          "Movie",
          "Movie",
          "Movie",
          "Movie",
          "Movie",
          "Movie",
          "Movie",
          "Movie",
          "Movie",
          "Movie",
          "Movie",
          "Movie",
          "Movie",
          "Movie",
          "Movie",
          "Movie",
          "Movie",
          "Movie",
          "Movie",
          "Movie",
          "Movie",
          "Movie",
          "Movie",
          "Movie",
          "Movie",
          "Movie",
          "TV Show",
          "Movie",
          "Movie",
          "Movie",
          "Movie",
          "Movie",
          "Movie",
          "Movie",
          "Movie",
          "Movie",
          "Movie",
          "Movie",
          "Movie",
          "Movie",
          "Movie",
          "Movie",
          "Movie",
          "Movie",
          "Movie",
          "Movie",
          "Movie",
          "Movie",
          "Movie",
          "Movie",
          "Movie",
          "Movie",
          "Movie",
          "TV Show",
          "Movie",
          "Movie",
          "Movie",
          "Movie",
          "Movie",
          "Movie",
          "Movie",
          "Movie",
          "Movie",
          "Movie",
          "Movie",
          "Movie",
          "Movie",
          "Movie",
          "Movie",
          "Movie",
          "Movie",
          "Movie",
          "Movie",
          "Movie",
          "Movie",
          "Movie",
          "Movie",
          "Movie",
          "Movie",
          "Movie",
          "Movie",
          "Movie",
          "Movie",
          "Movie",
          "Movie",
          "Movie",
          "Movie",
          "Movie",
          "Movie",
          "Movie",
          "Movie",
          "Movie",
          "Movie",
          "Movie",
          "Movie",
          "Movie",
          "Movie",
          "Movie",
          "Movie",
          "Movie",
          "Movie",
          "Movie",
          "Movie",
          "Movie",
          "Movie",
          "Movie",
          "Movie",
          "Movie",
          "Movie",
          "Movie",
          "Movie",
          "Movie",
          "Movie",
          "Movie",
          "Movie",
          "Movie",
          "Movie",
          "Movie",
          "Movie",
          "Movie",
          "Movie",
          "Movie",
          "Movie",
          "Movie",
          "Movie",
          "Movie",
          "Movie",
          "Movie",
          "Movie",
          "Movie",
          "Movie",
          "Movie",
          "Movie",
          "Movie",
          "Movie",
          "Movie",
          "Movie",
          "Movie",
          "Movie",
          "Movie",
          "Movie",
          "Movie",
          "Movie",
          "Movie",
          "Movie",
          "Movie",
          "Movie",
          "Movie",
          "Movie",
          "Movie",
          "Movie",
          "Movie",
          "Movie",
          "Movie",
          "Movie",
          "Movie",
          "Movie",
          "Movie",
          "Movie",
          "Movie",
          "Movie",
          "Movie",
          "Movie",
          "Movie",
          "Movie",
          "Movie",
          "Movie",
          "Movie",
          "Movie",
          "Movie",
          "Movie",
          "Movie",
          "Movie",
          "Movie",
          "Movie",
          "Movie",
          "Movie",
          "Movie",
          "Movie",
          "Movie",
          "Movie",
          "Movie",
          "Movie",
          "Movie",
          "Movie",
          "Movie",
          "Movie",
          "Movie",
          "Movie",
          "Movie",
          "Movie",
          "Movie",
          "Movie",
          "Movie",
          "Movie",
          "Movie",
          "Movie",
          "Movie",
          "Movie",
          "Movie",
          "Movie",
          "Movie",
          "Movie",
          "Movie",
          "Movie",
          "Movie",
          "Movie",
          "Movie",
          "Movie",
          "Movie",
          "Movie",
          "Movie",
          "Movie",
          "Movie",
          "Movie",
          "Movie",
          "Movie",
          "Movie",
          "Movie",
          "Movie",
          "Movie",
          "Movie",
          "Movie",
          "Movie",
          "Movie",
          "Movie",
          "Movie",
          "Movie",
          "Movie",
          "Movie",
          "Movie",
          "Movie",
          "Movie",
          "Movie",
          "Movie",
          "Movie",
          "Movie",
          "Movie",
          "Movie",
          "Movie",
          "Movie",
          "Movie",
          "Movie",
          "Movie",
          "Movie",
          "Movie",
          "Movie",
          "Movie",
          "Movie",
          "Movie",
          "Movie",
          "Movie",
          "Movie",
          "Movie",
          "Movie",
          "Movie",
          "Movie",
          "Movie",
          "Movie",
          "Movie",
          "Movie",
          "Movie",
          "Movie",
          "Movie",
          "Movie",
          "Movie",
          "Movie",
          "Movie",
          "Movie",
          "Movie",
          "Movie",
          "Movie",
          "Movie",
          "Movie",
          "Movie",
          "Movie",
          "Movie",
          "Movie",
          "Movie",
          "Movie",
          "Movie",
          "Movie",
          "Movie",
          "Movie",
          "Movie",
          "Movie",
          "Movie",
          "Movie",
          "Movie",
          "TV Show",
          "Movie",
          "Movie",
          "Movie",
          "Movie",
          "Movie",
          "Movie",
          "Movie",
          "Movie",
          "Movie",
          "Movie",
          "Movie",
          "Movie",
          "Movie",
          "Movie",
          "Movie",
          "Movie",
          "Movie",
          "Movie",
          "Movie",
          "Movie",
          "TV Show",
          "Movie",
          "Movie",
          "Movie",
          "Movie",
          "Movie",
          "Movie",
          "Movie",
          "Movie",
          "Movie",
          "Movie",
          "Movie",
          "Movie",
          "Movie",
          "Movie",
          "Movie",
          "Movie",
          "Movie",
          "Movie",
          "Movie",
          "Movie",
          "Movie",
          "Movie",
          "Movie",
          "Movie",
          "Movie",
          "Movie",
          "Movie",
          "Movie",
          "Movie",
          "Movie",
          "Movie",
          "Movie",
          "Movie",
          "Movie",
          "Movie",
          "Movie",
          "Movie",
          "Movie",
          "Movie",
          "Movie",
          "Movie",
          "Movie",
          "Movie",
          "Movie",
          "Movie",
          "Movie",
          "Movie",
          "Movie",
          "Movie",
          "Movie",
          "Movie",
          "Movie",
          "Movie",
          "TV Show",
          "TV Show",
          "Movie",
          "Movie",
          "Movie",
          "Movie",
          "Movie",
          "Movie",
          "Movie",
          "Movie",
          "Movie",
          "Movie",
          "Movie",
          "Movie",
          "Movie",
          "Movie",
          "Movie",
          "Movie",
          "TV Show",
          "Movie",
          "Movie",
          "Movie",
          "Movie",
          "Movie",
          "Movie",
          "Movie",
          "Movie",
          "Movie",
          "Movie",
          "Movie",
          "Movie",
          "Movie",
          "Movie",
          "Movie",
          "Movie",
          "Movie",
          "Movie",
          "Movie",
          "Movie",
          "Movie",
          "Movie",
          "Movie",
          "Movie",
          "Movie",
          "Movie",
          "Movie",
          "Movie",
          "Movie",
          "Movie",
          "TV Show",
          "Movie",
          "Movie",
          "Movie",
          "Movie",
          "Movie",
          "Movie",
          "Movie",
          "Movie",
          "Movie",
          "Movie",
          "Movie",
          "Movie",
          "Movie",
          "Movie",
          "Movie",
          "Movie",
          "Movie",
          "Movie",
          "Movie",
          "Movie",
          "Movie",
          "Movie",
          "Movie",
          "Movie",
          "Movie",
          "Movie",
          "Movie",
          "Movie",
          "Movie",
          "Movie",
          "Movie",
          "Movie",
          "Movie",
          "Movie",
          "Movie",
          "Movie",
          "Movie",
          "Movie",
          "Movie",
          "Movie",
          "Movie",
          "Movie",
          "Movie",
          "Movie",
          "TV Show",
          "Movie",
          "Movie",
          "Movie",
          "Movie",
          "Movie",
          "Movie",
          "Movie",
          "Movie",
          "Movie",
          "Movie",
          "Movie",
          "Movie",
          "Movie",
          "Movie",
          "Movie",
          "Movie",
          "Movie",
          "Movie",
          "Movie",
          "Movie",
          "Movie",
          "Movie",
          "Movie",
          "Movie",
          "Movie",
          "Movie",
          "Movie",
          "Movie",
          "Movie",
          "Movie",
          "Movie",
          "Movie",
          "Movie",
          "Movie",
          "Movie",
          "Movie",
          "Movie",
          "Movie",
          "Movie",
          "Movie",
          "Movie",
          "Movie",
          "Movie",
          "Movie",
          "Movie",
          "Movie",
          "Movie",
          "Movie",
          "Movie",
          "Movie",
          "Movie",
          "Movie",
          "Movie",
          "Movie",
          "Movie",
          "Movie",
          "Movie",
          "Movie",
          "Movie",
          "Movie",
          "Movie",
          "Movie",
          "Movie",
          "Movie",
          "Movie",
          "Movie",
          "Movie",
          "Movie",
          "Movie",
          "Movie",
          "Movie",
          "Movie",
          "Movie",
          "Movie",
          "Movie",
          "Movie",
          "Movie",
          "Movie",
          "Movie",
          "Movie",
          "Movie",
          "Movie",
          "Movie",
          "Movie",
          "Movie",
          "Movie",
          "Movie",
          "Movie",
          "Movie",
          "Movie",
          "Movie",
          "Movie",
          "Movie",
          "Movie",
          "Movie",
          "Movie",
          "Movie",
          "Movie",
          "Movie",
          "Movie",
          "Movie",
          "Movie",
          "Movie",
          "Movie",
          "Movie",
          "Movie",
          "Movie",
          "Movie",
          "Movie",
          "Movie",
          "Movie",
          "Movie",
          "Movie",
          "Movie",
          "Movie",
          "Movie",
          "Movie",
          "Movie",
          "Movie",
          "Movie",
          "Movie",
          "Movie",
          "Movie",
          "Movie",
          "Movie",
          "Movie",
          "Movie",
          "Movie",
          "Movie",
          "Movie",
          "Movie",
          "Movie",
          "Movie",
          "Movie",
          "Movie",
          "Movie",
          "Movie",
          "Movie",
          "Movie",
          "Movie",
          "Movie",
          "Movie",
          "Movie",
          "Movie",
          "Movie",
          "TV Show",
          "Movie",
          "Movie",
          "Movie",
          "Movie",
          "Movie",
          "Movie",
          "Movie",
          "Movie",
          "Movie",
          "Movie",
          "Movie",
          "Movie",
          "Movie",
          "Movie",
          "Movie",
          "Movie",
          "Movie",
          "Movie",
          "Movie",
          "TV Show",
          "Movie",
          "Movie",
          "Movie",
          "Movie",
          "Movie",
          "Movie",
          "Movie",
          "TV Show",
          "Movie",
          "Movie",
          "Movie",
          "Movie",
          "Movie",
          "Movie",
          "Movie",
          "Movie",
          "Movie",
          "Movie",
          "Movie",
          "Movie",
          "Movie",
          "Movie",
          "Movie",
          "Movie",
          "Movie",
          "Movie",
          "Movie",
          "Movie",
          "Movie",
          "TV Show",
          "TV Show",
          "Movie",
          "Movie",
          "Movie",
          "Movie",
          "Movie",
          "Movie",
          "Movie",
          "Movie",
          "Movie",
          "Movie",
          "Movie",
          "Movie",
          "Movie",
          "Movie",
          "Movie",
          "TV Show",
          "Movie",
          "Movie",
          "Movie",
          "Movie",
          "Movie",
          "Movie",
          "Movie",
          "Movie",
          "Movie",
          "Movie",
          "Movie",
          "Movie",
          "Movie",
          "Movie",
          "Movie",
          "Movie",
          "Movie",
          "Movie",
          "Movie",
          "Movie",
          "Movie",
          "Movie",
          "Movie",
          "Movie",
          "Movie",
          "Movie",
          "Movie",
          "Movie",
          "Movie",
          "Movie",
          "Movie",
          "Movie",
          "Movie",
          "Movie",
          "Movie",
          "Movie",
          "Movie",
          "Movie",
          "Movie",
          "Movie",
          "Movie",
          "Movie",
          "Movie",
          "Movie",
          "Movie",
          "Movie",
          "TV Show",
          "Movie",
          "Movie",
          "Movie",
          "Movie",
          "Movie",
          "Movie",
          "Movie",
          "Movie",
          "Movie",
          "Movie",
          "Movie",
          "Movie",
          "Movie",
          "Movie",
          "Movie",
          "Movie",
          "Movie",
          "Movie",
          "Movie",
          "Movie",
          "Movie",
          "Movie",
          "Movie",
          "TV Show",
          "Movie",
          "Movie",
          "Movie",
          "Movie",
          "TV Show",
          "Movie",
          "Movie",
          "Movie",
          "TV Show",
          "Movie",
          "Movie",
          "Movie",
          "Movie",
          "Movie",
          "Movie",
          "Movie",
          "Movie",
          "TV Show",
          "Movie",
          "Movie",
          "Movie",
          "Movie",
          "Movie",
          "Movie",
          "Movie",
          "Movie",
          "Movie",
          "Movie",
          "Movie",
          "Movie",
          "Movie",
          "Movie",
          "Movie",
          "Movie",
          "Movie",
          "Movie",
          "TV Show",
          "Movie",
          "Movie",
          "Movie",
          "Movie",
          "TV Show",
          "Movie",
          "Movie",
          "Movie",
          "Movie",
          "Movie",
          "Movie",
          "Movie",
          "Movie",
          "Movie",
          "Movie",
          "Movie",
          "Movie",
          "Movie",
          "Movie",
          "Movie",
          "Movie",
          "Movie",
          "Movie",
          "Movie",
          "Movie",
          "Movie",
          "Movie",
          "Movie",
          "Movie",
          "Movie",
          "Movie",
          "Movie",
          "TV Show",
          "Movie",
          "Movie",
          "Movie",
          "Movie",
          "Movie",
          "Movie",
          "Movie",
          "Movie",
          "Movie",
          "Movie",
          "Movie",
          "Movie",
          "Movie",
          "Movie",
          "Movie",
          "Movie",
          "Movie",
          "Movie",
          "Movie",
          "Movie",
          "Movie",
          "Movie",
          "Movie",
          "Movie",
          "TV Show",
          "Movie",
          "Movie",
          "Movie",
          "Movie",
          "Movie",
          "Movie",
          "Movie",
          "Movie",
          "Movie",
          "Movie",
          "Movie",
          "Movie",
          "Movie",
          "Movie",
          "Movie",
          "Movie",
          "Movie",
          "Movie",
          "Movie",
          "Movie",
          "Movie",
          "Movie",
          "Movie",
          "Movie",
          "Movie",
          "Movie",
          "Movie",
          "Movie",
          "Movie",
          "Movie",
          "Movie",
          "Movie",
          "Movie",
          "Movie",
          "Movie",
          "Movie",
          "Movie",
          "Movie",
          "Movie",
          "Movie",
          "Movie",
          "Movie",
          "Movie",
          "Movie",
          "Movie",
          "Movie",
          "Movie",
          "Movie",
          "Movie",
          "Movie",
          "Movie",
          "Movie",
          "Movie",
          "Movie",
          "Movie",
          "Movie",
          "Movie",
          "Movie",
          "Movie",
          "Movie",
          "Movie",
          "Movie",
          "Movie",
          "TV Show",
          "Movie",
          "Movie",
          "Movie",
          "Movie",
          "Movie",
          "Movie",
          "Movie",
          "Movie",
          "Movie",
          "Movie",
          "Movie",
          "Movie",
          "Movie",
          "TV Show",
          "Movie",
          "Movie",
          "Movie",
          "Movie",
          "Movie",
          "Movie",
          "Movie",
          "Movie",
          "Movie",
          "Movie",
          "Movie",
          "Movie",
          "Movie",
          "Movie",
          "Movie",
          "Movie",
          "Movie",
          "Movie",
          "Movie",
          "Movie",
          "Movie",
          "Movie",
          "Movie",
          "Movie",
          "Movie",
          "Movie",
          "Movie",
          "Movie",
          "Movie",
          "Movie",
          "Movie",
          "Movie",
          "Movie",
          "Movie",
          "Movie",
          "TV Show",
          "Movie",
          "Movie",
          "Movie",
          "Movie",
          "Movie",
          "Movie",
          "Movie",
          "Movie",
          "Movie",
          "Movie",
          "Movie",
          "Movie",
          "Movie",
          "Movie",
          "Movie",
          "Movie",
          "Movie",
          "Movie",
          "Movie",
          "Movie",
          "Movie",
          "Movie",
          "Movie",
          "Movie",
          "Movie",
          "Movie",
          "Movie",
          "Movie",
          "Movie",
          "Movie",
          "Movie",
          "Movie",
          "Movie",
          "TV Show",
          "Movie",
          "Movie",
          "Movie",
          "Movie",
          "Movie",
          "Movie",
          "Movie",
          "Movie",
          "Movie",
          "Movie",
          "Movie",
          "Movie",
          "Movie",
          "Movie",
          "Movie",
          "Movie",
          "Movie",
          "Movie",
          "Movie",
          "Movie",
          "Movie",
          "Movie",
          "Movie",
          "Movie",
          "Movie",
          "Movie",
          "Movie",
          "Movie",
          "Movie",
          "Movie",
          "Movie",
          "Movie",
          "Movie",
          "Movie",
          "Movie",
          "Movie",
          "Movie",
          "Movie",
          "Movie",
          "Movie",
          "Movie",
          "TV Show",
          "Movie",
          "Movie",
          "Movie",
          "Movie",
          "Movie",
          "Movie",
          "Movie",
          "Movie",
          "Movie",
          "Movie",
          "Movie",
          "Movie",
          "Movie",
          "Movie",
          "Movie",
          "Movie",
          "Movie",
          "Movie",
          "Movie",
          "Movie",
          "Movie",
          "Movie",
          "Movie",
          "Movie",
          "Movie",
          "Movie",
          "Movie",
          "Movie",
          "Movie",
          "Movie",
          "Movie",
          "Movie",
          "Movie",
          "Movie",
          "Movie",
          "Movie",
          "Movie",
          "Movie",
          "Movie",
          "Movie",
          "Movie",
          "Movie",
          "Movie",
          "Movie",
          "Movie",
          "Movie",
          "Movie",
          "Movie",
          "Movie",
          "Movie",
          "Movie",
          "Movie",
          "Movie",
          "Movie",
          "Movie",
          "Movie",
          "Movie",
          "Movie",
          "Movie",
          "Movie",
          "Movie",
          "Movie",
          "Movie",
          "Movie",
          "Movie",
          "Movie",
          "Movie",
          "Movie",
          "Movie",
          "Movie",
          "Movie",
          "Movie",
          "Movie",
          "Movie",
          "Movie",
          "Movie",
          "Movie",
          "TV Show",
          "Movie",
          "Movie",
          "Movie",
          "TV Show",
          "Movie",
          "Movie",
          "Movie",
          "Movie",
          "Movie",
          "Movie",
          "Movie",
          "Movie",
          "Movie",
          "TV Show",
          "Movie",
          "TV Show",
          "Movie",
          "Movie",
          "Movie",
          "Movie",
          "Movie",
          "Movie",
          "Movie",
          "Movie",
          "Movie",
          "Movie",
          "Movie",
          "Movie",
          "Movie",
          "Movie",
          "Movie",
          "Movie",
          "Movie",
          "Movie",
          "Movie",
          "Movie",
          "Movie",
          "Movie",
          "Movie",
          "Movie",
          "Movie",
          "Movie",
          "Movie",
          "Movie",
          "Movie",
          "Movie",
          "Movie",
          "Movie",
          "Movie",
          "Movie",
          "Movie",
          "Movie",
          "Movie",
          "Movie",
          "Movie",
          "Movie",
          "Movie",
          "Movie",
          "Movie",
          "Movie",
          "Movie",
          "Movie",
          "Movie",
          "Movie",
          "Movie",
          "Movie",
          "Movie",
          "Movie",
          "Movie",
          "Movie",
          "Movie",
          "Movie",
          "Movie",
          "Movie",
          "Movie",
          "TV Show",
          "Movie",
          "Movie",
          "Movie",
          "Movie",
          "Movie",
          "Movie",
          "Movie",
          "Movie",
          "Movie",
          "Movie",
          "Movie",
          "Movie",
          "Movie",
          "Movie",
          "Movie",
          "Movie",
          "Movie",
          "Movie",
          "Movie",
          "Movie",
          "Movie",
          "Movie",
          "Movie",
          "Movie",
          "Movie",
          "Movie",
          "TV Show",
          "Movie",
          "Movie",
          "Movie",
          "Movie",
          "Movie",
          "Movie",
          "Movie",
          "Movie",
          "Movie",
          "Movie",
          "Movie",
          "Movie",
          "Movie",
          "Movie",
          "Movie",
          "Movie",
          "Movie",
          "Movie",
          "TV Show",
          "Movie",
          "Movie",
          "Movie",
          "Movie",
          "Movie",
          "Movie",
          "Movie",
          "Movie",
          "Movie",
          "Movie",
          "Movie",
          "Movie",
          "Movie",
          "Movie",
          "Movie",
          "Movie",
          "Movie",
          "Movie",
          "Movie",
          "Movie",
          "Movie",
          "Movie",
          "Movie",
          "Movie",
          "Movie",
          "Movie",
          "Movie",
          "Movie",
          "Movie",
          "Movie",
          "Movie",
          "Movie",
          "Movie",
          "Movie",
          "Movie",
          "Movie",
          "Movie",
          "Movie",
          "Movie",
          "Movie",
          "Movie",
          "Movie",
          "Movie",
          "Movie",
          "Movie",
          "Movie",
          "Movie",
          "Movie",
          "Movie",
          "Movie",
          "Movie",
          "Movie",
          "Movie",
          "Movie",
          "Movie",
          "Movie",
          "Movie",
          "Movie",
          "Movie",
          "Movie",
          "Movie",
          "Movie",
          "Movie",
          "Movie",
          "Movie",
          "Movie",
          "Movie",
          "Movie",
          "Movie",
          "Movie",
          "Movie",
          "Movie",
          "Movie",
          "Movie",
          "Movie",
          "Movie",
          "Movie",
          "Movie",
          "Movie",
          "Movie",
          "Movie",
          "Movie",
          "Movie",
          "Movie",
          "Movie",
          "Movie",
          "Movie",
          "Movie",
          "Movie",
          "Movie",
          "Movie",
          "Movie",
          "Movie",
          "Movie",
          "Movie",
          "Movie",
          "Movie",
          "Movie",
          "Movie",
          "Movie",
          "Movie",
          "Movie",
          "Movie",
          "Movie",
          "Movie",
          "Movie",
          "Movie",
          "Movie",
          "Movie",
          "Movie",
          "Movie",
          "Movie",
          "Movie",
          "Movie",
          "Movie",
          "Movie",
          "Movie",
          "Movie",
          "Movie",
          "Movie",
          "Movie",
          "Movie",
          "Movie",
          "Movie",
          "Movie",
          "Movie",
          "Movie",
          "Movie",
          "Movie",
          "Movie",
          "TV Show",
          "Movie",
          "Movie",
          "Movie",
          "Movie",
          "Movie",
          "Movie",
          "Movie",
          "Movie",
          "Movie",
          "Movie",
          "Movie",
          "Movie",
          "Movie",
          "Movie",
          "Movie",
          "Movie",
          "Movie",
          "Movie",
          "Movie",
          "Movie",
          "Movie",
          "Movie",
          "Movie",
          "Movie",
          "Movie",
          "Movie",
          "Movie",
          "Movie",
          "Movie",
          "Movie",
          "Movie",
          "Movie",
          "Movie",
          "Movie",
          "Movie",
          "Movie",
          "Movie",
          "Movie",
          "Movie",
          "Movie",
          "Movie",
          "Movie",
          "Movie",
          "Movie",
          "Movie",
          "Movie",
          "Movie",
          "Movie",
          "Movie",
          "Movie",
          "Movie",
          "Movie",
          "Movie",
          "Movie",
          "Movie",
          "Movie",
          "Movie",
          "Movie",
          "Movie",
          "Movie",
          "Movie",
          "Movie",
          "Movie",
          "Movie",
          "Movie",
          "Movie",
          "Movie",
          "Movie",
          "Movie",
          "Movie",
          "Movie",
          "Movie",
          "Movie",
          "Movie",
          "Movie",
          "Movie",
          "Movie",
          "Movie",
          "Movie",
          "TV Show",
          "Movie",
          "Movie",
          "Movie",
          "Movie",
          "Movie",
          "Movie",
          "Movie",
          "Movie",
          "Movie",
          "Movie",
          "Movie",
          "Movie",
          "Movie",
          "Movie",
          "Movie",
          "Movie",
          "Movie",
          "Movie",
          "Movie",
          "Movie",
          "Movie",
          "Movie",
          "Movie",
          "Movie",
          "Movie",
          "TV Show",
          "Movie",
          "Movie",
          "Movie",
          "Movie",
          "TV Show",
          "Movie",
          "Movie",
          "Movie",
          "Movie",
          "Movie",
          "Movie",
          "Movie",
          "Movie",
          "Movie",
          "Movie",
          "Movie",
          "Movie",
          "Movie",
          "Movie",
          "Movie",
          "Movie",
          "Movie",
          "Movie",
          "TV Show",
          "Movie",
          "Movie",
          "Movie",
          "Movie",
          "Movie",
          "Movie",
          "Movie",
          "Movie",
          "Movie",
          "Movie",
          "Movie",
          "Movie",
          "Movie",
          "Movie",
          "Movie",
          "Movie",
          "Movie",
          "Movie",
          "Movie",
          "Movie",
          "Movie",
          "Movie",
          "Movie",
          "Movie",
          "Movie",
          "Movie",
          "Movie",
          "Movie",
          "Movie",
          "Movie",
          "Movie",
          "Movie",
          "Movie",
          "Movie",
          "Movie",
          "Movie",
          "Movie",
          "Movie",
          "Movie",
          "Movie",
          "Movie",
          "Movie",
          "Movie",
          "Movie",
          "Movie",
          "Movie",
          "Movie",
          "Movie",
          "TV Show",
          "TV Show",
          "Movie",
          "Movie",
          "Movie",
          "Movie",
          "Movie",
          "Movie",
          "Movie",
          "Movie",
          "TV Show",
          "Movie",
          "Movie",
          "Movie",
          "Movie",
          "Movie",
          "Movie",
          "Movie",
          "Movie",
          "TV Show",
          "Movie",
          "Movie",
          "Movie",
          "Movie",
          "Movie",
          "Movie",
          "Movie",
          "Movie",
          "Movie",
          "Movie",
          "Movie",
          "Movie",
          "Movie",
          "Movie",
          "Movie",
          "Movie",
          "Movie",
          "Movie",
          "Movie",
          "Movie",
          "Movie",
          "Movie",
          "Movie",
          "Movie",
          "Movie",
          "Movie",
          "Movie",
          "Movie",
          "Movie",
          "Movie",
          "Movie",
          "Movie",
          "Movie",
          "Movie",
          "Movie",
          "Movie",
          "Movie",
          "Movie",
          "Movie",
          "Movie",
          "Movie",
          "Movie",
          "Movie",
          "Movie",
          "TV Show",
          "Movie",
          "Movie",
          "Movie",
          "Movie",
          "Movie",
          "Movie",
          "Movie",
          "Movie",
          "Movie",
          "Movie",
          "Movie",
          "Movie",
          "Movie",
          "Movie",
          "Movie",
          "Movie",
          "Movie",
          "Movie",
          "Movie",
          "Movie",
          "Movie",
          "Movie",
          "Movie",
          "Movie",
          "Movie",
          "Movie",
          "Movie",
          "Movie",
          "Movie",
          "Movie",
          "Movie",
          "Movie",
          "Movie",
          "Movie",
          "Movie",
          "Movie",
          "Movie",
          "Movie",
          "Movie",
          "Movie",
          "Movie",
          "Movie",
          "Movie",
          "Movie",
          "Movie",
          "Movie",
          "Movie",
          "TV Show",
          "Movie",
          "Movie",
          "Movie",
          "Movie",
          "Movie",
          "Movie",
          "Movie",
          "Movie",
          "Movie",
          "Movie",
          "Movie",
          "Movie",
          "Movie",
          "Movie",
          "TV Show",
          "TV Show",
          "Movie",
          "Movie",
          "Movie",
          "Movie",
          "Movie",
          "Movie",
          "Movie",
          "Movie",
          "Movie",
          "Movie",
          "Movie",
          "Movie",
          "Movie",
          "Movie",
          "Movie",
          "Movie",
          "Movie",
          "Movie",
          "Movie",
          "Movie",
          "Movie",
          "Movie",
          "Movie",
          "Movie",
          "Movie",
          "Movie",
          "Movie",
          "Movie",
          "Movie",
          "Movie",
          "Movie",
          "Movie",
          "Movie",
          "Movie",
          "Movie",
          "Movie",
          "Movie",
          "Movie",
          "Movie",
          "Movie",
          "Movie",
          "Movie",
          "Movie",
          "Movie",
          "Movie",
          "Movie",
          "Movie",
          "Movie",
          "Movie",
          "Movie",
          "Movie",
          "Movie",
          "TV Show",
          "Movie",
          "Movie",
          "Movie",
          "Movie",
          "Movie",
          "Movie",
          "Movie",
          "Movie",
          "Movie",
          "Movie",
          "Movie",
          "Movie",
          "Movie",
          "Movie",
          "Movie",
          "Movie",
          "Movie",
          "Movie",
          "Movie",
          "Movie",
          "Movie",
          "Movie",
          "Movie",
          "Movie",
          "Movie",
          "Movie",
          "Movie",
          "Movie",
          "Movie",
          "Movie",
          "Movie",
          "Movie",
          "TV Show",
          "Movie",
          "Movie",
          "Movie",
          "TV Show",
          "Movie",
          "Movie",
          "Movie",
          "Movie",
          "Movie",
          "Movie",
          "Movie",
          "Movie",
          "Movie",
          "Movie",
          "Movie",
          "Movie",
          "Movie",
          "Movie",
          "Movie",
          "Movie",
          "Movie",
          "Movie",
          "Movie",
          "Movie",
          "Movie",
          "Movie",
          "Movie",
          "Movie",
          "Movie",
          "Movie",
          "Movie",
          "Movie",
          "Movie",
          "Movie",
          "Movie",
          "Movie",
          "Movie",
          "Movie",
          "Movie",
          "Movie",
          "Movie",
          "Movie",
          "Movie",
          "Movie",
          "Movie",
          "TV Show",
          "Movie",
          "Movie",
          "Movie",
          "Movie",
          "Movie",
          "Movie",
          "Movie",
          "Movie",
          "Movie",
          "Movie",
          "Movie",
          "Movie",
          "Movie",
          "Movie",
          "Movie",
          "Movie",
          "Movie",
          "Movie",
          "Movie",
          "Movie",
          "Movie",
          "Movie",
          "Movie",
          "Movie",
          "Movie",
          "Movie",
          "Movie",
          "Movie",
          "Movie",
          "Movie",
          "Movie",
          "Movie",
          "Movie",
          "Movie",
          "Movie",
          "Movie",
          "Movie",
          "Movie",
          "Movie",
          "Movie",
          "Movie",
          "Movie",
          "Movie",
          "Movie",
          "Movie",
          "Movie",
          "Movie",
          "Movie",
          "Movie",
          "Movie",
          "Movie",
          "Movie",
          "Movie",
          "Movie",
          "Movie",
          "Movie",
          "Movie",
          "Movie",
          "Movie",
          "Movie",
          "Movie",
          "Movie",
          "Movie",
          "Movie",
          "Movie",
          "Movie",
          "Movie",
          "Movie",
          "Movie",
          "Movie",
          "Movie",
          "Movie",
          "Movie",
          "Movie",
          "Movie",
          "Movie",
          "Movie",
          "Movie",
          "Movie",
          "Movie",
          "Movie",
          "Movie",
          "Movie",
          "Movie",
          "Movie",
          "Movie",
          "Movie",
          "Movie",
          "Movie",
          "Movie",
          "Movie",
          "Movie",
          "Movie",
          "Movie",
          "Movie",
          "Movie",
          "Movie",
          "Movie",
          "Movie",
          "Movie",
          "Movie",
          "Movie",
          "Movie",
          "Movie",
          "Movie",
          "Movie",
          "Movie",
          "TV Show",
          "Movie",
          "Movie",
          "Movie",
          "Movie",
          "Movie",
          "Movie",
          "Movie",
          "Movie",
          "Movie",
          "Movie",
          "Movie",
          "Movie",
          "Movie",
          "Movie",
          "Movie",
          "Movie",
          "Movie",
          "TV Show",
          "Movie",
          "Movie",
          "Movie",
          "Movie",
          "Movie",
          "Movie",
          "Movie",
          "Movie",
          "Movie",
          "Movie",
          "Movie",
          "Movie",
          "Movie",
          "Movie",
          "Movie",
          "Movie",
          "Movie",
          "Movie",
          "Movie",
          "Movie",
          "Movie",
          "Movie",
          "Movie",
          "Movie",
          "Movie",
          "Movie",
          "Movie",
          "Movie",
          "Movie",
          "Movie",
          "Movie",
          "Movie",
          "Movie",
          "Movie",
          "Movie",
          "Movie",
          "Movie",
          "Movie",
          "Movie",
          "Movie",
          "Movie",
          "TV Show",
          "Movie",
          "Movie",
          "Movie",
          "Movie",
          "Movie",
          "TV Show",
          "Movie",
          "TV Show",
          "TV Show",
          "TV Show",
          "Movie",
          "Movie",
          "TV Show",
          "TV Show",
          "Movie",
          "TV Show",
          "TV Show",
          "TV Show",
          "TV Show",
          "TV Show",
          "TV Show",
          "Movie",
          "TV Show",
          "Movie",
          "TV Show",
          "Movie",
          "Movie",
          "TV Show",
          "Movie",
          "TV Show",
          "TV Show",
          "TV Show",
          "TV Show",
          "TV Show",
          "TV Show",
          "TV Show",
          "TV Show",
          "TV Show",
          "TV Show",
          "TV Show",
          "TV Show",
          "TV Show",
          "TV Show",
          "TV Show",
          "TV Show",
          "TV Show",
          "TV Show",
          "TV Show",
          "TV Show",
          "TV Show",
          "TV Show",
          "TV Show",
          "TV Show",
          "TV Show",
          "TV Show",
          "TV Show",
          "TV Show",
          "TV Show",
          "TV Show",
          "TV Show",
          "TV Show",
          "TV Show",
          "TV Show",
          "TV Show",
          "TV Show",
          "TV Show",
          "TV Show",
          "TV Show",
          "TV Show",
          "TV Show",
          "TV Show",
          "TV Show",
          "TV Show",
          "TV Show",
          "TV Show",
          "TV Show",
          "TV Show",
          "TV Show",
          "TV Show",
          "TV Show",
          "TV Show",
          "TV Show",
          "TV Show",
          "TV Show",
          "TV Show",
          "TV Show",
          "TV Show",
          "TV Show",
          "TV Show",
          "TV Show",
          "TV Show",
          "TV Show",
          "TV Show",
          "TV Show",
          "TV Show",
          "TV Show",
          "TV Show",
          "TV Show",
          "TV Show",
          "TV Show",
          "TV Show",
          "TV Show",
          "TV Show",
          "TV Show",
          "TV Show",
          "TV Show",
          "TV Show",
          "TV Show",
          "TV Show",
          "TV Show",
          "TV Show",
          "TV Show",
          "TV Show",
          "TV Show",
          "TV Show",
          "TV Show",
          "TV Show",
          "TV Show",
          "TV Show",
          "TV Show",
          "TV Show",
          "TV Show",
          "TV Show",
          "TV Show",
          "TV Show",
          "TV Show",
          "TV Show",
          "TV Show",
          "TV Show",
          "TV Show",
          "TV Show",
          "TV Show",
          "TV Show",
          "TV Show",
          "TV Show",
          "Movie",
          "TV Show",
          "TV Show",
          "TV Show",
          "TV Show",
          "TV Show",
          "TV Show",
          "TV Show",
          "TV Show",
          "TV Show",
          "TV Show",
          "TV Show",
          "TV Show",
          "TV Show",
          "TV Show",
          "TV Show",
          "TV Show",
          "TV Show",
          "TV Show",
          "TV Show",
          "TV Show",
          "TV Show",
          "TV Show",
          "TV Show",
          "TV Show",
          "TV Show",
          "TV Show",
          "TV Show",
          "TV Show",
          "TV Show",
          "TV Show",
          "TV Show",
          "TV Show",
          "TV Show",
          "TV Show",
          "TV Show",
          "TV Show",
          "TV Show",
          "TV Show",
          "TV Show",
          "TV Show",
          "TV Show",
          "TV Show",
          "TV Show",
          "TV Show",
          "TV Show",
          "TV Show",
          "TV Show",
          "TV Show",
          "TV Show",
          "TV Show",
          "TV Show",
          "TV Show",
          "TV Show",
          "TV Show",
          "TV Show",
          "TV Show",
          "TV Show",
          "TV Show",
          "TV Show",
          "TV Show",
          "TV Show",
          "TV Show",
          "TV Show",
          "TV Show",
          "TV Show",
          "TV Show",
          "TV Show",
          "Movie",
          "TV Show",
          "TV Show",
          "TV Show",
          "TV Show",
          "TV Show",
          "TV Show",
          "TV Show",
          "TV Show",
          "TV Show",
          "TV Show",
          "TV Show",
          "TV Show",
          "TV Show",
          "TV Show",
          "TV Show",
          "TV Show",
          "TV Show",
          "TV Show",
          "TV Show",
          "TV Show",
          "TV Show",
          "TV Show",
          "TV Show",
          "TV Show",
          "TV Show",
          "TV Show",
          "TV Show",
          "TV Show",
          "TV Show",
          "TV Show",
          "TV Show",
          "TV Show",
          "TV Show",
          "TV Show",
          "TV Show",
          "Movie",
          "TV Show",
          "TV Show",
          "TV Show",
          "TV Show",
          "Movie",
          "TV Show",
          "TV Show",
          "TV Show",
          "TV Show",
          "Movie",
          "TV Show",
          "TV Show",
          "TV Show",
          "TV Show",
          "TV Show",
          "TV Show",
          "TV Show",
          "TV Show",
          "TV Show",
          "TV Show",
          "TV Show",
          "TV Show",
          "TV Show",
          "TV Show",
          "TV Show",
          "TV Show",
          "TV Show",
          "TV Show",
          "TV Show",
          "TV Show",
          "TV Show",
          "TV Show",
          "TV Show",
          "TV Show",
          "TV Show",
          "TV Show",
          "TV Show",
          "TV Show",
          "TV Show",
          "TV Show",
          "TV Show",
          "TV Show",
          "TV Show",
          "TV Show",
          "Movie",
          "TV Show",
          "Movie",
          "TV Show",
          "TV Show",
          "TV Show",
          "TV Show",
          "TV Show",
          "TV Show",
          "TV Show",
          "TV Show",
          "TV Show",
          "TV Show",
          "TV Show",
          "TV Show",
          "TV Show",
          "TV Show",
          "TV Show",
          "TV Show",
          "TV Show",
          "TV Show",
          "TV Show",
          "TV Show",
          "TV Show",
          "TV Show",
          "TV Show",
          "TV Show",
          "TV Show",
          "TV Show",
          "TV Show",
          "TV Show",
          "TV Show",
          "TV Show",
          "TV Show",
          "TV Show",
          "TV Show",
          "TV Show",
          "TV Show",
          "Movie",
          "TV Show",
          "TV Show",
          "TV Show",
          "TV Show",
          "TV Show",
          "TV Show",
          "TV Show",
          "TV Show",
          "TV Show",
          "TV Show",
          "TV Show",
          "TV Show",
          "TV Show",
          "TV Show",
          "TV Show",
          "TV Show",
          "TV Show",
          "TV Show",
          "TV Show",
          "TV Show",
          "TV Show",
          "TV Show",
          "TV Show",
          "TV Show",
          "TV Show",
          "TV Show",
          "TV Show",
          "TV Show",
          "TV Show",
          "TV Show",
          "TV Show",
          "TV Show",
          "TV Show",
          "TV Show",
          "TV Show",
          "TV Show",
          "TV Show",
          "TV Show",
          "TV Show",
          "TV Show",
          "TV Show",
          "TV Show",
          "TV Show",
          "Movie",
          "TV Show",
          "TV Show",
          "TV Show",
          "Movie",
          "TV Show",
          "TV Show",
          "TV Show",
          "TV Show",
          "TV Show",
          "TV Show",
          "TV Show",
          "TV Show",
          "TV Show",
          "TV Show",
          "TV Show",
          "Movie",
          "TV Show",
          "TV Show",
          "TV Show",
          "TV Show",
          "TV Show",
          "TV Show",
          "TV Show",
          "TV Show",
          "TV Show",
          "TV Show",
          "TV Show",
          "TV Show",
          "TV Show",
          "TV Show",
          "TV Show",
          "TV Show",
          "TV Show",
          "TV Show",
          "TV Show",
          "TV Show",
          "TV Show",
          "TV Show",
          "TV Show",
          "TV Show",
          "TV Show",
          "TV Show",
          "TV Show",
          "TV Show",
          "TV Show",
          "TV Show",
          "Movie",
          "TV Show",
          "TV Show",
          "TV Show",
          "TV Show",
          "TV Show",
          "TV Show",
          "Movie",
          "TV Show",
          "TV Show",
          "TV Show",
          "TV Show",
          "TV Show",
          "TV Show",
          "Movie",
          "TV Show",
          "TV Show",
          "TV Show",
          "TV Show",
          "TV Show",
          "TV Show",
          "TV Show",
          "TV Show",
          "TV Show",
          "TV Show",
          "TV Show",
          "TV Show",
          "TV Show",
          "TV Show",
          "TV Show",
          "TV Show",
          "TV Show",
          "TV Show",
          "TV Show",
          "TV Show",
          "TV Show",
          "TV Show",
          "TV Show",
          "TV Show",
          "TV Show",
          "TV Show",
          "TV Show",
          "TV Show",
          "TV Show",
          "TV Show",
          "TV Show",
          "TV Show",
          "TV Show",
          "Movie",
          "TV Show",
          "TV Show",
          "TV Show",
          "TV Show",
          "TV Show",
          "TV Show",
          "Movie",
          "TV Show",
          "TV Show",
          "TV Show",
          "TV Show",
          "TV Show",
          "TV Show",
          "TV Show",
          "TV Show",
          "TV Show",
          "TV Show",
          "TV Show",
          "TV Show",
          "TV Show",
          "TV Show",
          "TV Show",
          "TV Show",
          "TV Show",
          "TV Show",
          "TV Show",
          "Movie",
          "TV Show",
          "TV Show",
          "TV Show",
          "TV Show",
          "TV Show",
          "TV Show",
          "TV Show",
          "TV Show",
          "TV Show",
          "TV Show",
          "TV Show",
          "TV Show",
          "TV Show",
          "TV Show",
          "TV Show",
          "TV Show",
          "TV Show",
          "TV Show",
          "TV Show",
          "TV Show",
          "TV Show",
          "TV Show",
          "TV Show",
          "TV Show",
          "TV Show",
          "TV Show",
          "TV Show",
          "TV Show",
          "TV Show",
          "TV Show",
          "TV Show",
          "TV Show",
          "TV Show",
          "TV Show",
          "TV Show",
          "TV Show",
          "TV Show",
          "Movie",
          "TV Show",
          "TV Show",
          "TV Show",
          "TV Show",
          "TV Show",
          "TV Show",
          "TV Show",
          "TV Show",
          "TV Show",
          "TV Show",
          "TV Show",
          "TV Show",
          "Movie",
          "TV Show",
          "TV Show",
          "TV Show",
          "TV Show",
          "TV Show",
          "TV Show",
          "TV Show",
          "TV Show",
          "TV Show",
          "TV Show",
          "TV Show",
          "TV Show",
          "TV Show",
          "TV Show",
          "Movie",
          "TV Show",
          "TV Show",
          "TV Show",
          "TV Show",
          "TV Show",
          "TV Show",
          "TV Show",
          "TV Show",
          "TV Show",
          "TV Show",
          "TV Show",
          "TV Show",
          "TV Show",
          "TV Show",
          "TV Show",
          "TV Show",
          "TV Show",
          "TV Show",
          "TV Show",
          "TV Show",
          "TV Show",
          "TV Show",
          "TV Show",
          "TV Show",
          "TV Show",
          "TV Show",
          "TV Show",
          "Movie",
          "TV Show",
          "TV Show",
          "TV Show",
          "TV Show",
          "TV Show",
          "TV Show",
          "TV Show",
          "TV Show",
          "TV Show",
          "TV Show",
          "TV Show",
          "TV Show",
          "TV Show",
          "TV Show",
          "TV Show",
          "TV Show",
          "TV Show",
          "TV Show",
          "TV Show",
          "TV Show",
          "TV Show",
          "TV Show",
          "TV Show",
          "TV Show",
          "TV Show",
          "TV Show",
          "TV Show",
          "TV Show",
          "TV Show",
          "TV Show",
          "TV Show",
          "TV Show",
          "TV Show",
          "TV Show",
          "TV Show",
          "TV Show",
          "TV Show",
          "TV Show",
          "TV Show",
          "TV Show",
          "TV Show",
          "TV Show",
          "TV Show",
          "TV Show",
          "TV Show",
          "TV Show",
          "TV Show",
          "TV Show",
          "TV Show",
          "TV Show",
          "TV Show",
          "TV Show",
          "TV Show",
          "TV Show",
          "TV Show",
          "TV Show",
          "TV Show",
          "TV Show",
          "TV Show",
          "TV Show",
          "TV Show",
          "TV Show",
          "TV Show",
          "TV Show",
          "TV Show",
          "TV Show",
          "TV Show",
          "TV Show",
          "TV Show",
          "TV Show",
          "TV Show",
          "TV Show",
          "TV Show",
          "Movie",
          "TV Show",
          "TV Show",
          "TV Show",
          "TV Show",
          "TV Show",
          "Movie",
          "TV Show",
          "TV Show",
          "TV Show",
          "TV Show",
          "TV Show",
          "Movie",
          "TV Show",
          "TV Show",
          "TV Show",
          "TV Show",
          "TV Show",
          "TV Show",
          "TV Show",
          "TV Show",
          "TV Show",
          "TV Show",
          "TV Show",
          "TV Show",
          "TV Show",
          "TV Show",
          "TV Show",
          "TV Show",
          "TV Show",
          "TV Show",
          "TV Show",
          "TV Show",
          "Movie",
          "TV Show",
          "TV Show",
          "TV Show",
          "TV Show",
          "TV Show",
          "TV Show",
          "TV Show",
          "TV Show",
          "TV Show",
          "TV Show",
          "TV Show",
          "TV Show",
          "TV Show",
          "TV Show",
          "TV Show",
          "TV Show",
          "TV Show",
          "TV Show",
          "TV Show",
          "TV Show",
          "TV Show",
          "TV Show",
          "TV Show",
          "TV Show",
          "TV Show",
          "TV Show",
          "TV Show",
          "TV Show",
          "TV Show",
          "TV Show",
          "TV Show",
          "TV Show",
          "TV Show",
          "TV Show",
          "TV Show",
          "TV Show",
          "TV Show",
          "TV Show",
          "Movie",
          "TV Show",
          "TV Show",
          "TV Show",
          "TV Show",
          "TV Show",
          "TV Show",
          "TV Show",
          "TV Show",
          "TV Show",
          "TV Show",
          "TV Show",
          "TV Show",
          "TV Show",
          "TV Show",
          "TV Show",
          "TV Show",
          "TV Show",
          "TV Show",
          "TV Show",
          "TV Show",
          "TV Show",
          "TV Show",
          "TV Show",
          "Movie",
          "TV Show",
          "TV Show",
          "TV Show",
          "TV Show",
          "TV Show",
          "TV Show",
          "TV Show",
          "TV Show",
          "TV Show",
          "TV Show",
          "TV Show",
          "TV Show",
          "Movie",
          "TV Show",
          "TV Show",
          "TV Show",
          "TV Show",
          "TV Show",
          "Movie",
          "TV Show",
          "TV Show",
          "TV Show",
          "TV Show",
          "TV Show",
          "TV Show",
          "TV Show",
          "TV Show",
          "TV Show",
          "TV Show",
          "TV Show",
          "TV Show",
          "TV Show",
          "TV Show",
          "TV Show",
          "TV Show",
          "TV Show",
          "TV Show",
          "TV Show",
          "TV Show",
          "TV Show",
          "TV Show",
          "TV Show",
          "TV Show",
          "TV Show",
          "TV Show",
          "Movie",
          "TV Show",
          "TV Show",
          "TV Show",
          "TV Show",
          "TV Show",
          "TV Show",
          "TV Show",
          "TV Show",
          "TV Show",
          "TV Show",
          "TV Show",
          "TV Show",
          "TV Show",
          "TV Show",
          "TV Show",
          "TV Show",
          "TV Show",
          "TV Show",
          "TV Show",
          "Movie",
          "TV Show",
          "TV Show",
          "TV Show",
          "TV Show",
          "TV Show",
          "TV Show",
          "TV Show",
          "TV Show",
          "Movie",
          "TV Show",
          "TV Show",
          "TV Show",
          "TV Show",
          "TV Show",
          "TV Show",
          "TV Show",
          "TV Show",
          "TV Show",
          "TV Show",
          "TV Show",
          "TV Show",
          "TV Show",
          "TV Show",
          "TV Show",
          "TV Show",
          "TV Show",
          "TV Show",
          "TV Show",
          "TV Show",
          "TV Show",
          "TV Show",
          "TV Show",
          "TV Show",
          "TV Show",
          "TV Show",
          "TV Show",
          "TV Show",
          "TV Show",
          "TV Show",
          "TV Show",
          "TV Show",
          "TV Show",
          "TV Show",
          "TV Show",
          "TV Show",
          "TV Show",
          "TV Show",
          "TV Show",
          "TV Show",
          "TV Show",
          "TV Show",
          "TV Show",
          "TV Show",
          "TV Show",
          "TV Show",
          "TV Show",
          "TV Show",
          "TV Show",
          "TV Show",
          "TV Show",
          "TV Show",
          "TV Show",
          "TV Show",
          "TV Show",
          "TV Show",
          "TV Show",
          "TV Show",
          "TV Show",
          "TV Show",
          "TV Show",
          "TV Show",
          "TV Show",
          "TV Show",
          "TV Show",
          "TV Show",
          "TV Show",
          "TV Show",
          "TV Show",
          "Movie",
          "TV Show",
          "TV Show",
          "Movie",
          "TV Show",
          "TV Show",
          "TV Show",
          "TV Show",
          "TV Show",
          "TV Show",
          "TV Show",
          "Movie",
          "TV Show",
          "TV Show",
          "TV Show",
          "TV Show",
          "TV Show",
          "TV Show",
          "TV Show",
          "TV Show",
          "TV Show",
          "TV Show",
          "Movie",
          "TV Show",
          "TV Show",
          "TV Show",
          "TV Show",
          "TV Show",
          "TV Show",
          "TV Show",
          "TV Show",
          "TV Show",
          "TV Show",
          "TV Show",
          "TV Show",
          "TV Show",
          "TV Show",
          "TV Show",
          "TV Show",
          "TV Show",
          "TV Show",
          "TV Show",
          "TV Show",
          "TV Show",
          "TV Show",
          "TV Show",
          "TV Show",
          "TV Show",
          "TV Show",
          "TV Show",
          "TV Show",
          "TV Show",
          "TV Show",
          "TV Show",
          "TV Show",
          "TV Show",
          "TV Show",
          "TV Show",
          "TV Show",
          "Movie",
          "TV Show",
          "TV Show",
          "TV Show",
          "TV Show",
          "TV Show",
          "TV Show",
          "TV Show",
          "TV Show",
          "TV Show",
          "TV Show",
          "TV Show",
          "TV Show",
          "TV Show",
          "TV Show",
          "TV Show",
          "TV Show",
          "TV Show",
          "Movie",
          "TV Show",
          "TV Show",
          "TV Show",
          "TV Show",
          "TV Show",
          "TV Show",
          "TV Show",
          "TV Show",
          "TV Show",
          "TV Show",
          "TV Show",
          "TV Show",
          "TV Show",
          "TV Show",
          "TV Show",
          "TV Show",
          "TV Show",
          "TV Show",
          "TV Show",
          "TV Show",
          "TV Show",
          "TV Show",
          "TV Show",
          "TV Show",
          "TV Show",
          "Movie",
          "TV Show",
          "TV Show",
          "Movie",
          "TV Show",
          "TV Show",
          "TV Show",
          "TV Show",
          "TV Show",
          "TV Show",
          "TV Show",
          "TV Show",
          "TV Show",
          "TV Show",
          "TV Show",
          "TV Show",
          "TV Show",
          "TV Show",
          "TV Show",
          "TV Show",
          "TV Show",
          "TV Show",
          "TV Show",
          "TV Show",
          "TV Show",
          "TV Show",
          "TV Show",
          "TV Show",
          "TV Show",
          "TV Show",
          "TV Show",
          "TV Show",
          "TV Show",
          "TV Show",
          "TV Show",
          "Movie",
          "TV Show",
          "TV Show",
          "TV Show",
          "TV Show",
          "TV Show",
          "TV Show",
          "TV Show",
          "TV Show",
          "TV Show",
          "TV Show",
          "TV Show",
          "TV Show",
          "TV Show",
          "Movie",
          "TV Show",
          "Movie",
          "TV Show",
          "TV Show",
          "TV Show",
          "TV Show",
          "TV Show",
          "TV Show",
          "TV Show",
          "TV Show",
          "TV Show",
          "TV Show",
          "TV Show",
          "TV Show",
          "TV Show",
          "TV Show",
          "TV Show",
          "TV Show",
          "TV Show",
          "TV Show",
          "Movie",
          "TV Show",
          "TV Show",
          "TV Show",
          "TV Show",
          "TV Show",
          "TV Show",
          "TV Show",
          "TV Show",
          "TV Show",
          "TV Show",
          "TV Show",
          "TV Show",
          "TV Show",
          "TV Show",
          "TV Show",
          "TV Show",
          "TV Show",
          "TV Show",
          "TV Show",
          "TV Show",
          "TV Show",
          "TV Show",
          "TV Show",
          "TV Show",
          "TV Show",
          "TV Show",
          "TV Show",
          "TV Show",
          "TV Show",
          "TV Show",
          "TV Show",
          "TV Show",
          "TV Show",
          "TV Show",
          "TV Show",
          "TV Show",
          "TV Show",
          "TV Show",
          "TV Show",
          "Movie",
          "TV Show",
          "TV Show",
          "TV Show",
          "TV Show",
          "TV Show",
          "TV Show",
          "TV Show",
          "TV Show",
          "TV Show",
          "TV Show",
          "TV Show",
          "TV Show",
          "TV Show",
          "TV Show",
          "TV Show",
          "TV Show",
          "TV Show",
          "TV Show",
          "TV Show",
          "TV Show",
          "TV Show",
          "TV Show",
          "TV Show",
          "TV Show",
          "TV Show",
          "TV Show",
          "TV Show",
          "TV Show",
          "TV Show",
          "TV Show",
          "TV Show",
          "TV Show",
          "TV Show",
          "TV Show",
          "TV Show",
          "TV Show",
          "TV Show",
          "TV Show",
          "TV Show",
          "TV Show",
          "TV Show",
          "TV Show",
          "TV Show",
          "TV Show",
          "TV Show",
          "TV Show",
          "Movie",
          "TV Show",
          "TV Show",
          "TV Show",
          "TV Show",
          "TV Show",
          "TV Show",
          "TV Show",
          "TV Show",
          "TV Show",
          "TV Show",
          "TV Show",
          "TV Show",
          "TV Show",
          "TV Show",
          "TV Show",
          "TV Show",
          "TV Show",
          "TV Show",
          "TV Show",
          "TV Show",
          "TV Show",
          "TV Show",
          "TV Show",
          "TV Show",
          "TV Show",
          "TV Show",
          "TV Show",
          "Movie",
          "TV Show",
          "TV Show",
          "TV Show",
          "TV Show",
          "TV Show",
          "TV Show",
          "TV Show",
          "TV Show",
          "TV Show",
          "TV Show",
          "TV Show",
          "TV Show",
          "TV Show",
          "TV Show",
          "TV Show",
          "TV Show",
          "TV Show",
          "TV Show",
          "TV Show",
          "TV Show",
          "TV Show",
          "TV Show",
          "TV Show",
          "TV Show",
          "TV Show",
          "TV Show",
          "TV Show",
          "TV Show",
          "TV Show",
          "TV Show",
          "TV Show",
          "TV Show",
          "TV Show",
          "TV Show",
          "TV Show",
          "TV Show",
          "TV Show",
          "TV Show",
          "TV Show",
          "TV Show",
          "TV Show",
          "TV Show",
          "TV Show",
          "TV Show",
          "TV Show",
          "TV Show",
          "TV Show",
          "TV Show",
          "TV Show",
          "TV Show",
          "TV Show",
          "TV Show",
          "TV Show",
          "TV Show",
          "TV Show",
          "TV Show",
          "TV Show",
          "TV Show",
          "TV Show",
          "TV Show",
          "TV Show",
          "TV Show",
          "TV Show",
          "TV Show",
          "Movie",
          "Movie",
          "TV Show",
          "TV Show",
          "TV Show",
          "TV Show",
          "Movie",
          "TV Show",
          "TV Show",
          "TV Show",
          "TV Show",
          "TV Show",
          "Movie",
          "TV Show",
          "Movie",
          "TV Show",
          "TV Show",
          "Movie",
          "TV Show",
          "TV Show",
          "TV Show",
          "TV Show",
          "TV Show",
          "TV Show",
          "TV Show",
          "TV Show",
          "TV Show",
          "TV Show",
          "Movie",
          "Movie",
          "Movie",
          "TV Show",
          "Movie",
          "TV Show",
          "TV Show",
          "TV Show",
          "TV Show",
          "TV Show",
          "TV Show",
          "TV Show",
          "TV Show",
          "TV Show",
          "TV Show",
          "TV Show",
          "TV Show",
          "TV Show",
          "TV Show",
          "TV Show",
          "TV Show",
          "TV Show",
          "TV Show",
          "TV Show",
          "TV Show",
          "Movie",
          "Movie",
          "TV Show",
          "TV Show",
          "TV Show",
          "TV Show",
          "TV Show",
          "TV Show",
          "TV Show",
          "TV Show",
          "TV Show",
          "TV Show",
          "TV Show",
          "TV Show",
          "Movie",
          "TV Show",
          "TV Show",
          "TV Show",
          "TV Show",
          "TV Show",
          "TV Show",
          "TV Show",
          "TV Show",
          "TV Show",
          "TV Show",
          "TV Show",
          "TV Show",
          "TV Show",
          "TV Show",
          "TV Show",
          "Movie",
          "TV Show",
          "TV Show",
          "TV Show",
          "TV Show",
          "TV Show",
          "TV Show",
          "TV Show",
          "TV Show",
          "TV Show",
          "TV Show",
          "TV Show",
          "Movie",
          "TV Show",
          "TV Show",
          "TV Show",
          "TV Show",
          "Movie",
          "TV Show",
          "Movie",
          "TV Show",
          "TV Show",
          "TV Show",
          "TV Show",
          "TV Show",
          "TV Show",
          "TV Show",
          "TV Show",
          "TV Show",
          "TV Show",
          "TV Show",
          "TV Show",
          "TV Show",
          "TV Show",
          "TV Show",
          "TV Show",
          "TV Show",
          "TV Show",
          "TV Show",
          "TV Show",
          "TV Show",
          "Movie",
          "TV Show",
          "TV Show",
          "Movie",
          "TV Show",
          "TV Show",
          "TV Show",
          "TV Show",
          "TV Show",
          "TV Show",
          "TV Show",
          "TV Show",
          "TV Show",
          "TV Show",
          "TV Show",
          "TV Show",
          "Movie",
          "TV Show",
          "Movie",
          "TV Show",
          "TV Show",
          "TV Show",
          "TV Show",
          "TV Show",
          "TV Show",
          "Movie",
          "TV Show",
          "TV Show",
          "TV Show",
          "TV Show",
          "TV Show",
          "TV Show",
          "TV Show",
          "TV Show",
          "TV Show",
          "TV Show",
          "TV Show",
          "TV Show",
          "TV Show",
          "TV Show",
          "TV Show",
          "TV Show",
          "TV Show",
          "Movie",
          "TV Show",
          "TV Show",
          "TV Show",
          "TV Show",
          "TV Show",
          "TV Show",
          "TV Show",
          "TV Show",
          "TV Show",
          "TV Show",
          "TV Show",
          "TV Show",
          "TV Show",
          "TV Show",
          "TV Show",
          "TV Show",
          "TV Show",
          "TV Show",
          "Movie",
          "TV Show",
          "TV Show",
          "TV Show",
          "Movie",
          "TV Show",
          "TV Show",
          "TV Show",
          "TV Show",
          "TV Show",
          "TV Show",
          "TV Show",
          "TV Show",
          "TV Show",
          "TV Show",
          "TV Show",
          "TV Show",
          "TV Show",
          "TV Show",
          "TV Show",
          "TV Show",
          "TV Show",
          "TV Show",
          "TV Show",
          "TV Show",
          "TV Show",
          "TV Show",
          "TV Show",
          "TV Show",
          "TV Show",
          "TV Show",
          "TV Show",
          "TV Show",
          "Movie",
          "TV Show",
          "TV Show",
          "TV Show",
          "TV Show",
          "TV Show",
          "TV Show",
          "TV Show",
          "TV Show",
          "TV Show",
          "TV Show",
          "TV Show",
          "TV Show",
          "TV Show",
          "TV Show",
          "TV Show",
          "TV Show",
          "TV Show",
          "TV Show",
          "TV Show",
          "TV Show",
          "TV Show",
          "TV Show",
          "TV Show",
          "TV Show",
          "TV Show",
          "TV Show",
          "TV Show",
          "Movie",
          "Movie",
          "TV Show",
          "TV Show",
          "TV Show",
          "TV Show",
          "TV Show",
          "TV Show",
          "TV Show",
          "TV Show",
          "TV Show",
          "TV Show",
          "Movie",
          "TV Show",
          "Movie",
          "TV Show",
          "TV Show",
          "TV Show",
          "TV Show",
          "TV Show",
          "Movie",
          "TV Show",
          "Movie",
          "TV Show",
          "TV Show",
          "TV Show",
          "TV Show",
          "TV Show",
          "TV Show",
          "TV Show",
          "TV Show",
          "TV Show",
          "TV Show",
          "TV Show",
          "TV Show",
          "TV Show",
          "Movie",
          "TV Show",
          "TV Show",
          "TV Show",
          "TV Show",
          "TV Show",
          "TV Show",
          "TV Show",
          "TV Show",
          "TV Show",
          "TV Show",
          "TV Show",
          "TV Show",
          "TV Show",
          "TV Show",
          "TV Show",
          "TV Show",
          "TV Show",
          "TV Show",
          "TV Show",
          "TV Show",
          "TV Show",
          "TV Show",
          "TV Show",
          "TV Show",
          "TV Show",
          "TV Show",
          "TV Show",
          "TV Show",
          "TV Show",
          "TV Show",
          "TV Show",
          "TV Show",
          "TV Show",
          "TV Show",
          "TV Show",
          "TV Show",
          "TV Show",
          "TV Show",
          "TV Show",
          "TV Show",
          "TV Show",
          "TV Show",
          "TV Show",
          "TV Show",
          "TV Show",
          "TV Show",
          "TV Show",
          "TV Show",
          "TV Show",
          "TV Show",
          "TV Show",
          "Movie",
          "TV Show",
          "TV Show",
          "TV Show",
          "TV Show",
          "TV Show",
          "TV Show",
          "TV Show",
          "TV Show",
          "TV Show",
          "TV Show",
          "TV Show",
          "TV Show",
          "TV Show",
          "TV Show",
          "TV Show",
          "TV Show",
          "TV Show",
          "TV Show",
          "TV Show",
          "TV Show",
          "TV Show",
          "TV Show",
          "TV Show",
          "TV Show",
          "TV Show",
          "TV Show",
          "TV Show",
          "TV Show",
          "TV Show",
          "TV Show",
          "TV Show",
          "TV Show",
          "TV Show",
          "TV Show",
          "TV Show",
          "TV Show",
          "TV Show",
          "TV Show",
          "TV Show",
          "TV Show",
          "TV Show",
          "TV Show",
          "TV Show",
          "TV Show",
          "TV Show",
          "TV Show",
          "TV Show",
          "TV Show",
          "TV Show",
          "TV Show",
          "TV Show",
          "TV Show",
          "TV Show",
          "TV Show",
          "TV Show",
          "TV Show",
          "TV Show",
          "TV Show",
          "TV Show",
          "TV Show",
          "TV Show",
          "TV Show",
          "TV Show",
          "TV Show",
          "TV Show",
          "TV Show",
          "TV Show",
          "TV Show",
          "TV Show",
          "TV Show",
          "TV Show",
          "TV Show",
          "Movie",
          "TV Show",
          "TV Show",
          "TV Show",
          "TV Show",
          "TV Show",
          "TV Show",
          "TV Show",
          "TV Show",
          "TV Show",
          "TV Show",
          "TV Show",
          "TV Show",
          "TV Show",
          "TV Show",
          "TV Show",
          "TV Show",
          "TV Show",
          "TV Show",
          "Movie",
          "TV Show",
          "TV Show",
          "TV Show",
          "TV Show",
          "TV Show",
          "TV Show",
          "TV Show",
          "TV Show",
          "TV Show",
          "TV Show",
          "TV Show",
          "TV Show",
          "TV Show",
          "TV Show",
          "TV Show",
          "TV Show",
          "TV Show",
          "TV Show",
          "TV Show",
          "TV Show",
          "TV Show",
          "TV Show",
          "TV Show",
          "TV Show",
          "TV Show",
          "TV Show",
          "TV Show",
          "TV Show",
          "TV Show",
          "TV Show",
          "TV Show",
          "TV Show",
          "TV Show",
          "TV Show",
          "TV Show",
          "TV Show",
          "TV Show",
          "TV Show",
          "TV Show",
          "TV Show",
          "TV Show",
          "TV Show",
          "TV Show",
          "TV Show",
          "TV Show",
          "TV Show",
          "TV Show",
          "TV Show",
          "TV Show",
          "TV Show",
          "TV Show",
          "TV Show",
          "TV Show",
          "TV Show",
          "TV Show",
          "Movie",
          "TV Show",
          "TV Show",
          "TV Show",
          "TV Show",
          "Movie",
          "TV Show",
          "TV Show",
          "TV Show",
          "TV Show",
          "TV Show",
          "Movie",
          "TV Show",
          "TV Show",
          "TV Show",
          "TV Show",
          "Movie",
          "TV Show",
          "TV Show",
          "TV Show",
          "TV Show",
          "TV Show",
          "Movie",
          "TV Show",
          "TV Show",
          "TV Show",
          "TV Show",
          "TV Show",
          "TV Show",
          "TV Show",
          "TV Show",
          "TV Show",
          "TV Show",
          "TV Show",
          "Movie",
          "TV Show",
          "TV Show",
          "TV Show",
          "TV Show",
          "TV Show",
          "Movie",
          "Movie",
          "TV Show",
          "TV Show",
          "TV Show",
          "TV Show",
          "TV Show",
          "Movie",
          "TV Show",
          "Movie",
          "TV Show",
          "TV Show",
          "Movie",
          "TV Show",
          "TV Show",
          "TV Show",
          "TV Show",
          "Movie",
          "TV Show",
          "TV Show",
          "Movie",
          "TV Show",
          "TV Show",
          "TV Show",
          "TV Show",
          "TV Show",
          "TV Show",
          "TV Show",
          "TV Show",
          "TV Show",
          "TV Show",
          "TV Show",
          "TV Show",
          "TV Show",
          "TV Show",
          "TV Show",
          "TV Show",
          "TV Show",
          "TV Show",
          "TV Show",
          "TV Show",
          "TV Show",
          "TV Show",
          "TV Show",
          "TV Show",
          "Movie",
          "TV Show",
          "TV Show",
          "TV Show",
          "TV Show",
          "TV Show",
          "TV Show",
          "TV Show",
          "Movie",
          "TV Show",
          "TV Show",
          "TV Show",
          "TV Show",
          "TV Show",
          "TV Show",
          "TV Show",
          "TV Show",
          "TV Show",
          "TV Show",
          "TV Show",
          "TV Show",
          "TV Show",
          "TV Show",
          "TV Show",
          "TV Show",
          "TV Show",
          "TV Show",
          "TV Show",
          "TV Show",
          "TV Show",
          "TV Show",
          "TV Show",
          "TV Show",
          "TV Show",
          "TV Show",
          "TV Show",
          "TV Show",
          "TV Show",
          "TV Show",
          "TV Show",
          "TV Show",
          "TV Show",
          "TV Show",
          "TV Show",
          "TV Show",
          "TV Show",
          "TV Show",
          "TV Show",
          "TV Show",
          "TV Show",
          "TV Show",
          "TV Show",
          "TV Show",
          "TV Show",
          "TV Show",
          "Movie",
          "TV Show",
          "TV Show",
          "TV Show",
          "TV Show",
          "TV Show",
          "TV Show",
          "TV Show",
          "TV Show",
          "Movie",
          "TV Show",
          "TV Show",
          "TV Show",
          "TV Show",
          "Movie",
          "TV Show",
          "TV Show",
          "TV Show",
          "TV Show",
          "TV Show",
          "TV Show",
          "TV Show",
          "TV Show",
          "TV Show",
          "TV Show",
          "TV Show",
          "TV Show",
          "TV Show",
          "TV Show",
          "Movie",
          "TV Show",
          "TV Show",
          "TV Show",
          "TV Show",
          "TV Show",
          "TV Show",
          "TV Show",
          "TV Show",
          "TV Show",
          "TV Show",
          "TV Show",
          "TV Show",
          "TV Show",
          "TV Show",
          "TV Show",
          "TV Show",
          "TV Show",
          "TV Show",
          "Movie",
          "TV Show",
          "TV Show",
          "TV Show",
          "TV Show",
          "TV Show",
          "TV Show",
          "TV Show",
          "TV Show",
          "TV Show",
          "TV Show",
          "TV Show",
          "TV Show",
          "TV Show",
          "Movie",
          "TV Show",
          "TV Show",
          "TV Show",
          "TV Show",
          "TV Show",
          "TV Show",
          "TV Show",
          "TV Show",
          "TV Show",
          "TV Show",
          "TV Show",
          "TV Show",
          "TV Show",
          "TV Show",
          "TV Show",
          "TV Show",
          "TV Show",
          "TV Show",
          "TV Show",
          "TV Show",
          "TV Show",
          "TV Show",
          "TV Show",
          "TV Show",
          "TV Show",
          "TV Show",
          "TV Show",
          "TV Show",
          "TV Show",
          "TV Show",
          "TV Show",
          "TV Show",
          "TV Show",
          "TV Show",
          "TV Show",
          "TV Show",
          "TV Show",
          "TV Show",
          "TV Show",
          "TV Show",
          "TV Show",
          "TV Show",
          "TV Show",
          "TV Show",
          "Movie",
          "TV Show",
          "TV Show",
          "TV Show",
          "Movie",
          "Movie",
          "TV Show",
          "TV Show",
          "TV Show",
          "TV Show",
          "TV Show",
          "TV Show",
          "TV Show",
          "Movie",
          "TV Show",
          "TV Show",
          "TV Show",
          "TV Show",
          "TV Show",
          "Movie",
          "TV Show",
          "TV Show",
          "TV Show",
          "TV Show",
          "TV Show",
          "TV Show",
          "TV Show",
          "TV Show",
          "TV Show",
          "TV Show",
          "TV Show",
          "TV Show",
          "TV Show",
          "TV Show",
          "TV Show",
          "TV Show",
          "TV Show",
          "TV Show",
          "TV Show",
          "TV Show",
          "TV Show",
          "TV Show",
          "TV Show",
          "TV Show",
          "TV Show",
          "TV Show",
          "TV Show",
          "TV Show",
          "TV Show",
          "TV Show",
          "TV Show",
          "TV Show",
          "TV Show",
          "TV Show",
          "TV Show",
          "TV Show",
          "TV Show",
          "TV Show",
          "TV Show",
          "TV Show",
          "TV Show",
          "TV Show",
          "TV Show",
          "TV Show",
          "TV Show",
          "Movie",
          "Movie",
          "TV Show",
          "TV Show",
          "TV Show",
          "TV Show",
          "TV Show",
          "TV Show",
          "TV Show",
          "TV Show",
          "Movie",
          "TV Show",
          "TV Show",
          "TV Show",
          "TV Show",
          "Movie",
          "TV Show",
          "TV Show",
          "TV Show",
          "TV Show",
          "TV Show",
          "TV Show",
          "TV Show",
          "TV Show",
          "TV Show",
          "TV Show",
          "TV Show",
          "TV Show",
          "TV Show",
          "TV Show",
          "TV Show",
          "TV Show",
          "TV Show",
          "TV Show",
          "TV Show",
          "TV Show",
          "TV Show",
          "TV Show",
          "TV Show",
          "Movie",
          "Movie",
          "Movie",
          "Movie",
          "Movie",
          "TV Show",
          "TV Show",
          "TV Show",
          "TV Show",
          "TV Show",
          "Movie",
          "TV Show",
          "TV Show",
          "TV Show",
          "TV Show",
          "TV Show",
          "TV Show",
          "TV Show",
          "TV Show",
          "TV Show",
          "TV Show",
          "TV Show",
          "TV Show",
          "TV Show",
          "TV Show",
          "TV Show",
          "TV Show",
          "TV Show",
          "TV Show",
          "TV Show",
          "TV Show",
          "TV Show",
          "TV Show",
          "TV Show",
          "TV Show",
          "TV Show",
          "TV Show",
          "TV Show",
          "Movie",
          "TV Show",
          "TV Show",
          "TV Show",
          "TV Show",
          "TV Show",
          "TV Show",
          "TV Show",
          "TV Show",
          "Movie",
          "TV Show",
          "TV Show",
          "TV Show",
          "TV Show",
          "TV Show",
          "TV Show",
          "TV Show",
          "TV Show",
          "TV Show",
          "TV Show",
          "TV Show",
          "TV Show",
          "TV Show",
          "TV Show",
          "TV Show",
          "TV Show",
          "TV Show",
          "TV Show",
          "TV Show",
          "TV Show",
          "TV Show",
          "TV Show",
          "TV Show",
          "TV Show",
          "TV Show",
          "TV Show",
          "TV Show",
          "TV Show",
          "TV Show",
          "TV Show",
          "Movie",
          "TV Show",
          "TV Show",
          "TV Show",
          "TV Show",
          "Movie",
          "TV Show",
          "TV Show",
          "TV Show",
          "TV Show",
          "TV Show",
          "TV Show",
          "TV Show",
          "TV Show",
          "Movie",
          "TV Show",
          "TV Show",
          "TV Show",
          "TV Show",
          "TV Show",
          "TV Show",
          "TV Show",
          "TV Show",
          "TV Show",
          "TV Show",
          "TV Show",
          "TV Show",
          "TV Show",
          "TV Show",
          "TV Show",
          "TV Show",
          "TV Show",
          "TV Show",
          "TV Show",
          "TV Show",
          "TV Show",
          "TV Show",
          "TV Show",
          "TV Show",
          "TV Show",
          "TV Show",
          "TV Show",
          "TV Show",
          "TV Show",
          "TV Show",
          "TV Show",
          "TV Show",
          "TV Show",
          "TV Show",
          "TV Show",
          "TV Show",
          "TV Show",
          "TV Show",
          "TV Show",
          "TV Show",
          "TV Show",
          "TV Show",
          "TV Show",
          "TV Show",
          "TV Show",
          "TV Show",
          "Movie",
          "TV Show",
          "TV Show",
          "TV Show",
          "TV Show",
          "TV Show",
          "TV Show",
          "TV Show",
          "TV Show",
          "TV Show",
          "TV Show",
          "TV Show",
          "TV Show",
          "TV Show",
          "TV Show",
          "TV Show",
          "TV Show",
          "TV Show",
          "TV Show",
          "TV Show",
          "Movie",
          "TV Show",
          "TV Show",
          "TV Show",
          "TV Show",
          "TV Show",
          "TV Show"
         ],
         "legendgroup": "",
         "name": "",
         "pull": [
          0.05,
          0.05
         ],
         "showlegend": true,
         "textinfo": "percent+label",
         "type": "pie"
        }
       ],
       "layout": {
        "legend": {
         "tracegroupgap": 0
        },
        "piecolorway": [
         "#FF9999",
         "#FFC2C2"
        ],
        "template": {
         "data": {
          "bar": [
           {
            "error_x": {
             "color": "#2a3f5f"
            },
            "error_y": {
             "color": "#2a3f5f"
            },
            "marker": {
             "line": {
              "color": "#E5ECF6",
              "width": 0.5
             },
             "pattern": {
              "fillmode": "overlay",
              "size": 10,
              "solidity": 0.2
             }
            },
            "type": "bar"
           }
          ],
          "barpolar": [
           {
            "marker": {
             "line": {
              "color": "#E5ECF6",
              "width": 0.5
             },
             "pattern": {
              "fillmode": "overlay",
              "size": 10,
              "solidity": 0.2
             }
            },
            "type": "barpolar"
           }
          ],
          "carpet": [
           {
            "aaxis": {
             "endlinecolor": "#2a3f5f",
             "gridcolor": "white",
             "linecolor": "white",
             "minorgridcolor": "white",
             "startlinecolor": "#2a3f5f"
            },
            "baxis": {
             "endlinecolor": "#2a3f5f",
             "gridcolor": "white",
             "linecolor": "white",
             "minorgridcolor": "white",
             "startlinecolor": "#2a3f5f"
            },
            "type": "carpet"
           }
          ],
          "choropleth": [
           {
            "colorbar": {
             "outlinewidth": 0,
             "ticks": ""
            },
            "type": "choropleth"
           }
          ],
          "contour": [
           {
            "colorbar": {
             "outlinewidth": 0,
             "ticks": ""
            },
            "colorscale": [
             [
              0,
              "#0d0887"
             ],
             [
              0.1111111111111111,
              "#46039f"
             ],
             [
              0.2222222222222222,
              "#7201a8"
             ],
             [
              0.3333333333333333,
              "#9c179e"
             ],
             [
              0.4444444444444444,
              "#bd3786"
             ],
             [
              0.5555555555555556,
              "#d8576b"
             ],
             [
              0.6666666666666666,
              "#ed7953"
             ],
             [
              0.7777777777777778,
              "#fb9f3a"
             ],
             [
              0.8888888888888888,
              "#fdca26"
             ],
             [
              1,
              "#f0f921"
             ]
            ],
            "type": "contour"
           }
          ],
          "contourcarpet": [
           {
            "colorbar": {
             "outlinewidth": 0,
             "ticks": ""
            },
            "type": "contourcarpet"
           }
          ],
          "heatmap": [
           {
            "colorbar": {
             "outlinewidth": 0,
             "ticks": ""
            },
            "colorscale": [
             [
              0,
              "#0d0887"
             ],
             [
              0.1111111111111111,
              "#46039f"
             ],
             [
              0.2222222222222222,
              "#7201a8"
             ],
             [
              0.3333333333333333,
              "#9c179e"
             ],
             [
              0.4444444444444444,
              "#bd3786"
             ],
             [
              0.5555555555555556,
              "#d8576b"
             ],
             [
              0.6666666666666666,
              "#ed7953"
             ],
             [
              0.7777777777777778,
              "#fb9f3a"
             ],
             [
              0.8888888888888888,
              "#fdca26"
             ],
             [
              1,
              "#f0f921"
             ]
            ],
            "type": "heatmap"
           }
          ],
          "histogram": [
           {
            "marker": {
             "pattern": {
              "fillmode": "overlay",
              "size": 10,
              "solidity": 0.2
             }
            },
            "type": "histogram"
           }
          ],
          "histogram2d": [
           {
            "colorbar": {
             "outlinewidth": 0,
             "ticks": ""
            },
            "colorscale": [
             [
              0,
              "#0d0887"
             ],
             [
              0.1111111111111111,
              "#46039f"
             ],
             [
              0.2222222222222222,
              "#7201a8"
             ],
             [
              0.3333333333333333,
              "#9c179e"
             ],
             [
              0.4444444444444444,
              "#bd3786"
             ],
             [
              0.5555555555555556,
              "#d8576b"
             ],
             [
              0.6666666666666666,
              "#ed7953"
             ],
             [
              0.7777777777777778,
              "#fb9f3a"
             ],
             [
              0.8888888888888888,
              "#fdca26"
             ],
             [
              1,
              "#f0f921"
             ]
            ],
            "type": "histogram2d"
           }
          ],
          "histogram2dcontour": [
           {
            "colorbar": {
             "outlinewidth": 0,
             "ticks": ""
            },
            "colorscale": [
             [
              0,
              "#0d0887"
             ],
             [
              0.1111111111111111,
              "#46039f"
             ],
             [
              0.2222222222222222,
              "#7201a8"
             ],
             [
              0.3333333333333333,
              "#9c179e"
             ],
             [
              0.4444444444444444,
              "#bd3786"
             ],
             [
              0.5555555555555556,
              "#d8576b"
             ],
             [
              0.6666666666666666,
              "#ed7953"
             ],
             [
              0.7777777777777778,
              "#fb9f3a"
             ],
             [
              0.8888888888888888,
              "#fdca26"
             ],
             [
              1,
              "#f0f921"
             ]
            ],
            "type": "histogram2dcontour"
           }
          ],
          "mesh3d": [
           {
            "colorbar": {
             "outlinewidth": 0,
             "ticks": ""
            },
            "type": "mesh3d"
           }
          ],
          "parcoords": [
           {
            "line": {
             "colorbar": {
              "outlinewidth": 0,
              "ticks": ""
             }
            },
            "type": "parcoords"
           }
          ],
          "pie": [
           {
            "automargin": true,
            "type": "pie"
           }
          ],
          "scatter": [
           {
            "fillpattern": {
             "fillmode": "overlay",
             "size": 10,
             "solidity": 0.2
            },
            "type": "scatter"
           }
          ],
          "scatter3d": [
           {
            "line": {
             "colorbar": {
              "outlinewidth": 0,
              "ticks": ""
             }
            },
            "marker": {
             "colorbar": {
              "outlinewidth": 0,
              "ticks": ""
             }
            },
            "type": "scatter3d"
           }
          ],
          "scattercarpet": [
           {
            "marker": {
             "colorbar": {
              "outlinewidth": 0,
              "ticks": ""
             }
            },
            "type": "scattercarpet"
           }
          ],
          "scattergeo": [
           {
            "marker": {
             "colorbar": {
              "outlinewidth": 0,
              "ticks": ""
             }
            },
            "type": "scattergeo"
           }
          ],
          "scattergl": [
           {
            "marker": {
             "colorbar": {
              "outlinewidth": 0,
              "ticks": ""
             }
            },
            "type": "scattergl"
           }
          ],
          "scattermap": [
           {
            "marker": {
             "colorbar": {
              "outlinewidth": 0,
              "ticks": ""
             }
            },
            "type": "scattermap"
           }
          ],
          "scattermapbox": [
           {
            "marker": {
             "colorbar": {
              "outlinewidth": 0,
              "ticks": ""
             }
            },
            "type": "scattermapbox"
           }
          ],
          "scatterpolar": [
           {
            "marker": {
             "colorbar": {
              "outlinewidth": 0,
              "ticks": ""
             }
            },
            "type": "scatterpolar"
           }
          ],
          "scatterpolargl": [
           {
            "marker": {
             "colorbar": {
              "outlinewidth": 0,
              "ticks": ""
             }
            },
            "type": "scatterpolargl"
           }
          ],
          "scatterternary": [
           {
            "marker": {
             "colorbar": {
              "outlinewidth": 0,
              "ticks": ""
             }
            },
            "type": "scatterternary"
           }
          ],
          "surface": [
           {
            "colorbar": {
             "outlinewidth": 0,
             "ticks": ""
            },
            "colorscale": [
             [
              0,
              "#0d0887"
             ],
             [
              0.1111111111111111,
              "#46039f"
             ],
             [
              0.2222222222222222,
              "#7201a8"
             ],
             [
              0.3333333333333333,
              "#9c179e"
             ],
             [
              0.4444444444444444,
              "#bd3786"
             ],
             [
              0.5555555555555556,
              "#d8576b"
             ],
             [
              0.6666666666666666,
              "#ed7953"
             ],
             [
              0.7777777777777778,
              "#fb9f3a"
             ],
             [
              0.8888888888888888,
              "#fdca26"
             ],
             [
              1,
              "#f0f921"
             ]
            ],
            "type": "surface"
           }
          ],
          "table": [
           {
            "cells": {
             "fill": {
              "color": "#EBF0F8"
             },
             "line": {
              "color": "white"
             }
            },
            "header": {
             "fill": {
              "color": "#C8D4E3"
             },
             "line": {
              "color": "white"
             }
            },
            "type": "table"
           }
          ]
         },
         "layout": {
          "annotationdefaults": {
           "arrowcolor": "#2a3f5f",
           "arrowhead": 0,
           "arrowwidth": 1
          },
          "autotypenumbers": "strict",
          "coloraxis": {
           "colorbar": {
            "outlinewidth": 0,
            "ticks": ""
           }
          },
          "colorscale": {
           "diverging": [
            [
             0,
             "#8e0152"
            ],
            [
             0.1,
             "#c51b7d"
            ],
            [
             0.2,
             "#de77ae"
            ],
            [
             0.3,
             "#f1b6da"
            ],
            [
             0.4,
             "#fde0ef"
            ],
            [
             0.5,
             "#f7f7f7"
            ],
            [
             0.6,
             "#e6f5d0"
            ],
            [
             0.7,
             "#b8e186"
            ],
            [
             0.8,
             "#7fbc41"
            ],
            [
             0.9,
             "#4d9221"
            ],
            [
             1,
             "#276419"
            ]
           ],
           "sequential": [
            [
             0,
             "#0d0887"
            ],
            [
             0.1111111111111111,
             "#46039f"
            ],
            [
             0.2222222222222222,
             "#7201a8"
            ],
            [
             0.3333333333333333,
             "#9c179e"
            ],
            [
             0.4444444444444444,
             "#bd3786"
            ],
            [
             0.5555555555555556,
             "#d8576b"
            ],
            [
             0.6666666666666666,
             "#ed7953"
            ],
            [
             0.7777777777777778,
             "#fb9f3a"
            ],
            [
             0.8888888888888888,
             "#fdca26"
            ],
            [
             1,
             "#f0f921"
            ]
           ],
           "sequentialminus": [
            [
             0,
             "#0d0887"
            ],
            [
             0.1111111111111111,
             "#46039f"
            ],
            [
             0.2222222222222222,
             "#7201a8"
            ],
            [
             0.3333333333333333,
             "#9c179e"
            ],
            [
             0.4444444444444444,
             "#bd3786"
            ],
            [
             0.5555555555555556,
             "#d8576b"
            ],
            [
             0.6666666666666666,
             "#ed7953"
            ],
            [
             0.7777777777777778,
             "#fb9f3a"
            ],
            [
             0.8888888888888888,
             "#fdca26"
            ],
            [
             1,
             "#f0f921"
            ]
           ]
          },
          "colorway": [
           "#636efa",
           "#EF553B",
           "#00cc96",
           "#ab63fa",
           "#FFA15A",
           "#19d3f3",
           "#FF6692",
           "#B6E880",
           "#FF97FF",
           "#FECB52"
          ],
          "font": {
           "color": "#2a3f5f"
          },
          "geo": {
           "bgcolor": "white",
           "lakecolor": "white",
           "landcolor": "#E5ECF6",
           "showlakes": true,
           "showland": true,
           "subunitcolor": "white"
          },
          "hoverlabel": {
           "align": "left"
          },
          "hovermode": "closest",
          "mapbox": {
           "style": "light"
          },
          "paper_bgcolor": "white",
          "plot_bgcolor": "#E5ECF6",
          "polar": {
           "angularaxis": {
            "gridcolor": "white",
            "linecolor": "white",
            "ticks": ""
           },
           "bgcolor": "#E5ECF6",
           "radialaxis": {
            "gridcolor": "white",
            "linecolor": "white",
            "ticks": ""
           }
          },
          "scene": {
           "xaxis": {
            "backgroundcolor": "#E5ECF6",
            "gridcolor": "white",
            "gridwidth": 2,
            "linecolor": "white",
            "showbackground": true,
            "ticks": "",
            "zerolinecolor": "white"
           },
           "yaxis": {
            "backgroundcolor": "#E5ECF6",
            "gridcolor": "white",
            "gridwidth": 2,
            "linecolor": "white",
            "showbackground": true,
            "ticks": "",
            "zerolinecolor": "white"
           },
           "zaxis": {
            "backgroundcolor": "#E5ECF6",
            "gridcolor": "white",
            "gridwidth": 2,
            "linecolor": "white",
            "showbackground": true,
            "ticks": "",
            "zerolinecolor": "white"
           }
          },
          "shapedefaults": {
           "line": {
            "color": "#2a3f5f"
           }
          },
          "ternary": {
           "aaxis": {
            "gridcolor": "white",
            "linecolor": "white",
            "ticks": ""
           },
           "baxis": {
            "gridcolor": "white",
            "linecolor": "white",
            "ticks": ""
           },
           "bgcolor": "#E5ECF6",
           "caxis": {
            "gridcolor": "white",
            "linecolor": "white",
            "ticks": ""
           }
          },
          "title": {
           "x": 0.05
          },
          "xaxis": {
           "automargin": true,
           "gridcolor": "white",
           "linecolor": "white",
           "ticks": "",
           "title": {
            "standoff": 15
           },
           "zerolinecolor": "white",
           "zerolinewidth": 2
          },
          "yaxis": {
           "automargin": true,
           "gridcolor": "white",
           "linecolor": "white",
           "ticks": "",
           "title": {
            "standoff": 15
           },
           "zerolinecolor": "white",
           "zerolinewidth": 2
          }
         }
        },
        "title": {
         "text": "Distribution of Content (Movies vs TV Shows)"
        }
       }
      },
      "image/png": "[encoded data removed]"
     },
     "metadata": {},
     "output_type": "display_data"
    }
   ],
   "source": [
    "import plotly.express as px\n",
    "\n",
    "# Example: Netflix content type distribution (replace with your dataframe)\n",
    "fig1 = px.pie(\n",
    "    data,\n",
    "    names='type',\n",
    "    title=\"Distribution of Content (Movies vs TV Shows)\",\n",
    "    color_discrete_sequence=[netflix_reds[3], netflix_reds[6]]\n",
    ")\n",
    "\n",
    "# Show only labels and percentages inside the chart\n",
    "fig1.update_traces(\n",
    "    textinfo='percent+label',\n",
    "    pull=[0.05, 0.05],\n",
    "    hoverinfo=\"none\",       #  Disable hover\n",
    "    hovertemplate=None      #  Ensure no tooltip shows up\n",
    ")\n",
    "\n",
    "fig1.show()"
   ]
  },
  {
   "cell_type": "code",
   "execution_count": 9,
   "id": "1d907018-e162-4048-9f42-8177bd35feec",
   "metadata": {},
   "outputs": [
    {
     "data": {
      "application/vnd.plotly.v1+json": {
       "config": {
        "plotlyServerURL": "https://plot.ly"
       },
       "data": [
        {
         "hoverinfo": "none",
         "legendgroup": "TV-MA",
         "marker": {
          "color": "#FF6F61",
          "pattern": {
           "shape": ""
          }
         },
         "name": "TV-MA",
         "orientation": "v",
         "showlegend": true,
         "textposition": "auto",
         "type": "bar",
         "x": [
          "TV-MA"
         ],
         "xaxis": "x",
         "y": {
          "bdata": "hQw=",
          "dtype": "i2"
         },
         "yaxis": "y"
        },
        {
         "hoverinfo": "none",
         "legendgroup": "TV-14",
         "marker": {
          "color": "#FF7F7F",
          "pattern": {
           "shape": ""
          }
         },
         "name": "TV-14",
         "orientation": "v",
         "showlegend": true,
         "textposition": "auto",
         "type": "bar",
         "x": [
          "TV-14"
         ],
         "xaxis": "x",
         "y": {
          "bdata": "bQg=",
          "dtype": "i2"
         },
         "yaxis": "y"
        },
        {
         "hoverinfo": "none",
         "legendgroup": "TV-PG",
         "marker": {
          "color": "#FF8C8C",
          "pattern": {
           "shape": ""
          }
         },
         "name": "TV-PG",
         "orientation": "v",
         "showlegend": true,
         "textposition": "auto",
         "type": "bar",
         "x": [
          "TV-PG"
         ],
         "xaxis": "x",
         "y": {
          "bdata": "XQM=",
          "dtype": "i2"
         },
         "yaxis": "y"
        },
        {
         "hoverinfo": "none",
         "legendgroup": "R",
         "marker": {
          "color": "#FF9999",
          "pattern": {
           "shape": ""
          }
         },
         "name": "R",
         "orientation": "v",
         "showlegend": true,
         "textposition": "auto",
         "type": "bar",
         "x": [
          "R"
         ],
         "xaxis": "x",
         "y": {
          "bdata": "HwM=",
          "dtype": "i2"
         },
         "yaxis": "y"
        },
        {
         "hoverinfo": "none",
         "legendgroup": "PG-13",
         "marker": {
          "color": "#FFA3A3",
          "pattern": {
           "shape": ""
          }
         },
         "name": "PG-13",
         "orientation": "v",
         "showlegend": true,
         "textposition": "auto",
         "type": "bar",
         "x": [
          "PG-13"
         ],
         "xaxis": "x",
         "y": {
          "bdata": "6gE=",
          "dtype": "i2"
         },
         "yaxis": "y"
        },
        {
         "hoverinfo": "none",
         "legendgroup": "TV-Y7",
         "marker": {
          "color": "#FFB3B3",
          "pattern": {
           "shape": ""
          }
         },
         "name": "TV-Y7",
         "orientation": "v",
         "showlegend": true,
         "textposition": "auto",
         "type": "bar",
         "x": [
          "TV-Y7"
         ],
         "xaxis": "x",
         "y": {
          "bdata": "TQE=",
          "dtype": "i2"
         },
         "yaxis": "y"
        },
        {
         "hoverinfo": "none",
         "legendgroup": "TV-Y",
         "marker": {
          "color": "#FFC2C2",
          "pattern": {
           "shape": ""
          }
         },
         "name": "TV-Y",
         "orientation": "v",
         "showlegend": true,
         "textposition": "auto",
         "type": "bar",
         "x": [
          "TV-Y"
         ],
         "xaxis": "x",
         "y": {
          "bdata": "MgE=",
          "dtype": "i2"
         },
         "yaxis": "y"
        },
        {
         "hoverinfo": "none",
         "legendgroup": "PG",
         "marker": {
          "color": "#FFD6D6",
          "pattern": {
           "shape": ""
          }
         },
         "name": "PG",
         "orientation": "v",
         "showlegend": true,
         "textposition": "auto",
         "type": "bar",
         "x": [
          "PG"
         ],
         "xaxis": "x",
         "y": {
          "bdata": "HwE=",
          "dtype": "i2"
         },
         "yaxis": "y"
        },
        {
         "hoverinfo": "none",
         "legendgroup": "TV-G",
         "marker": {
          "color": "#FF6F61",
          "pattern": {
           "shape": ""
          }
         },
         "name": "TV-G",
         "orientation": "v",
         "showlegend": true,
         "textposition": "auto",
         "type": "bar",
         "x": [
          "TV-G"
         ],
         "xaxis": "x",
         "y": {
          "bdata": "3AA=",
          "dtype": "i2"
         },
         "yaxis": "y"
        },
        {
         "hoverinfo": "none",
         "legendgroup": "NR",
         "marker": {
          "color": "#FF7F7F",
          "pattern": {
           "shape": ""
          }
         },
         "name": "NR",
         "orientation": "v",
         "showlegend": true,
         "textposition": "auto",
         "type": "bar",
         "x": [
          "NR"
         ],
         "xaxis": "x",
         "y": {
          "bdata": "Tw==",
          "dtype": "i1"
         },
         "yaxis": "y"
        },
        {
         "hoverinfo": "none",
         "legendgroup": "G",
         "marker": {
          "color": "#FF8C8C",
          "pattern": {
           "shape": ""
          }
         },
         "name": "G",
         "orientation": "v",
         "showlegend": true,
         "textposition": "auto",
         "type": "bar",
         "x": [
          "G"
         ],
         "xaxis": "x",
         "y": {
          "bdata": "KQ==",
          "dtype": "i1"
         },
         "yaxis": "y"
        },
        {
         "hoverinfo": "none",
         "legendgroup": "TV-Y7-FV",
         "marker": {
          "color": "#FF9999",
          "pattern": {
           "shape": ""
          }
         },
         "name": "TV-Y7-FV",
         "orientation": "v",
         "showlegend": true,
         "textposition": "auto",
         "type": "bar",
         "x": [
          "TV-Y7-FV"
         ],
         "xaxis": "x",
         "y": {
          "bdata": "Bg==",
          "dtype": "i1"
         },
         "yaxis": "y"
        },
        {
         "hoverinfo": "none",
         "legendgroup": "NC-17",
         "marker": {
          "color": "#FFA3A3",
          "pattern": {
           "shape": ""
          }
         },
         "name": "NC-17",
         "orientation": "v",
         "showlegend": true,
         "textposition": "auto",
         "type": "bar",
         "x": [
          "NC-17"
         ],
         "xaxis": "x",
         "y": {
          "bdata": "Aw==",
          "dtype": "i1"
         },
         "yaxis": "y"
        },
        {
         "hoverinfo": "none",
         "legendgroup": "UR",
         "marker": {
          "color": "#FFB3B3",
          "pattern": {
           "shape": ""
          }
         },
         "name": "UR",
         "orientation": "v",
         "showlegend": true,
         "textposition": "auto",
         "type": "bar",
         "x": [
          "UR"
         ],
         "xaxis": "x",
         "y": {
          "bdata": "Aw==",
          "dtype": "i1"
         },
         "yaxis": "y"
        }
       ],
       "layout": {
        "barmode": "relative",
        "legend": {
         "title": {
          "text": "Rating"
         },
         "tracegroupgap": 0
        },
        "template": {
         "data": {
          "bar": [
           {
            "error_x": {
             "color": "#2a3f5f"
            },
            "error_y": {
             "color": "#2a3f5f"
            },
            "marker": {
             "line": {
              "color": "#E5ECF6",
              "width": 0.5
             },
             "pattern": {
              "fillmode": "overlay",
              "size": 10,
              "solidity": 0.2
             }
            },
            "type": "bar"
           }
          ],
          "barpolar": [
           {
            "marker": {
             "line": {
              "color": "#E5ECF6",
              "width": 0.5
             },
             "pattern": {
              "fillmode": "overlay",
              "size": 10,
              "solidity": 0.2
             }
            },
            "type": "barpolar"
           }
          ],
          "carpet": [
           {
            "aaxis": {
             "endlinecolor": "#2a3f5f",
             "gridcolor": "white",
             "linecolor": "white",
             "minorgridcolor": "white",
             "startlinecolor": "#2a3f5f"
            },
            "baxis": {
             "endlinecolor": "#2a3f5f",
             "gridcolor": "white",
             "linecolor": "white",
             "minorgridcolor": "white",
             "startlinecolor": "#2a3f5f"
            },
            "type": "carpet"
           }
          ],
          "choropleth": [
           {
            "colorbar": {
             "outlinewidth": 0,
             "ticks": ""
            },
            "type": "choropleth"
           }
          ],
          "contour": [
           {
            "colorbar": {
             "outlinewidth": 0,
             "ticks": ""
            },
            "colorscale": [
             [
              0,
              "#0d0887"
             ],
             [
              0.1111111111111111,
              "#46039f"
             ],
             [
              0.2222222222222222,
              "#7201a8"
             ],
             [
              0.3333333333333333,
              "#9c179e"
             ],
             [
              0.4444444444444444,
              "#bd3786"
             ],
             [
              0.5555555555555556,
              "#d8576b"
             ],
             [
              0.6666666666666666,
              "#ed7953"
             ],
             [
              0.7777777777777778,
              "#fb9f3a"
             ],
             [
              0.8888888888888888,
              "#fdca26"
             ],
             [
              1,
              "#f0f921"
             ]
            ],
            "type": "contour"
           }
          ],
          "contourcarpet": [
           {
            "colorbar": {
             "outlinewidth": 0,
             "ticks": ""
            },
            "type": "contourcarpet"
           }
          ],
          "heatmap": [
           {
            "colorbar": {
             "outlinewidth": 0,
             "ticks": ""
            },
            "colorscale": [
             [
              0,
              "#0d0887"
             ],
             [
              0.1111111111111111,
              "#46039f"
             ],
             [
              0.2222222222222222,
              "#7201a8"
             ],
             [
              0.3333333333333333,
              "#9c179e"
             ],
             [
              0.4444444444444444,
              "#bd3786"
             ],
             [
              0.5555555555555556,
              "#d8576b"
             ],
             [
              0.6666666666666666,
              "#ed7953"
             ],
             [
              0.7777777777777778,
              "#fb9f3a"
             ],
             [
              0.8888888888888888,
              "#fdca26"
             ],
             [
              1,
              "#f0f921"
             ]
            ],
            "type": "heatmap"
           }
          ],
          "histogram": [
           {
            "marker": {
             "pattern": {
              "fillmode": "overlay",
              "size": 10,
              "solidity": 0.2
             }
            },
            "type": "histogram"
           }
          ],
          "histogram2d": [
           {
            "colorbar": {
             "outlinewidth": 0,
             "ticks": ""
            },
            "colorscale": [
             [
              0,
              "#0d0887"
             ],
             [
              0.1111111111111111,
              "#46039f"
             ],
             [
              0.2222222222222222,
              "#7201a8"
             ],
             [
              0.3333333333333333,
              "#9c179e"
             ],
             [
              0.4444444444444444,
              "#bd3786"
             ],
             [
              0.5555555555555556,
              "#d8576b"
             ],
             [
              0.6666666666666666,
              "#ed7953"
             ],
             [
              0.7777777777777778,
              "#fb9f3a"
             ],
             [
              0.8888888888888888,
              "#fdca26"
             ],
             [
              1,
              "#f0f921"
             ]
            ],
            "type": "histogram2d"
           }
          ],
          "histogram2dcontour": [
           {
            "colorbar": {
             "outlinewidth": 0,
             "ticks": ""
            },
            "colorscale": [
             [
              0,
              "#0d0887"
             ],
             [
              0.1111111111111111,
              "#46039f"
             ],
             [
              0.2222222222222222,
              "#7201a8"
             ],
             [
              0.3333333333333333,
              "#9c179e"
             ],
             [
              0.4444444444444444,
              "#bd3786"
             ],
             [
              0.5555555555555556,
              "#d8576b"
             ],
             [
              0.6666666666666666,
              "#ed7953"
             ],
             [
              0.7777777777777778,
              "#fb9f3a"
             ],
             [
              0.8888888888888888,
              "#fdca26"
             ],
             [
              1,
              "#f0f921"
             ]
            ],
            "type": "histogram2dcontour"
           }
          ],
          "mesh3d": [
           {
            "colorbar": {
             "outlinewidth": 0,
             "ticks": ""
            },
            "type": "mesh3d"
           }
          ],
          "parcoords": [
           {
            "line": {
             "colorbar": {
              "outlinewidth": 0,
              "ticks": ""
             }
            },
            "type": "parcoords"
           }
          ],
          "pie": [
           {
            "automargin": true,
            "type": "pie"
           }
          ],
          "scatter": [
           {
            "fillpattern": {
             "fillmode": "overlay",
             "size": 10,
             "solidity": 0.2
            },
            "type": "scatter"
           }
          ],
          "scatter3d": [
           {
            "line": {
             "colorbar": {
              "outlinewidth": 0,
              "ticks": ""
             }
            },
            "marker": {
             "colorbar": {
              "outlinewidth": 0,
              "ticks": ""
             }
            },
            "type": "scatter3d"
           }
          ],
          "scattercarpet": [
           {
            "marker": {
             "colorbar": {
              "outlinewidth": 0,
              "ticks": ""
             }
            },
            "type": "scattercarpet"
           }
          ],
          "scattergeo": [
           {
            "marker": {
             "colorbar": {
              "outlinewidth": 0,
              "ticks": ""
             }
            },
            "type": "scattergeo"
           }
          ],
          "scattergl": [
           {
            "marker": {
             "colorbar": {
              "outlinewidth": 0,
              "ticks": ""
             }
            },
            "type": "scattergl"
           }
          ],
          "scattermap": [
           {
            "marker": {
             "colorbar": {
              "outlinewidth": 0,
              "ticks": ""
             }
            },
            "type": "scattermap"
           }
          ],
          "scattermapbox": [
           {
            "marker": {
             "colorbar": {
              "outlinewidth": 0,
              "ticks": ""
             }
            },
            "type": "scattermapbox"
           }
          ],
          "scatterpolar": [
           {
            "marker": {
             "colorbar": {
              "outlinewidth": 0,
              "ticks": ""
             }
            },
            "type": "scatterpolar"
           }
          ],
          "scatterpolargl": [
           {
            "marker": {
             "colorbar": {
              "outlinewidth": 0,
              "ticks": ""
             }
            },
            "type": "scatterpolargl"
           }
          ],
          "scatterternary": [
           {
            "marker": {
             "colorbar": {
              "outlinewidth": 0,
              "ticks": ""
             }
            },
            "type": "scatterternary"
           }
          ],
          "surface": [
           {
            "colorbar": {
             "outlinewidth": 0,
             "ticks": ""
            },
            "colorscale": [
             [
              0,
              "#0d0887"
             ],
             [
              0.1111111111111111,
              "#46039f"
             ],
             [
              0.2222222222222222,
              "#7201a8"
             ],
             [
              0.3333333333333333,
              "#9c179e"
             ],
             [
              0.4444444444444444,
              "#bd3786"
             ],
             [
              0.5555555555555556,
              "#d8576b"
             ],
             [
              0.6666666666666666,
              "#ed7953"
             ],
             [
              0.7777777777777778,
              "#fb9f3a"
             ],
             [
              0.8888888888888888,
              "#fdca26"
             ],
             [
              1,
              "#f0f921"
             ]
            ],
            "type": "surface"
           }
          ],
          "table": [
           {
            "cells": {
             "fill": {
              "color": "#EBF0F8"
             },
             "line": {
              "color": "white"
             }
            },
            "header": {
             "fill": {
              "color": "#C8D4E3"
             },
             "line": {
              "color": "white"
             }
            },
            "type": "table"
           }
          ]
         },
         "layout": {
          "annotationdefaults": {
           "arrowcolor": "#2a3f5f",
           "arrowhead": 0,
           "arrowwidth": 1
          },
          "autotypenumbers": "strict",
          "coloraxis": {
           "colorbar": {
            "outlinewidth": 0,
            "ticks": ""
           }
          },
          "colorscale": {
           "diverging": [
            [
             0,
             "#8e0152"
            ],
            [
             0.1,
             "#c51b7d"
            ],
            [
             0.2,
             "#de77ae"
            ],
            [
             0.3,
             "#f1b6da"
            ],
            [
             0.4,
             "#fde0ef"
            ],
            [
             0.5,
             "#f7f7f7"
            ],
            [
             0.6,
             "#e6f5d0"
            ],
            [
             0.7,
             "#b8e186"
            ],
            [
             0.8,
             "#7fbc41"
            ],
            [
             0.9,
             "#4d9221"
            ],
            [
             1,
             "#276419"
            ]
           ],
           "sequential": [
            [
             0,
             "#0d0887"
            ],
            [
             0.1111111111111111,
             "#46039f"
            ],
            [
             0.2222222222222222,
             "#7201a8"
            ],
            [
             0.3333333333333333,
             "#9c179e"
            ],
            [
             0.4444444444444444,
             "#bd3786"
            ],
            [
             0.5555555555555556,
             "#d8576b"
            ],
            [
             0.6666666666666666,
             "#ed7953"
            ],
            [
             0.7777777777777778,
             "#fb9f3a"
            ],
            [
             0.8888888888888888,
             "#fdca26"
            ],
            [
             1,
             "#f0f921"
            ]
           ],
           "sequentialminus": [
            [
             0,
             "#0d0887"
            ],
            [
             0.1111111111111111,
             "#46039f"
            ],
            [
             0.2222222222222222,
             "#7201a8"
            ],
            [
             0.3333333333333333,
             "#9c179e"
            ],
            [
             0.4444444444444444,
             "#bd3786"
            ],
            [
             0.5555555555555556,
             "#d8576b"
            ],
            [
             0.6666666666666666,
             "#ed7953"
            ],
            [
             0.7777777777777778,
             "#fb9f3a"
            ],
            [
             0.8888888888888888,
             "#fdca26"
            ],
            [
             1,
             "#f0f921"
            ]
           ]
          },
          "colorway": [
           "#636efa",
           "#EF553B",
           "#00cc96",
           "#ab63fa",
           "#FFA15A",
           "#19d3f3",
           "#FF6692",
           "#B6E880",
           "#FF97FF",
           "#FECB52"
          ],
          "font": {
           "color": "#2a3f5f"
          },
          "geo": {
           "bgcolor": "white",
           "lakecolor": "white",
           "landcolor": "#E5ECF6",
           "showlakes": true,
           "showland": true,
           "subunitcolor": "white"
          },
          "hoverlabel": {
           "align": "left"
          },
          "hovermode": "closest",
          "mapbox": {
           "style": "light"
          },
          "paper_bgcolor": "white",
          "plot_bgcolor": "#E5ECF6",
          "polar": {
           "angularaxis": {
            "gridcolor": "white",
            "linecolor": "white",
            "ticks": ""
           },
           "bgcolor": "#E5ECF6",
           "radialaxis": {
            "gridcolor": "white",
            "linecolor": "white",
            "ticks": ""
           }
          },
          "scene": {
           "xaxis": {
            "backgroundcolor": "#E5ECF6",
            "gridcolor": "white",
            "gridwidth": 2,
            "linecolor": "white",
            "showbackground": true,
            "ticks": "",
            "zerolinecolor": "white"
           },
           "yaxis": {
            "backgroundcolor": "#E5ECF6",
            "gridcolor": "white",
            "gridwidth": 2,
            "linecolor": "white",
            "showbackground": true,
            "ticks": "",
            "zerolinecolor": "white"
           },
           "zaxis": {
            "backgroundcolor": "#E5ECF6",
            "gridcolor": "white",
            "gridwidth": 2,
            "linecolor": "white",
            "showbackground": true,
            "ticks": "",
            "zerolinecolor": "white"
           }
          },
          "shapedefaults": {
           "line": {
            "color": "#2a3f5f"
           }
          },
          "ternary": {
           "aaxis": {
            "gridcolor": "white",
            "linecolor": "white",
            "ticks": ""
           },
           "baxis": {
            "gridcolor": "white",
            "linecolor": "white",
            "ticks": ""
           },
           "bgcolor": "#E5ECF6",
           "caxis": {
            "gridcolor": "white",
            "linecolor": "white",
            "ticks": ""
           }
          },
          "title": {
           "x": 0.05
          },
          "xaxis": {
           "automargin": true,
           "gridcolor": "white",
           "linecolor": "white",
           "ticks": "",
           "title": {
            "standoff": 15
           },
           "zerolinecolor": "white",
           "zerolinewidth": 2
          },
          "yaxis": {
           "automargin": true,
           "gridcolor": "white",
           "linecolor": "white",
           "ticks": "",
           "title": {
            "standoff": 15
           },
           "zerolinecolor": "white",
           "zerolinewidth": 2
          }
         }
        },
        "title": {
         "text": "Netflix Ratings Distribution"
        },
        "xaxis": {
         "anchor": "y",
         "categoryarray": [
          "TV-MA",
          "TV-14",
          "TV-PG",
          "R",
          "PG-13",
          "TV-Y7",
          "TV-Y",
          "PG",
          "TV-G",
          "NR",
          "G",
          "TV-Y7-FV",
          "NC-17",
          "UR"
         ],
         "categoryorder": "array",
         "domain": [
          0,
          1
         ],
         "tickangle": -45,
         "title": {
          "text": "Rating"
         }
        },
        "yaxis": {
         "anchor": "x",
         "domain": [
          0,
          1
         ],
         "title": {
          "text": "Count"
         }
        }
       }
      },
      "image/png": "[encoded data removed]"
     },
     "metadata": {},
     "output_type": "display_data"
    }
   ],
   "source": [
    "import plotly.express as px\n",
    "\n",
    "# Ratings distribution\n",
    "ratings = data['rating'].value_counts().reset_index()\n",
    "ratings.columns = ['Rating', 'Count']\n",
    "\n",
    "fig2 = px.bar(\n",
    "    ratings,\n",
    "    x='Rating',\n",
    "    y='Count',\n",
    "    title=\"Netflix Ratings Distribution\",\n",
    "    color='Rating',\n",
    "    color_discrete_sequence=netflix_reds\n",
    ")\n",
    "\n",
    "# Rotate x-axis labels and disable hover\n",
    "fig2.update_layout(\n",
    "    xaxis_tickangle=-45\n",
    ")\n",
    "fig2.update_traces(\n",
    "    hoverinfo=\"none\",   #  Disable hover info\n",
    "    hovertemplate=None  #  Ensure no tooltips appear\n",
    ")\n",
    "\n",
    "fig2.show()"
   ]
  },
  {
   "cell_type": "code",
   "execution_count": 10,
   "id": "9864085c-792f-496c-bda2-219413369d2d",
   "metadata": {},
   "outputs": [
    {
     "data": {
      "application/vnd.plotly.v1+json": {
       "config": {
        "plotlyServerURL": "https://plot.ly"
       },
       "data": [
        {
         "hoverinfo": "none",
         "legendgroup": "United States",
         "marker": {
          "color": "#FF6F61",
          "pattern": {
           "shape": ""
          }
         },
         "name": "United States",
         "orientation": "v",
         "showlegend": true,
         "textposition": "auto",
         "type": "bar",
         "x": [
          "United States"
         ],
         "xaxis": "x",
         "y": {
          "bdata": "qAw=",
          "dtype": "i2"
         },
         "yaxis": "y"
        },
        {
         "hoverinfo": "none",
         "legendgroup": "India",
         "marker": {
          "color": "#FF7F7F",
          "pattern": {
           "shape": ""
          }
         },
         "name": "India",
         "orientation": "v",
         "showlegend": true,
         "textposition": "auto",
         "type": "bar",
         "x": [
          "India"
         ],
         "xaxis": "x",
         "y": {
          "bdata": "IQQ=",
          "dtype": "i2"
         },
         "yaxis": "y"
        },
        {
         "hoverinfo": "none",
         "legendgroup": "United Kingdom",
         "marker": {
          "color": "#FF8C8C",
          "pattern": {
           "shape": ""
          }
         },
         "name": "United Kingdom",
         "orientation": "v",
         "showlegend": true,
         "textposition": "auto",
         "type": "bar",
         "x": [
          "United Kingdom"
         ],
         "xaxis": "x",
         "y": {
          "bdata": "fgI=",
          "dtype": "i2"
         },
         "yaxis": "y"
        },
        {
         "hoverinfo": "none",
         "legendgroup": "Pakistan",
         "marker": {
          "color": "#FF9999",
          "pattern": {
           "shape": ""
          }
         },
         "name": "Pakistan",
         "orientation": "v",
         "showlegend": true,
         "textposition": "auto",
         "type": "bar",
         "x": [
          "Pakistan"
         ],
         "xaxis": "x",
         "y": {
          "bdata": "pQE=",
          "dtype": "i2"
         },
         "yaxis": "y"
        },
        {
         "hoverinfo": "none",
         "legendgroup": "Not Given",
         "marker": {
          "color": "#FFA3A3",
          "pattern": {
           "shape": ""
          }
         },
         "name": "Not Given",
         "orientation": "v",
         "showlegend": true,
         "textposition": "auto",
         "type": "bar",
         "x": [
          "Not Given"
         ],
         "xaxis": "x",
         "y": {
          "bdata": "HwE=",
          "dtype": "i2"
         },
         "yaxis": "y"
        },
        {
         "hoverinfo": "none",
         "legendgroup": "Canada",
         "marker": {
          "color": "#FFB3B3",
          "pattern": {
           "shape": ""
          }
         },
         "name": "Canada",
         "orientation": "v",
         "showlegend": true,
         "textposition": "auto",
         "type": "bar",
         "x": [
          "Canada"
         ],
         "xaxis": "x",
         "y": {
          "bdata": "DwE=",
          "dtype": "i2"
         },
         "yaxis": "y"
        },
        {
         "hoverinfo": "none",
         "legendgroup": "Japan",
         "marker": {
          "color": "#FFC2C2",
          "pattern": {
           "shape": ""
          }
         },
         "name": "Japan",
         "orientation": "v",
         "showlegend": true,
         "textposition": "auto",
         "type": "bar",
         "x": [
          "Japan"
         ],
         "xaxis": "x",
         "y": {
          "bdata": "AwE=",
          "dtype": "i2"
         },
         "yaxis": "y"
        },
        {
         "hoverinfo": "none",
         "legendgroup": "South Korea",
         "marker": {
          "color": "#FFD6D6",
          "pattern": {
           "shape": ""
          }
         },
         "name": "South Korea",
         "orientation": "v",
         "showlegend": true,
         "textposition": "auto",
         "type": "bar",
         "x": [
          "South Korea"
         ],
         "xaxis": "x",
         "y": {
          "bdata": "1gA=",
          "dtype": "i2"
         },
         "yaxis": "y"
        },
        {
         "hoverinfo": "none",
         "legendgroup": "France",
         "marker": {
          "color": "#FF6F61",
          "pattern": {
           "shape": ""
          }
         },
         "name": "France",
         "orientation": "v",
         "showlegend": true,
         "textposition": "auto",
         "type": "bar",
         "x": [
          "France"
         ],
         "xaxis": "x",
         "y": {
          "bdata": "1QA=",
          "dtype": "i2"
         },
         "yaxis": "y"
        },
        {
         "hoverinfo": "none",
         "legendgroup": "Spain",
         "marker": {
          "color": "#FF7F7F",
          "pattern": {
           "shape": ""
          }
         },
         "name": "Spain",
         "orientation": "v",
         "showlegend": true,
         "textposition": "auto",
         "type": "bar",
         "x": [
          "Spain"
         ],
         "xaxis": "x",
         "y": {
          "bdata": "tgA=",
          "dtype": "i2"
         },
         "yaxis": "y"
        }
       ],
       "layout": {
        "barmode": "relative",
        "legend": {
         "title": {
          "text": "Country"
         },
         "tracegroupgap": 0
        },
        "template": {
         "data": {
          "bar": [
           {
            "error_x": {
             "color": "#2a3f5f"
            },
            "error_y": {
             "color": "#2a3f5f"
            },
            "marker": {
             "line": {
              "color": "#E5ECF6",
              "width": 0.5
             },
             "pattern": {
              "fillmode": "overlay",
              "size": 10,
              "solidity": 0.2
             }
            },
            "type": "bar"
           }
          ],
          "barpolar": [
           {
            "marker": {
             "line": {
              "color": "#E5ECF6",
              "width": 0.5
             },
             "pattern": {
              "fillmode": "overlay",
              "size": 10,
              "solidity": 0.2
             }
            },
            "type": "barpolar"
           }
          ],
          "carpet": [
           {
            "aaxis": {
             "endlinecolor": "#2a3f5f",
             "gridcolor": "white",
             "linecolor": "white",
             "minorgridcolor": "white",
             "startlinecolor": "#2a3f5f"
            },
            "baxis": {
             "endlinecolor": "#2a3f5f",
             "gridcolor": "white",
             "linecolor": "white",
             "minorgridcolor": "white",
             "startlinecolor": "#2a3f5f"
            },
            "type": "carpet"
           }
          ],
          "choropleth": [
           {
            "colorbar": {
             "outlinewidth": 0,
             "ticks": ""
            },
            "type": "choropleth"
           }
          ],
          "contour": [
           {
            "colorbar": {
             "outlinewidth": 0,
             "ticks": ""
            },
            "colorscale": [
             [
              0,
              "#0d0887"
             ],
             [
              0.1111111111111111,
              "#46039f"
             ],
             [
              0.2222222222222222,
              "#7201a8"
             ],
             [
              0.3333333333333333,
              "#9c179e"
             ],
             [
              0.4444444444444444,
              "#bd3786"
             ],
             [
              0.5555555555555556,
              "#d8576b"
             ],
             [
              0.6666666666666666,
              "#ed7953"
             ],
             [
              0.7777777777777778,
              "#fb9f3a"
             ],
             [
              0.8888888888888888,
              "#fdca26"
             ],
             [
              1,
              "#f0f921"
             ]
            ],
            "type": "contour"
           }
          ],
          "contourcarpet": [
           {
            "colorbar": {
             "outlinewidth": 0,
             "ticks": ""
            },
            "type": "contourcarpet"
           }
          ],
          "heatmap": [
           {
            "colorbar": {
             "outlinewidth": 0,
             "ticks": ""
            },
            "colorscale": [
             [
              0,
              "#0d0887"
             ],
             [
              0.1111111111111111,
              "#46039f"
             ],
             [
              0.2222222222222222,
              "#7201a8"
             ],
             [
              0.3333333333333333,
              "#9c179e"
             ],
             [
              0.4444444444444444,
              "#bd3786"
             ],
             [
              0.5555555555555556,
              "#d8576b"
             ],
             [
              0.6666666666666666,
              "#ed7953"
             ],
             [
              0.7777777777777778,
              "#fb9f3a"
             ],
             [
              0.8888888888888888,
              "#fdca26"
             ],
             [
              1,
              "#f0f921"
             ]
            ],
            "type": "heatmap"
           }
          ],
          "histogram": [
           {
            "marker": {
             "pattern": {
              "fillmode": "overlay",
              "size": 10,
              "solidity": 0.2
             }
            },
            "type": "histogram"
           }
          ],
          "histogram2d": [
           {
            "colorbar": {
             "outlinewidth": 0,
             "ticks": ""
            },
            "colorscale": [
             [
              0,
              "#0d0887"
             ],
             [
              0.1111111111111111,
              "#46039f"
             ],
             [
              0.2222222222222222,
              "#7201a8"
             ],
             [
              0.3333333333333333,
              "#9c179e"
             ],
             [
              0.4444444444444444,
              "#bd3786"
             ],
             [
              0.5555555555555556,
              "#d8576b"
             ],
             [
              0.6666666666666666,
              "#ed7953"
             ],
             [
              0.7777777777777778,
              "#fb9f3a"
             ],
             [
              0.8888888888888888,
              "#fdca26"
             ],
             [
              1,
              "#f0f921"
             ]
            ],
            "type": "histogram2d"
           }
          ],
          "histogram2dcontour": [
           {
            "colorbar": {
             "outlinewidth": 0,
             "ticks": ""
            },
            "colorscale": [
             [
              0,
              "#0d0887"
             ],
             [
              0.1111111111111111,
              "#46039f"
             ],
             [
              0.2222222222222222,
              "#7201a8"
             ],
             [
              0.3333333333333333,
              "#9c179e"
             ],
             [
              0.4444444444444444,
              "#bd3786"
             ],
             [
              0.5555555555555556,
              "#d8576b"
             ],
             [
              0.6666666666666666,
              "#ed7953"
             ],
             [
              0.7777777777777778,
              "#fb9f3a"
             ],
             [
              0.8888888888888888,
              "#fdca26"
             ],
             [
              1,
              "#f0f921"
             ]
            ],
            "type": "histogram2dcontour"
           }
          ],
          "mesh3d": [
           {
            "colorbar": {
             "outlinewidth": 0,
             "ticks": ""
            },
            "type": "mesh3d"
           }
          ],
          "parcoords": [
           {
            "line": {
             "colorbar": {
              "outlinewidth": 0,
              "ticks": ""
             }
            },
            "type": "parcoords"
           }
          ],
          "pie": [
           {
            "automargin": true,
            "type": "pie"
           }
          ],
          "scatter": [
           {
            "fillpattern": {
             "fillmode": "overlay",
             "size": 10,
             "solidity": 0.2
            },
            "type": "scatter"
           }
          ],
          "scatter3d": [
           {
            "line": {
             "colorbar": {
              "outlinewidth": 0,
              "ticks": ""
             }
            },
            "marker": {
             "colorbar": {
              "outlinewidth": 0,
              "ticks": ""
             }
            },
            "type": "scatter3d"
           }
          ],
          "scattercarpet": [
           {
            "marker": {
             "colorbar": {
              "outlinewidth": 0,
              "ticks": ""
             }
            },
            "type": "scattercarpet"
           }
          ],
          "scattergeo": [
           {
            "marker": {
             "colorbar": {
              "outlinewidth": 0,
              "ticks": ""
             }
            },
            "type": "scattergeo"
           }
          ],
          "scattergl": [
           {
            "marker": {
             "colorbar": {
              "outlinewidth": 0,
              "ticks": ""
             }
            },
            "type": "scattergl"
           }
          ],
          "scattermap": [
           {
            "marker": {
             "colorbar": {
              "outlinewidth": 0,
              "ticks": ""
             }
            },
            "type": "scattermap"
           }
          ],
          "scattermapbox": [
           {
            "marker": {
             "colorbar": {
              "outlinewidth": 0,
              "ticks": ""
             }
            },
            "type": "scattermapbox"
           }
          ],
          "scatterpolar": [
           {
            "marker": {
             "colorbar": {
              "outlinewidth": 0,
              "ticks": ""
             }
            },
            "type": "scatterpolar"
           }
          ],
          "scatterpolargl": [
           {
            "marker": {
             "colorbar": {
              "outlinewidth": 0,
              "ticks": ""
             }
            },
            "type": "scatterpolargl"
           }
          ],
          "scatterternary": [
           {
            "marker": {
             "colorbar": {
              "outlinewidth": 0,
              "ticks": ""
             }
            },
            "type": "scatterternary"
           }
          ],
          "surface": [
           {
            "colorbar": {
             "outlinewidth": 0,
             "ticks": ""
            },
            "colorscale": [
             [
              0,
              "#0d0887"
             ],
             [
              0.1111111111111111,
              "#46039f"
             ],
             [
              0.2222222222222222,
              "#7201a8"
             ],
             [
              0.3333333333333333,
              "#9c179e"
             ],
             [
              0.4444444444444444,
              "#bd3786"
             ],
             [
              0.5555555555555556,
              "#d8576b"
             ],
             [
              0.6666666666666666,
              "#ed7953"
             ],
             [
              0.7777777777777778,
              "#fb9f3a"
             ],
             [
              0.8888888888888888,
              "#fdca26"
             ],
             [
              1,
              "#f0f921"
             ]
            ],
            "type": "surface"
           }
          ],
          "table": [
           {
            "cells": {
             "fill": {
              "color": "#EBF0F8"
             },
             "line": {
              "color": "white"
             }
            },
            "header": {
             "fill": {
              "color": "#C8D4E3"
             },
             "line": {
              "color": "white"
             }
            },
            "type": "table"
           }
          ]
         },
         "layout": {
          "annotationdefaults": {
           "arrowcolor": "#2a3f5f",
           "arrowhead": 0,
           "arrowwidth": 1
          },
          "autotypenumbers": "strict",
          "coloraxis": {
           "colorbar": {
            "outlinewidth": 0,
            "ticks": ""
           }
          },
          "colorscale": {
           "diverging": [
            [
             0,
             "#8e0152"
            ],
            [
             0.1,
             "#c51b7d"
            ],
            [
             0.2,
             "#de77ae"
            ],
            [
             0.3,
             "#f1b6da"
            ],
            [
             0.4,
             "#fde0ef"
            ],
            [
             0.5,
             "#f7f7f7"
            ],
            [
             0.6,
             "#e6f5d0"
            ],
            [
             0.7,
             "#b8e186"
            ],
            [
             0.8,
             "#7fbc41"
            ],
            [
             0.9,
             "#4d9221"
            ],
            [
             1,
             "#276419"
            ]
           ],
           "sequential": [
            [
             0,
             "#0d0887"
            ],
            [
             0.1111111111111111,
             "#46039f"
            ],
            [
             0.2222222222222222,
             "#7201a8"
            ],
            [
             0.3333333333333333,
             "#9c179e"
            ],
            [
             0.4444444444444444,
             "#bd3786"
            ],
            [
             0.5555555555555556,
             "#d8576b"
            ],
            [
             0.6666666666666666,
             "#ed7953"
            ],
            [
             0.7777777777777778,
             "#fb9f3a"
            ],
            [
             0.8888888888888888,
             "#fdca26"
            ],
            [
             1,
             "#f0f921"
            ]
           ],
           "sequentialminus": [
            [
             0,
             "#0d0887"
            ],
            [
             0.1111111111111111,
             "#46039f"
            ],
            [
             0.2222222222222222,
             "#7201a8"
            ],
            [
             0.3333333333333333,
             "#9c179e"
            ],
            [
             0.4444444444444444,
             "#bd3786"
            ],
            [
             0.5555555555555556,
             "#d8576b"
            ],
            [
             0.6666666666666666,
             "#ed7953"
            ],
            [
             0.7777777777777778,
             "#fb9f3a"
            ],
            [
             0.8888888888888888,
             "#fdca26"
            ],
            [
             1,
             "#f0f921"
            ]
           ]
          },
          "colorway": [
           "#636efa",
           "#EF553B",
           "#00cc96",
           "#ab63fa",
           "#FFA15A",
           "#19d3f3",
           "#FF6692",
           "#B6E880",
           "#FF97FF",
           "#FECB52"
          ],
          "font": {
           "color": "#2a3f5f"
          },
          "geo": {
           "bgcolor": "white",
           "lakecolor": "white",
           "landcolor": "#E5ECF6",
           "showlakes": true,
           "showland": true,
           "subunitcolor": "white"
          },
          "hoverlabel": {
           "align": "left"
          },
          "hovermode": "closest",
          "mapbox": {
           "style": "light"
          },
          "paper_bgcolor": "white",
          "plot_bgcolor": "#E5ECF6",
          "polar": {
           "angularaxis": {
            "gridcolor": "white",
            "linecolor": "white",
            "ticks": ""
           },
           "bgcolor": "#E5ECF6",
           "radialaxis": {
            "gridcolor": "white",
            "linecolor": "white",
            "ticks": ""
           }
          },
          "scene": {
           "xaxis": {
            "backgroundcolor": "#E5ECF6",
            "gridcolor": "white",
            "gridwidth": 2,
            "linecolor": "white",
            "showbackground": true,
            "ticks": "",
            "zerolinecolor": "white"
           },
           "yaxis": {
            "backgroundcolor": "#E5ECF6",
            "gridcolor": "white",
            "gridwidth": 2,
            "linecolor": "white",
            "showbackground": true,
            "ticks": "",
            "zerolinecolor": "white"
           },
           "zaxis": {
            "backgroundcolor": "#E5ECF6",
            "gridcolor": "white",
            "gridwidth": 2,
            "linecolor": "white",
            "showbackground": true,
            "ticks": "",
            "zerolinecolor": "white"
           }
          },
          "shapedefaults": {
           "line": {
            "color": "#2a3f5f"
           }
          },
          "ternary": {
           "aaxis": {
            "gridcolor": "white",
            "linecolor": "white",
            "ticks": ""
           },
           "baxis": {
            "gridcolor": "white",
            "linecolor": "white",
            "ticks": ""
           },
           "bgcolor": "#E5ECF6",
           "caxis": {
            "gridcolor": "white",
            "linecolor": "white",
            "ticks": ""
           }
          },
          "title": {
           "x": 0.05
          },
          "xaxis": {
           "automargin": true,
           "gridcolor": "white",
           "linecolor": "white",
           "ticks": "",
           "title": {
            "standoff": 15
           },
           "zerolinecolor": "white",
           "zerolinewidth": 2
          },
          "yaxis": {
           "automargin": true,
           "gridcolor": "white",
           "linecolor": "white",
           "ticks": "",
           "title": {
            "standoff": 15
           },
           "zerolinecolor": "white",
           "zerolinewidth": 2
          }
         }
        },
        "title": {
         "text": "Top 10 Countries with Most Content"
        },
        "xaxis": {
         "anchor": "y",
         "categoryarray": [
          "United States",
          "India",
          "United Kingdom",
          "Pakistan",
          "Not Given",
          "Canada",
          "Japan",
          "South Korea",
          "France",
          "Spain"
         ],
         "categoryorder": "array",
         "domain": [
          0,
          1
         ],
         "tickangle": -45,
         "title": {
          "text": "Country"
         }
        },
        "yaxis": {
         "anchor": "x",
         "domain": [
          0,
          1
         ],
         "title": {
          "text": "Count"
         }
        }
       }
      },
      "image/png": "[encoded data removed]"
     },
     "metadata": {},
     "output_type": "display_data"
    }
   ],
   "source": [
    "# Top 10 countries distribution\n",
    "countries = data['country'].value_counts().reset_index().head(10)\n",
    "countries.columns = ['Country', 'Count']\n",
    "\n",
    "fig3 = px.bar(\n",
    "    countries,\n",
    "    x='Country',\n",
    "    y='Count',\n",
    "    title=\"Top 10 Countries with Most Content\",\n",
    "    color='Country',\n",
    "    color_discrete_sequence=netflix_reds\n",
    ")\n",
    "\n",
    "# Rotate x-axis labels and disable hover\n",
    "fig3.update_layout(\n",
    "    xaxis_tickangle=-45\n",
    ")\n",
    "fig3.update_traces(\n",
    "    hoverinfo=\"none\",   #  Disable hover info\n",
    "    hovertemplate=None  #  Ensure no tooltip appears\n",
    ")\n",
    "\n",
    "fig3.show()"
   ]
  },
  {
   "cell_type": "code",
   "execution_count": 11,
   "id": "ba0f2588-ceed-438e-acb9-6160cf0417dc",
   "metadata": {},
   "outputs": [
    {
     "data": {
      "application/vnd.plotly.v1+json": {
       "config": {
        "plotlyServerURL": "https://plot.ly"
       },
       "data": [
        {
         "hoverinfo": "none",
         "legendgroup": "",
         "line": {
          "color": "#FFA3A3",
          "dash": "solid",
          "shape": "spline"
         },
         "marker": {
          "color": "#FF8C8C",
          "symbol": "circle"
         },
         "mode": "lines+markers",
         "name": "",
         "orientation": "v",
         "showlegend": false,
         "type": "scatter",
         "x": {
          "bdata": "2AfZB9oH2wfcB90H3gffB+AH4QfiB+MH5AflBw==",
          "dtype": "i2"
         },
         "xaxis": "x",
         "y": {
          "bdata": "AgACAAEADQADAAsAGABSAKoBoQRwBuAHVwfaBQ==",
          "dtype": "i2"
         },
         "yaxis": "y"
        }
       ],
       "layout": {
        "legend": {
         "tracegroupgap": 0
        },
        "template": {
         "data": {
          "bar": [
           {
            "error_x": {
             "color": "#2a3f5f"
            },
            "error_y": {
             "color": "#2a3f5f"
            },
            "marker": {
             "line": {
              "color": "#E5ECF6",
              "width": 0.5
             },
             "pattern": {
              "fillmode": "overlay",
              "size": 10,
              "solidity": 0.2
             }
            },
            "type": "bar"
           }
          ],
          "barpolar": [
           {
            "marker": {
             "line": {
              "color": "#E5ECF6",
              "width": 0.5
             },
             "pattern": {
              "fillmode": "overlay",
              "size": 10,
              "solidity": 0.2
             }
            },
            "type": "barpolar"
           }
          ],
          "carpet": [
           {
            "aaxis": {
             "endlinecolor": "#2a3f5f",
             "gridcolor": "white",
             "linecolor": "white",
             "minorgridcolor": "white",
             "startlinecolor": "#2a3f5f"
            },
            "baxis": {
             "endlinecolor": "#2a3f5f",
             "gridcolor": "white",
             "linecolor": "white",
             "minorgridcolor": "white",
             "startlinecolor": "#2a3f5f"
            },
            "type": "carpet"
           }
          ],
          "choropleth": [
           {
            "colorbar": {
             "outlinewidth": 0,
             "ticks": ""
            },
            "type": "choropleth"
           }
          ],
          "contour": [
           {
            "colorbar": {
             "outlinewidth": 0,
             "ticks": ""
            },
            "colorscale": [
             [
              0,
              "#0d0887"
             ],
             [
              0.1111111111111111,
              "#46039f"
             ],
             [
              0.2222222222222222,
              "#7201a8"
             ],
             [
              0.3333333333333333,
              "#9c179e"
             ],
             [
              0.4444444444444444,
              "#bd3786"
             ],
             [
              0.5555555555555556,
              "#d8576b"
             ],
             [
              0.6666666666666666,
              "#ed7953"
             ],
             [
              0.7777777777777778,
              "#fb9f3a"
             ],
             [
              0.8888888888888888,
              "#fdca26"
             ],
             [
              1,
              "#f0f921"
             ]
            ],
            "type": "contour"
           }
          ],
          "contourcarpet": [
           {
            "colorbar": {
             "outlinewidth": 0,
             "ticks": ""
            },
            "type": "contourcarpet"
           }
          ],
          "heatmap": [
           {
            "colorbar": {
             "outlinewidth": 0,
             "ticks": ""
            },
            "colorscale": [
             [
              0,
              "#0d0887"
             ],
             [
              0.1111111111111111,
              "#46039f"
             ],
             [
              0.2222222222222222,
              "#7201a8"
             ],
             [
              0.3333333333333333,
              "#9c179e"
             ],
             [
              0.4444444444444444,
              "#bd3786"
             ],
             [
              0.5555555555555556,
              "#d8576b"
             ],
             [
              0.6666666666666666,
              "#ed7953"
             ],
             [
              0.7777777777777778,
              "#fb9f3a"
             ],
             [
              0.8888888888888888,
              "#fdca26"
             ],
             [
              1,
              "#f0f921"
             ]
            ],
            "type": "heatmap"
           }
          ],
          "histogram": [
           {
            "marker": {
             "pattern": {
              "fillmode": "overlay",
              "size": 10,
              "solidity": 0.2
             }
            },
            "type": "histogram"
           }
          ],
          "histogram2d": [
           {
            "colorbar": {
             "outlinewidth": 0,
             "ticks": ""
            },
            "colorscale": [
             [
              0,
              "#0d0887"
             ],
             [
              0.1111111111111111,
              "#46039f"
             ],
             [
              0.2222222222222222,
              "#7201a8"
             ],
             [
              0.3333333333333333,
              "#9c179e"
             ],
             [
              0.4444444444444444,
              "#bd3786"
             ],
             [
              0.5555555555555556,
              "#d8576b"
             ],
             [
              0.6666666666666666,
              "#ed7953"
             ],
             [
              0.7777777777777778,
              "#fb9f3a"
             ],
             [
              0.8888888888888888,
              "#fdca26"
             ],
             [
              1,
              "#f0f921"
             ]
            ],
            "type": "histogram2d"
           }
          ],
          "histogram2dcontour": [
           {
            "colorbar": {
             "outlinewidth": 0,
             "ticks": ""
            },
            "colorscale": [
             [
              0,
              "#0d0887"
             ],
             [
              0.1111111111111111,
              "#46039f"
             ],
             [
              0.2222222222222222,
              "#7201a8"
             ],
             [
              0.3333333333333333,
              "#9c179e"
             ],
             [
              0.4444444444444444,
              "#bd3786"
             ],
             [
              0.5555555555555556,
              "#d8576b"
             ],
             [
              0.6666666666666666,
              "#ed7953"
             ],
             [
              0.7777777777777778,
              "#fb9f3a"
             ],
             [
              0.8888888888888888,
              "#fdca26"
             ],
             [
              1,
              "#f0f921"
             ]
            ],
            "type": "histogram2dcontour"
           }
          ],
          "mesh3d": [
           {
            "colorbar": {
             "outlinewidth": 0,
             "ticks": ""
            },
            "type": "mesh3d"
           }
          ],
          "parcoords": [
           {
            "line": {
             "colorbar": {
              "outlinewidth": 0,
              "ticks": ""
             }
            },
            "type": "parcoords"
           }
          ],
          "pie": [
           {
            "automargin": true,
            "type": "pie"
           }
          ],
          "scatter": [
           {
            "fillpattern": {
             "fillmode": "overlay",
             "size": 10,
             "solidity": 0.2
            },
            "type": "scatter"
           }
          ],
          "scatter3d": [
           {
            "line": {
             "colorbar": {
              "outlinewidth": 0,
              "ticks": ""
             }
            },
            "marker": {
             "colorbar": {
              "outlinewidth": 0,
              "ticks": ""
             }
            },
            "type": "scatter3d"
           }
          ],
          "scattercarpet": [
           {
            "marker": {
             "colorbar": {
              "outlinewidth": 0,
              "ticks": ""
             }
            },
            "type": "scattercarpet"
           }
          ],
          "scattergeo": [
           {
            "marker": {
             "colorbar": {
              "outlinewidth": 0,
              "ticks": ""
             }
            },
            "type": "scattergeo"
           }
          ],
          "scattergl": [
           {
            "marker": {
             "colorbar": {
              "outlinewidth": 0,
              "ticks": ""
             }
            },
            "type": "scattergl"
           }
          ],
          "scattermap": [
           {
            "marker": {
             "colorbar": {
              "outlinewidth": 0,
              "ticks": ""
             }
            },
            "type": "scattermap"
           }
          ],
          "scattermapbox": [
           {
            "marker": {
             "colorbar": {
              "outlinewidth": 0,
              "ticks": ""
             }
            },
            "type": "scattermapbox"
           }
          ],
          "scatterpolar": [
           {
            "marker": {
             "colorbar": {
              "outlinewidth": 0,
              "ticks": ""
             }
            },
            "type": "scatterpolar"
           }
          ],
          "scatterpolargl": [
           {
            "marker": {
             "colorbar": {
              "outlinewidth": 0,
              "ticks": ""
             }
            },
            "type": "scatterpolargl"
           }
          ],
          "scatterternary": [
           {
            "marker": {
             "colorbar": {
              "outlinewidth": 0,
              "ticks": ""
             }
            },
            "type": "scatterternary"
           }
          ],
          "surface": [
           {
            "colorbar": {
             "outlinewidth": 0,
             "ticks": ""
            },
            "colorscale": [
             [
              0,
              "#0d0887"
             ],
             [
              0.1111111111111111,
              "#46039f"
             ],
             [
              0.2222222222222222,
              "#7201a8"
             ],
             [
              0.3333333333333333,
              "#9c179e"
             ],
             [
              0.4444444444444444,
              "#bd3786"
             ],
             [
              0.5555555555555556,
              "#d8576b"
             ],
             [
              0.6666666666666666,
              "#ed7953"
             ],
             [
              0.7777777777777778,
              "#fb9f3a"
             ],
             [
              0.8888888888888888,
              "#fdca26"
             ],
             [
              1,
              "#f0f921"
             ]
            ],
            "type": "surface"
           }
          ],
          "table": [
           {
            "cells": {
             "fill": {
              "color": "#EBF0F8"
             },
             "line": {
              "color": "white"
             }
            },
            "header": {
             "fill": {
              "color": "#C8D4E3"
             },
             "line": {
              "color": "white"
             }
            },
            "type": "table"
           }
          ]
         },
         "layout": {
          "annotationdefaults": {
           "arrowcolor": "#2a3f5f",
           "arrowhead": 0,
           "arrowwidth": 1
          },
          "autotypenumbers": "strict",
          "coloraxis": {
           "colorbar": {
            "outlinewidth": 0,
            "ticks": ""
           }
          },
          "colorscale": {
           "diverging": [
            [
             0,
             "#8e0152"
            ],
            [
             0.1,
             "#c51b7d"
            ],
            [
             0.2,
             "#de77ae"
            ],
            [
             0.3,
             "#f1b6da"
            ],
            [
             0.4,
             "#fde0ef"
            ],
            [
             0.5,
             "#f7f7f7"
            ],
            [
             0.6,
             "#e6f5d0"
            ],
            [
             0.7,
             "#b8e186"
            ],
            [
             0.8,
             "#7fbc41"
            ],
            [
             0.9,
             "#4d9221"
            ],
            [
             1,
             "#276419"
            ]
           ],
           "sequential": [
            [
             0,
             "#0d0887"
            ],
            [
             0.1111111111111111,
             "#46039f"
            ],
            [
             0.2222222222222222,
             "#7201a8"
            ],
            [
             0.3333333333333333,
             "#9c179e"
            ],
            [
             0.4444444444444444,
             "#bd3786"
            ],
            [
             0.5555555555555556,
             "#d8576b"
            ],
            [
             0.6666666666666666,
             "#ed7953"
            ],
            [
             0.7777777777777778,
             "#fb9f3a"
            ],
            [
             0.8888888888888888,
             "#fdca26"
            ],
            [
             1,
             "#f0f921"
            ]
           ],
           "sequentialminus": [
            [
             0,
             "#0d0887"
            ],
            [
             0.1111111111111111,
             "#46039f"
            ],
            [
             0.2222222222222222,
             "#7201a8"
            ],
            [
             0.3333333333333333,
             "#9c179e"
            ],
            [
             0.4444444444444444,
             "#bd3786"
            ],
            [
             0.5555555555555556,
             "#d8576b"
            ],
            [
             0.6666666666666666,
             "#ed7953"
            ],
            [
             0.7777777777777778,
             "#fb9f3a"
            ],
            [
             0.8888888888888888,
             "#fdca26"
            ],
            [
             1,
             "#f0f921"
            ]
           ]
          },
          "colorway": [
           "#636efa",
           "#EF553B",
           "#00cc96",
           "#ab63fa",
           "#FFA15A",
           "#19d3f3",
           "#FF6692",
           "#B6E880",
           "#FF97FF",
           "#FECB52"
          ],
          "font": {
           "color": "#2a3f5f"
          },
          "geo": {
           "bgcolor": "white",
           "lakecolor": "white",
           "landcolor": "#E5ECF6",
           "showlakes": true,
           "showland": true,
           "subunitcolor": "white"
          },
          "hoverlabel": {
           "align": "left"
          },
          "hovermode": "closest",
          "mapbox": {
           "style": "light"
          },
          "paper_bgcolor": "white",
          "plot_bgcolor": "#E5ECF6",
          "polar": {
           "angularaxis": {
            "gridcolor": "white",
            "linecolor": "white",
            "ticks": ""
           },
           "bgcolor": "#E5ECF6",
           "radialaxis": {
            "gridcolor": "white",
            "linecolor": "white",
            "ticks": ""
           }
          },
          "scene": {
           "xaxis": {
            "backgroundcolor": "#E5ECF6",
            "gridcolor": "white",
            "gridwidth": 2,
            "linecolor": "white",
            "showbackground": true,
            "ticks": "",
            "zerolinecolor": "white"
           },
           "yaxis": {
            "backgroundcolor": "#E5ECF6",
            "gridcolor": "white",
            "gridwidth": 2,
            "linecolor": "white",
            "showbackground": true,
            "ticks": "",
            "zerolinecolor": "white"
           },
           "zaxis": {
            "backgroundcolor": "#E5ECF6",
            "gridcolor": "white",
            "gridwidth": 2,
            "linecolor": "white",
            "showbackground": true,
            "ticks": "",
            "zerolinecolor": "white"
           }
          },
          "shapedefaults": {
           "line": {
            "color": "#2a3f5f"
           }
          },
          "ternary": {
           "aaxis": {
            "gridcolor": "white",
            "linecolor": "white",
            "ticks": ""
           },
           "baxis": {
            "gridcolor": "white",
            "linecolor": "white",
            "ticks": ""
           },
           "bgcolor": "#E5ECF6",
           "caxis": {
            "gridcolor": "white",
            "linecolor": "white",
            "ticks": ""
           }
          },
          "title": {
           "x": 0.05
          },
          "xaxis": {
           "automargin": true,
           "gridcolor": "white",
           "linecolor": "white",
           "ticks": "",
           "title": {
            "standoff": 15
           },
           "zerolinecolor": "white",
           "zerolinewidth": 2
          },
          "yaxis": {
           "automargin": true,
           "gridcolor": "white",
           "linecolor": "white",
           "ticks": "",
           "title": {
            "standoff": 15
           },
           "zerolinecolor": "white",
           "zerolinewidth": 2
          }
         }
        },
        "title": {
         "text": "Content Added Over the Years"
        },
        "xaxis": {
         "anchor": "y",
         "domain": [
          0,
          1
         ],
         "title": {
          "text": "Year"
         }
        },
        "yaxis": {
         "anchor": "x",
         "domain": [
          0,
          1
         ],
         "title": {
          "text": "Count"
         }
        }
       }
      },
      "image/png": "[encoded data removed]"
     },
     "metadata": {},
     "output_type": "display_data"
    }
   ],
   "source": [
    "import plotly.express as px\n",
    "\n",
    "if 'date_added' in data.columns:\n",
    "    # Drop missing dates first\n",
    "    data = data.dropna(subset=['date_added'])\n",
    "\n",
    "    # Extract year\n",
    "    data['year_added'] = data['date_added'].dt.year\n",
    "\n",
    "    # Count per year\n",
    "    yearly = data['year_added'].value_counts().sort_index().reset_index()\n",
    "    yearly.columns = ['Year', 'Count']\n",
    "\n",
    "    # Ensure Year is integer\n",
    "    yearly = yearly.dropna().astype({'Year': 'int'})\n",
    "\n",
    "    # Plot\n",
    "    fig4 = px.line(\n",
    "        yearly,\n",
    "        x='Year',\n",
    "        y='Count',\n",
    "        title=\"Content Added Over the Years\",\n",
    "        markers=True,\n",
    "        line_shape='spline'\n",
    "    )\n",
    "# Keep same colors as original\n",
    "    fig4.update_traces(\n",
    "        line=dict(color=netflix_reds[4]),\n",
    "        marker=dict(color=netflix_reds[2]),\n",
    "        hoverinfo=\"none\",      # 🔹 Disable hover info\n",
    "        hovertemplate=None     # 🔹 Ensure no tooltip shows\n",
    "    )\n",
    "\n",
    "    fig4.show()\n"
   ]
  },
  {
   "cell_type": "code",
   "execution_count": 12,
   "id": "d5e08601-0541-4db2-8d1c-b1bcda273d89",
   "metadata": {},
   "outputs": [
    {
     "data": {
      "application/vnd.plotly.v1+json": {
       "config": {
        "plotlyServerURL": "https://plot.ly"
       },
       "data": [
        {
         "hoverinfo": "none",
         "legendgroup": "Movie",
         "marker": {
          "color": "#FF6F61",
          "pattern": {
           "shape": ""
          }
         },
         "name": "Movie",
         "orientation": "v",
         "showlegend": true,
         "textposition": "auto",
         "type": "bar",
         "x": {
          "bdata": "2AcAANkHAADaBwAA2wcAANwHAADdBwAA3gcAAN8HAADgBwAA4QcAAOIHAADjBwAA5AcAAOUHAAA=",
          "dtype": "i4"
         },
         "xaxis": "x",
         "y": {
          "bdata": "AQACAAEADQADAAYAEwA4APsARAPVBJAFBAXhAw==",
          "dtype": "i2"
         },
         "yaxis": "y"
        },
        {
         "hoverinfo": "none",
         "legendgroup": "TV Show",
         "marker": {
          "color": "#FF9999",
          "pattern": {
           "shape": ""
          }
         },
         "name": "TV Show",
         "orientation": "v",
         "showlegend": true,
         "textposition": "auto",
         "type": "bar",
         "x": {
          "bdata": "2AcAAN0HAADeBwAA3wcAAOAHAADhBwAA4gcAAOMHAADkBwAA5QcAAA==",
          "dtype": "i4"
         },
         "xaxis": "x",
         "y": {
          "bdata": "AQAFAAUAGgCvAF0BmwFQAlMC+QE=",
          "dtype": "i2"
         },
         "yaxis": "y"
        }
       ],
       "layout": {
        "barmode": "stack",
        "legend": {
         "title": {
          "text": "type"
         },
         "tracegroupgap": 0
        },
        "template": {
         "data": {
          "bar": [
           {
            "error_x": {
             "color": "#2a3f5f"
            },
            "error_y": {
             "color": "#2a3f5f"
            },
            "marker": {
             "line": {
              "color": "#E5ECF6",
              "width": 0.5
             },
             "pattern": {
              "fillmode": "overlay",
              "size": 10,
              "solidity": 0.2
             }
            },
            "type": "bar"
           }
          ],
          "barpolar": [
           {
            "marker": {
             "line": {
              "color": "#E5ECF6",
              "width": 0.5
             },
             "pattern": {
              "fillmode": "overlay",
              "size": 10,
              "solidity": 0.2
             }
            },
            "type": "barpolar"
           }
          ],
          "carpet": [
           {
            "aaxis": {
             "endlinecolor": "#2a3f5f",
             "gridcolor": "white",
             "linecolor": "white",
             "minorgridcolor": "white",
             "startlinecolor": "#2a3f5f"
            },
            "baxis": {
             "endlinecolor": "#2a3f5f",
             "gridcolor": "white",
             "linecolor": "white",
             "minorgridcolor": "white",
             "startlinecolor": "#2a3f5f"
            },
            "type": "carpet"
           }
          ],
          "choropleth": [
           {
            "colorbar": {
             "outlinewidth": 0,
             "ticks": ""
            },
            "type": "choropleth"
           }
          ],
          "contour": [
           {
            "colorbar": {
             "outlinewidth": 0,
             "ticks": ""
            },
            "colorscale": [
             [
              0,
              "#0d0887"
             ],
             [
              0.1111111111111111,
              "#46039f"
             ],
             [
              0.2222222222222222,
              "#7201a8"
             ],
             [
              0.3333333333333333,
              "#9c179e"
             ],
             [
              0.4444444444444444,
              "#bd3786"
             ],
             [
              0.5555555555555556,
              "#d8576b"
             ],
             [
              0.6666666666666666,
              "#ed7953"
             ],
             [
              0.7777777777777778,
              "#fb9f3a"
             ],
             [
              0.8888888888888888,
              "#fdca26"
             ],
             [
              1,
              "#f0f921"
             ]
            ],
            "type": "contour"
           }
          ],
          "contourcarpet": [
           {
            "colorbar": {
             "outlinewidth": 0,
             "ticks": ""
            },
            "type": "contourcarpet"
           }
          ],
          "heatmap": [
           {
            "colorbar": {
             "outlinewidth": 0,
             "ticks": ""
            },
            "colorscale": [
             [
              0,
              "#0d0887"
             ],
             [
              0.1111111111111111,
              "#46039f"
             ],
             [
              0.2222222222222222,
              "#7201a8"
             ],
             [
              0.3333333333333333,
              "#9c179e"
             ],
             [
              0.4444444444444444,
              "#bd3786"
             ],
             [
              0.5555555555555556,
              "#d8576b"
             ],
             [
              0.6666666666666666,
              "#ed7953"
             ],
             [
              0.7777777777777778,
              "#fb9f3a"
             ],
             [
              0.8888888888888888,
              "#fdca26"
             ],
             [
              1,
              "#f0f921"
             ]
            ],
            "type": "heatmap"
           }
          ],
          "histogram": [
           {
            "marker": {
             "pattern": {
              "fillmode": "overlay",
              "size": 10,
              "solidity": 0.2
             }
            },
            "type": "histogram"
           }
          ],
          "histogram2d": [
           {
            "colorbar": {
             "outlinewidth": 0,
             "ticks": ""
            },
            "colorscale": [
             [
              0,
              "#0d0887"
             ],
             [
              0.1111111111111111,
              "#46039f"
             ],
             [
              0.2222222222222222,
              "#7201a8"
             ],
             [
              0.3333333333333333,
              "#9c179e"
             ],
             [
              0.4444444444444444,
              "#bd3786"
             ],
             [
              0.5555555555555556,
              "#d8576b"
             ],
             [
              0.6666666666666666,
              "#ed7953"
             ],
             [
              0.7777777777777778,
              "#fb9f3a"
             ],
             [
              0.8888888888888888,
              "#fdca26"
             ],
             [
              1,
              "#f0f921"
             ]
            ],
            "type": "histogram2d"
           }
          ],
          "histogram2dcontour": [
           {
            "colorbar": {
             "outlinewidth": 0,
             "ticks": ""
            },
            "colorscale": [
             [
              0,
              "#0d0887"
             ],
             [
              0.1111111111111111,
              "#46039f"
             ],
             [
              0.2222222222222222,
              "#7201a8"
             ],
             [
              0.3333333333333333,
              "#9c179e"
             ],
             [
              0.4444444444444444,
              "#bd3786"
             ],
             [
              0.5555555555555556,
              "#d8576b"
             ],
             [
              0.6666666666666666,
              "#ed7953"
             ],
             [
              0.7777777777777778,
              "#fb9f3a"
             ],
             [
              0.8888888888888888,
              "#fdca26"
             ],
             [
              1,
              "#f0f921"
             ]
            ],
            "type": "histogram2dcontour"
           }
          ],
          "mesh3d": [
           {
            "colorbar": {
             "outlinewidth": 0,
             "ticks": ""
            },
            "type": "mesh3d"
           }
          ],
          "parcoords": [
           {
            "line": {
             "colorbar": {
              "outlinewidth": 0,
              "ticks": ""
             }
            },
            "type": "parcoords"
           }
          ],
          "pie": [
           {
            "automargin": true,
            "type": "pie"
           }
          ],
          "scatter": [
           {
            "fillpattern": {
             "fillmode": "overlay",
             "size": 10,
             "solidity": 0.2
            },
            "type": "scatter"
           }
          ],
          "scatter3d": [
           {
            "line": {
             "colorbar": {
              "outlinewidth": 0,
              "ticks": ""
             }
            },
            "marker": {
             "colorbar": {
              "outlinewidth": 0,
              "ticks": ""
             }
            },
            "type": "scatter3d"
           }
          ],
          "scattercarpet": [
           {
            "marker": {
             "colorbar": {
              "outlinewidth": 0,
              "ticks": ""
             }
            },
            "type": "scattercarpet"
           }
          ],
          "scattergeo": [
           {
            "marker": {
             "colorbar": {
              "outlinewidth": 0,
              "ticks": ""
             }
            },
            "type": "scattergeo"
           }
          ],
          "scattergl": [
           {
            "marker": {
             "colorbar": {
              "outlinewidth": 0,
              "ticks": ""
             }
            },
            "type": "scattergl"
           }
          ],
          "scattermap": [
           {
            "marker": {
             "colorbar": {
              "outlinewidth": 0,
              "ticks": ""
             }
            },
            "type": "scattermap"
           }
          ],
          "scattermapbox": [
           {
            "marker": {
             "colorbar": {
              "outlinewidth": 0,
              "ticks": ""
             }
            },
            "type": "scattermapbox"
           }
          ],
          "scatterpolar": [
           {
            "marker": {
             "colorbar": {
              "outlinewidth": 0,
              "ticks": ""
             }
            },
            "type": "scatterpolar"
           }
          ],
          "scatterpolargl": [
           {
            "marker": {
             "colorbar": {
              "outlinewidth": 0,
              "ticks": ""
             }
            },
            "type": "scatterpolargl"
           }
          ],
          "scatterternary": [
           {
            "marker": {
             "colorbar": {
              "outlinewidth": 0,
              "ticks": ""
             }
            },
            "type": "scatterternary"
           }
          ],
          "surface": [
           {
            "colorbar": {
             "outlinewidth": 0,
             "ticks": ""
            },
            "colorscale": [
             [
              0,
              "#0d0887"
             ],
             [
              0.1111111111111111,
              "#46039f"
             ],
             [
              0.2222222222222222,
              "#7201a8"
             ],
             [
              0.3333333333333333,
              "#9c179e"
             ],
             [
              0.4444444444444444,
              "#bd3786"
             ],
             [
              0.5555555555555556,
              "#d8576b"
             ],
             [
              0.6666666666666666,
              "#ed7953"
             ],
             [
              0.7777777777777778,
              "#fb9f3a"
             ],
             [
              0.8888888888888888,
              "#fdca26"
             ],
             [
              1,
              "#f0f921"
             ]
            ],
            "type": "surface"
           }
          ],
          "table": [
           {
            "cells": {
             "fill": {
              "color": "#EBF0F8"
             },
             "line": {
              "color": "white"
             }
            },
            "header": {
             "fill": {
              "color": "#C8D4E3"
             },
             "line": {
              "color": "white"
             }
            },
            "type": "table"
           }
          ]
         },
         "layout": {
          "annotationdefaults": {
           "arrowcolor": "#2a3f5f",
           "arrowhead": 0,
           "arrowwidth": 1
          },
          "autotypenumbers": "strict",
          "coloraxis": {
           "colorbar": {
            "outlinewidth": 0,
            "ticks": ""
           }
          },
          "colorscale": {
           "diverging": [
            [
             0,
             "#8e0152"
            ],
            [
             0.1,
             "#c51b7d"
            ],
            [
             0.2,
             "#de77ae"
            ],
            [
             0.3,
             "#f1b6da"
            ],
            [
             0.4,
             "#fde0ef"
            ],
            [
             0.5,
             "#f7f7f7"
            ],
            [
             0.6,
             "#e6f5d0"
            ],
            [
             0.7,
             "#b8e186"
            ],
            [
             0.8,
             "#7fbc41"
            ],
            [
             0.9,
             "#4d9221"
            ],
            [
             1,
             "#276419"
            ]
           ],
           "sequential": [
            [
             0,
             "#0d0887"
            ],
            [
             0.1111111111111111,
             "#46039f"
            ],
            [
             0.2222222222222222,
             "#7201a8"
            ],
            [
             0.3333333333333333,
             "#9c179e"
            ],
            [
             0.4444444444444444,
             "#bd3786"
            ],
            [
             0.5555555555555556,
             "#d8576b"
            ],
            [
             0.6666666666666666,
             "#ed7953"
            ],
            [
             0.7777777777777778,
             "#fb9f3a"
            ],
            [
             0.8888888888888888,
             "#fdca26"
            ],
            [
             1,
             "#f0f921"
            ]
           ],
           "sequentialminus": [
            [
             0,
             "#0d0887"
            ],
            [
             0.1111111111111111,
             "#46039f"
            ],
            [
             0.2222222222222222,
             "#7201a8"
            ],
            [
             0.3333333333333333,
             "#9c179e"
            ],
            [
             0.4444444444444444,
             "#bd3786"
            ],
            [
             0.5555555555555556,
             "#d8576b"
            ],
            [
             0.6666666666666666,
             "#ed7953"
            ],
            [
             0.7777777777777778,
             "#fb9f3a"
            ],
            [
             0.8888888888888888,
             "#fdca26"
            ],
            [
             1,
             "#f0f921"
            ]
           ]
          },
          "colorway": [
           "#636efa",
           "#EF553B",
           "#00cc96",
           "#ab63fa",
           "#FFA15A",
           "#19d3f3",
           "#FF6692",
           "#B6E880",
           "#FF97FF",
           "#FECB52"
          ],
          "font": {
           "color": "#2a3f5f"
          },
          "geo": {
           "bgcolor": "white",
           "lakecolor": "white",
           "landcolor": "#E5ECF6",
           "showlakes": true,
           "showland": true,
           "subunitcolor": "white"
          },
          "hoverlabel": {
           "align": "left"
          },
          "hovermode": "closest",
          "mapbox": {
           "style": "light"
          },
          "paper_bgcolor": "white",
          "plot_bgcolor": "#E5ECF6",
          "polar": {
           "angularaxis": {
            "gridcolor": "white",
            "linecolor": "white",
            "ticks": ""
           },
           "bgcolor": "#E5ECF6",
           "radialaxis": {
            "gridcolor": "white",
            "linecolor": "white",
            "ticks": ""
           }
          },
          "scene": {
           "xaxis": {
            "backgroundcolor": "#E5ECF6",
            "gridcolor": "white",
            "gridwidth": 2,
            "linecolor": "white",
            "showbackground": true,
            "ticks": "",
            "zerolinecolor": "white"
           },
           "yaxis": {
            "backgroundcolor": "#E5ECF6",
            "gridcolor": "white",
            "gridwidth": 2,
            "linecolor": "white",
            "showbackground": true,
            "ticks": "",
            "zerolinecolor": "white"
           },
           "zaxis": {
            "backgroundcolor": "#E5ECF6",
            "gridcolor": "white",
            "gridwidth": 2,
            "linecolor": "white",
            "showbackground": true,
            "ticks": "",
            "zerolinecolor": "white"
           }
          },
          "shapedefaults": {
           "line": {
            "color": "#2a3f5f"
           }
          },
          "ternary": {
           "aaxis": {
            "gridcolor": "white",
            "linecolor": "white",
            "ticks": ""
           },
           "baxis": {
            "gridcolor": "white",
            "linecolor": "white",
            "ticks": ""
           },
           "bgcolor": "#E5ECF6",
           "caxis": {
            "gridcolor": "white",
            "linecolor": "white",
            "ticks": ""
           }
          },
          "title": {
           "x": 0.05
          },
          "xaxis": {
           "automargin": true,
           "gridcolor": "white",
           "linecolor": "white",
           "ticks": "",
           "title": {
            "standoff": 15
           },
           "zerolinecolor": "white",
           "zerolinewidth": 2
          },
          "yaxis": {
           "automargin": true,
           "gridcolor": "white",
           "linecolor": "white",
           "ticks": "",
           "title": {
            "standoff": 15
           },
           "zerolinecolor": "white",
           "zerolinewidth": 2
          }
         }
        },
        "title": {
         "text": "Movies vs TV Shows Added Per Year"
        },
        "xaxis": {
         "anchor": "y",
         "domain": [
          0,
          1
         ],
         "title": {
          "text": "Year"
         }
        },
        "yaxis": {
         "anchor": "x",
         "domain": [
          0,
          1
         ],
         "title": {
          "text": "Count"
         }
        }
       }
      },
      "image/png": "[encoded data removed]"
     },
     "metadata": {},
     "output_type": "display_data"
    }
   ],
   "source": [
    "import plotly.express as px\n",
    "\n",
    "# Movies vs TV Shows per year\n",
    "content_per_year = data.groupby(['year_added', 'type']).size().reset_index(name='Count')\n",
    "\n",
    "fig6 = px.bar(\n",
    "    content_per_year,\n",
    "    x='year_added',\n",
    "    y='Count',\n",
    "    color='type',\n",
    "    barmode='stack',\n",
    "    title=\"Movies vs TV Shows Added Per Year\",\n",
    "    color_discrete_sequence=[netflix_reds[0], netflix_reds[3]]\n",
    ")\n",
    "\n",
    "# Axis labels\n",
    "fig6.update_layout(\n",
    "    xaxis_title=\"Year\",\n",
    "    yaxis_title=\"Count\"\n",
    ")\n",
    "\n",
    "# Disable hover tooltips\n",
    "fig6.update_traces(\n",
    "    hoverinfo=\"none\",\n",
    "    hovertemplate=None\n",
    ")\n",
    "\n",
    "fig6.show()\n"
   ]
  },
  {
   "cell_type": "code",
   "execution_count": 13,
   "id": "7784d4e9-459c-4fa0-823e-8d09dd3a13da",
   "metadata": {},
   "outputs": [
    {
     "data": {
      "application/vnd.plotly.v1+json": {
       "config": {
        "plotlyServerURL": "https://plot.ly"
       },
       "data": [
        {
         "branchvalues": "total",
         "customdata": {
          "bdata": "AAAAAACApUAAAAAAAPSiQAAAAAAAKJpAAAAAAAAUlUAAAAAAACiLQAAAAAAA2IpAAAAAAADQh0AAAAAAAKCHQAAAAAAACIRAAAAAAABAg0AAAAAAAAiCQAAAAAAA6IFAAAAAAABQfUAAAAAAAAB8QAAAAAAAoHhAAAAAAABwd0AAAAAAACB3QAAAAAAAUHZAAAAAAABwdUAAAAAAAOBvQA==",
          "dtype": "f8",
          "shape": "20, 1"
         },
         "domain": {
          "x": [
           0,
           1
          ],
          "y": [
           0,
           1
          ]
         },
         "hoverinfo": "none",
         "ids": [
          "International Movies",
          "Dramas",
          "Comedies",
          "International TV Shows",
          "Documentaries",
          "Action & Adventure",
          "TV Dramas",
          "Independent Movies",
          "Children & Family Movies",
          "Romantic Movies",
          "Thrillers",
          "TV Comedies",
          "Crime TV Shows",
          "Kids' TV",
          "Docuseries",
          "Music & Musicals",
          "Romantic TV Shows",
          "Horror Movies",
          "Stand-Up Comedy",
          "Reality TV"
         ],
         "labels": [
          "International Movies",
          "Dramas",
          "Comedies",
          "International TV Shows",
          "Documentaries",
          "Action & Adventure",
          "TV Dramas",
          "Independent Movies",
          "Children & Family Movies",
          "Romantic Movies",
          "Thrillers",
          "TV Comedies",
          "Crime TV Shows",
          "Kids' TV",
          "Docuseries",
          "Music & Musicals",
          "Romantic TV Shows",
          "Horror Movies",
          "Stand-Up Comedy",
          "Reality TV"
         ],
         "marker": {
          "coloraxis": "coloraxis",
          "colors": {
           "bdata": "AAAAAACApUAAAAAAAPSiQAAAAAAAKJpAAAAAAAAUlUAAAAAAACiLQAAAAAAA2IpAAAAAAADQh0AAAAAAAKCHQAAAAAAACIRAAAAAAABAg0AAAAAAAAiCQAAAAAAA6IFAAAAAAABQfUAAAAAAAAB8QAAAAAAAoHhAAAAAAABwd0AAAAAAACB3QAAAAAAAUHZAAAAAAABwdUAAAAAAAOBvQA==",
           "dtype": "f8"
          }
         },
         "name": "",
         "parents": [
          "",
          "",
          "",
          "",
          "",
          "",
          "",
          "",
          "",
          "",
          "",
          "",
          "",
          "",
          "",
          "",
          "",
          "",
          "",
          ""
         ],
         "type": "treemap",
         "values": {
          "bdata": "AAAAAACApUAAAAAAAPSiQAAAAAAAKJpAAAAAAAAUlUAAAAAAACiLQAAAAAAA2IpAAAAAAADQh0AAAAAAAKCHQAAAAAAACIRAAAAAAABAg0AAAAAAAAiCQAAAAAAA6IFAAAAAAABQfUAAAAAAAAB8QAAAAAAAoHhAAAAAAABwd0AAAAAAACB3QAAAAAAAUHZAAAAAAABwdUAAAAAAAOBvQA==",
          "dtype": "f8"
         }
        }
       ],
       "layout": {
        "coloraxis": {
         "colorbar": {
          "title": {
           "text": "Count"
          }
         },
         "colorscale": [
          [
           0,
           "#8B0000"
          ],
          [
           1,
           "#FF7F7F"
          ]
         ]
        },
        "legend": {
         "tracegroupgap": 0
        },
        "template": {
         "data": {
          "bar": [
           {
            "error_x": {
             "color": "#2a3f5f"
            },
            "error_y": {
             "color": "#2a3f5f"
            },
            "marker": {
             "line": {
              "color": "#E5ECF6",
              "width": 0.5
             },
             "pattern": {
              "fillmode": "overlay",
              "size": 10,
              "solidity": 0.2
             }
            },
            "type": "bar"
           }
          ],
          "barpolar": [
           {
            "marker": {
             "line": {
              "color": "#E5ECF6",
              "width": 0.5
             },
             "pattern": {
              "fillmode": "overlay",
              "size": 10,
              "solidity": 0.2
             }
            },
            "type": "barpolar"
           }
          ],
          "carpet": [
           {
            "aaxis": {
             "endlinecolor": "#2a3f5f",
             "gridcolor": "white",
             "linecolor": "white",
             "minorgridcolor": "white",
             "startlinecolor": "#2a3f5f"
            },
            "baxis": {
             "endlinecolor": "#2a3f5f",
             "gridcolor": "white",
             "linecolor": "white",
             "minorgridcolor": "white",
             "startlinecolor": "#2a3f5f"
            },
            "type": "carpet"
           }
          ],
          "choropleth": [
           {
            "colorbar": {
             "outlinewidth": 0,
             "ticks": ""
            },
            "type": "choropleth"
           }
          ],
          "contour": [
           {
            "colorbar": {
             "outlinewidth": 0,
             "ticks": ""
            },
            "colorscale": [
             [
              0,
              "#0d0887"
             ],
             [
              0.1111111111111111,
              "#46039f"
             ],
             [
              0.2222222222222222,
              "#7201a8"
             ],
             [
              0.3333333333333333,
              "#9c179e"
             ],
             [
              0.4444444444444444,
              "#bd3786"
             ],
             [
              0.5555555555555556,
              "#d8576b"
             ],
             [
              0.6666666666666666,
              "#ed7953"
             ],
             [
              0.7777777777777778,
              "#fb9f3a"
             ],
             [
              0.8888888888888888,
              "#fdca26"
             ],
             [
              1,
              "#f0f921"
             ]
            ],
            "type": "contour"
           }
          ],
          "contourcarpet": [
           {
            "colorbar": {
             "outlinewidth": 0,
             "ticks": ""
            },
            "type": "contourcarpet"
           }
          ],
          "heatmap": [
           {
            "colorbar": {
             "outlinewidth": 0,
             "ticks": ""
            },
            "colorscale": [
             [
              0,
              "#0d0887"
             ],
             [
              0.1111111111111111,
              "#46039f"
             ],
             [
              0.2222222222222222,
              "#7201a8"
             ],
             [
              0.3333333333333333,
              "#9c179e"
             ],
             [
              0.4444444444444444,
              "#bd3786"
             ],
             [
              0.5555555555555556,
              "#d8576b"
             ],
             [
              0.6666666666666666,
              "#ed7953"
             ],
             [
              0.7777777777777778,
              "#fb9f3a"
             ],
             [
              0.8888888888888888,
              "#fdca26"
             ],
             [
              1,
              "#f0f921"
             ]
            ],
            "type": "heatmap"
           }
          ],
          "histogram": [
           {
            "marker": {
             "pattern": {
              "fillmode": "overlay",
              "size": 10,
              "solidity": 0.2
             }
            },
            "type": "histogram"
           }
          ],
          "histogram2d": [
           {
            "colorbar": {
             "outlinewidth": 0,
             "ticks": ""
            },
            "colorscale": [
             [
              0,
              "#0d0887"
             ],
             [
              0.1111111111111111,
              "#46039f"
             ],
             [
              0.2222222222222222,
              "#7201a8"
             ],
             [
              0.3333333333333333,
              "#9c179e"
             ],
             [
              0.4444444444444444,
              "#bd3786"
             ],
             [
              0.5555555555555556,
              "#d8576b"
             ],
             [
              0.6666666666666666,
              "#ed7953"
             ],
             [
              0.7777777777777778,
              "#fb9f3a"
             ],
             [
              0.8888888888888888,
              "#fdca26"
             ],
             [
              1,
              "#f0f921"
             ]
            ],
            "type": "histogram2d"
           }
          ],
          "histogram2dcontour": [
           {
            "colorbar": {
             "outlinewidth": 0,
             "ticks": ""
            },
            "colorscale": [
             [
              0,
              "#0d0887"
             ],
             [
              0.1111111111111111,
              "#46039f"
             ],
             [
              0.2222222222222222,
              "#7201a8"
             ],
             [
              0.3333333333333333,
              "#9c179e"
             ],
             [
              0.4444444444444444,
              "#bd3786"
             ],
             [
              0.5555555555555556,
              "#d8576b"
             ],
             [
              0.6666666666666666,
              "#ed7953"
             ],
             [
              0.7777777777777778,
              "#fb9f3a"
             ],
             [
              0.8888888888888888,
              "#fdca26"
             ],
             [
              1,
              "#f0f921"
             ]
            ],
            "type": "histogram2dcontour"
           }
          ],
          "mesh3d": [
           {
            "colorbar": {
             "outlinewidth": 0,
             "ticks": ""
            },
            "type": "mesh3d"
           }
          ],
          "parcoords": [
           {
            "line": {
             "colorbar": {
              "outlinewidth": 0,
              "ticks": ""
             }
            },
            "type": "parcoords"
           }
          ],
          "pie": [
           {
            "automargin": true,
            "type": "pie"
           }
          ],
          "scatter": [
           {
            "fillpattern": {
             "fillmode": "overlay",
             "size": 10,
             "solidity": 0.2
            },
            "type": "scatter"
           }
          ],
          "scatter3d": [
           {
            "line": {
             "colorbar": {
              "outlinewidth": 0,
              "ticks": ""
             }
            },
            "marker": {
             "colorbar": {
              "outlinewidth": 0,
              "ticks": ""
             }
            },
            "type": "scatter3d"
           }
          ],
          "scattercarpet": [
           {
            "marker": {
             "colorbar": {
              "outlinewidth": 0,
              "ticks": ""
             }
            },
            "type": "scattercarpet"
           }
          ],
          "scattergeo": [
           {
            "marker": {
             "colorbar": {
              "outlinewidth": 0,
              "ticks": ""
             }
            },
            "type": "scattergeo"
           }
          ],
          "scattergl": [
           {
            "marker": {
             "colorbar": {
              "outlinewidth": 0,
              "ticks": ""
             }
            },
            "type": "scattergl"
           }
          ],
          "scattermap": [
           {
            "marker": {
             "colorbar": {
              "outlinewidth": 0,
              "ticks": ""
             }
            },
            "type": "scattermap"
           }
          ],
          "scattermapbox": [
           {
            "marker": {
             "colorbar": {
              "outlinewidth": 0,
              "ticks": ""
             }
            },
            "type": "scattermapbox"
           }
          ],
          "scatterpolar": [
           {
            "marker": {
             "colorbar": {
              "outlinewidth": 0,
              "ticks": ""
             }
            },
            "type": "scatterpolar"
           }
          ],
          "scatterpolargl": [
           {
            "marker": {
             "colorbar": {
              "outlinewidth": 0,
              "ticks": ""
             }
            },
            "type": "scatterpolargl"
           }
          ],
          "scatterternary": [
           {
            "marker": {
             "colorbar": {
              "outlinewidth": 0,
              "ticks": ""
             }
            },
            "type": "scatterternary"
           }
          ],
          "surface": [
           {
            "colorbar": {
             "outlinewidth": 0,
             "ticks": ""
            },
            "colorscale": [
             [
              0,
              "#0d0887"
             ],
             [
              0.1111111111111111,
              "#46039f"
             ],
             [
              0.2222222222222222,
              "#7201a8"
             ],
             [
              0.3333333333333333,
              "#9c179e"
             ],
             [
              0.4444444444444444,
              "#bd3786"
             ],
             [
              0.5555555555555556,
              "#d8576b"
             ],
             [
              0.6666666666666666,
              "#ed7953"
             ],
             [
              0.7777777777777778,
              "#fb9f3a"
             ],
             [
              0.8888888888888888,
              "#fdca26"
             ],
             [
              1,
              "#f0f921"
             ]
            ],
            "type": "surface"
           }
          ],
          "table": [
           {
            "cells": {
             "fill": {
              "color": "#EBF0F8"
             },
             "line": {
              "color": "white"
             }
            },
            "header": {
             "fill": {
              "color": "#C8D4E3"
             },
             "line": {
              "color": "white"
             }
            },
            "type": "table"
           }
          ]
         },
         "layout": {
          "annotationdefaults": {
           "arrowcolor": "#2a3f5f",
           "arrowhead": 0,
           "arrowwidth": 1
          },
          "autotypenumbers": "strict",
          "coloraxis": {
           "colorbar": {
            "outlinewidth": 0,
            "ticks": ""
           }
          },
          "colorscale": {
           "diverging": [
            [
             0,
             "#8e0152"
            ],
            [
             0.1,
             "#c51b7d"
            ],
            [
             0.2,
             "#de77ae"
            ],
            [
             0.3,
             "#f1b6da"
            ],
            [
             0.4,
             "#fde0ef"
            ],
            [
             0.5,
             "#f7f7f7"
            ],
            [
             0.6,
             "#e6f5d0"
            ],
            [
             0.7,
             "#b8e186"
            ],
            [
             0.8,
             "#7fbc41"
            ],
            [
             0.9,
             "#4d9221"
            ],
            [
             1,
             "#276419"
            ]
           ],
           "sequential": [
            [
             0,
             "#0d0887"
            ],
            [
             0.1111111111111111,
             "#46039f"
            ],
            [
             0.2222222222222222,
             "#7201a8"
            ],
            [
             0.3333333333333333,
             "#9c179e"
            ],
            [
             0.4444444444444444,
             "#bd3786"
            ],
            [
             0.5555555555555556,
             "#d8576b"
            ],
            [
             0.6666666666666666,
             "#ed7953"
            ],
            [
             0.7777777777777778,
             "#fb9f3a"
            ],
            [
             0.8888888888888888,
             "#fdca26"
            ],
            [
             1,
             "#f0f921"
            ]
           ],
           "sequentialminus": [
            [
             0,
             "#0d0887"
            ],
            [
             0.1111111111111111,
             "#46039f"
            ],
            [
             0.2222222222222222,
             "#7201a8"
            ],
            [
             0.3333333333333333,
             "#9c179e"
            ],
            [
             0.4444444444444444,
             "#bd3786"
            ],
            [
             0.5555555555555556,
             "#d8576b"
            ],
            [
             0.6666666666666666,
             "#ed7953"
            ],
            [
             0.7777777777777778,
             "#fb9f3a"
            ],
            [
             0.8888888888888888,
             "#fdca26"
            ],
            [
             1,
             "#f0f921"
            ]
           ]
          },
          "colorway": [
           "#636efa",
           "#EF553B",
           "#00cc96",
           "#ab63fa",
           "#FFA15A",
           "#19d3f3",
           "#FF6692",
           "#B6E880",
           "#FF97FF",
           "#FECB52"
          ],
          "font": {
           "color": "#2a3f5f"
          },
          "geo": {
           "bgcolor": "white",
           "lakecolor": "white",
           "landcolor": "#E5ECF6",
           "showlakes": true,
           "showland": true,
           "subunitcolor": "white"
          },
          "hoverlabel": {
           "align": "left"
          },
          "hovermode": "closest",
          "mapbox": {
           "style": "light"
          },
          "paper_bgcolor": "white",
          "plot_bgcolor": "#E5ECF6",
          "polar": {
           "angularaxis": {
            "gridcolor": "white",
            "linecolor": "white",
            "ticks": ""
           },
           "bgcolor": "#E5ECF6",
           "radialaxis": {
            "gridcolor": "white",
            "linecolor": "white",
            "ticks": ""
           }
          },
          "scene": {
           "xaxis": {
            "backgroundcolor": "#E5ECF6",
            "gridcolor": "white",
            "gridwidth": 2,
            "linecolor": "white",
            "showbackground": true,
            "ticks": "",
            "zerolinecolor": "white"
           },
           "yaxis": {
            "backgroundcolor": "#E5ECF6",
            "gridcolor": "white",
            "gridwidth": 2,
            "linecolor": "white",
            "showbackground": true,
            "ticks": "",
            "zerolinecolor": "white"
           },
           "zaxis": {
            "backgroundcolor": "#E5ECF6",
            "gridcolor": "white",
            "gridwidth": 2,
            "linecolor": "white",
            "showbackground": true,
            "ticks": "",
            "zerolinecolor": "white"
           }
          },
          "shapedefaults": {
           "line": {
            "color": "#2a3f5f"
           }
          },
          "ternary": {
           "aaxis": {
            "gridcolor": "white",
            "linecolor": "white",
            "ticks": ""
           },
           "baxis": {
            "gridcolor": "white",
            "linecolor": "white",
            "ticks": ""
           },
           "bgcolor": "#E5ECF6",
           "caxis": {
            "gridcolor": "white",
            "linecolor": "white",
            "ticks": ""
           }
          },
          "title": {
           "x": 0.05
          },
          "xaxis": {
           "automargin": true,
           "gridcolor": "white",
           "linecolor": "white",
           "ticks": "",
           "title": {
            "standoff": 15
           },
           "zerolinecolor": "white",
           "zerolinewidth": 2
          },
          "yaxis": {
           "automargin": true,
           "gridcolor": "white",
           "linecolor": "white",
           "ticks": "",
           "title": {
            "standoff": 15
           },
           "zerolinecolor": "white",
           "zerolinewidth": 2
          }
         }
        },
        "title": {
         "text": "Netflix Genre Distribution (Top 20)"
        }
       }
      },
      "image/png": "[encoded data removed]"
     },
     "metadata": {},
     "output_type": "display_data"
    }
   ],
   "source": [
    "import plotly.express as px\n",
    "import pandas as pd\n",
    "\n",
    "# Split genres and count\n",
    "all_genres = data['listed_in'].dropna().str.split(', ').sum()\n",
    "genre_counts = pd.Series(all_genres).value_counts().reset_index()\n",
    "genre_counts.columns = ['Genre', 'Count']\n",
    "\n",
    "# Treemap plot\n",
    "fig7 = px.treemap(\n",
    "    genre_counts.head(20),\n",
    "    path=['Genre'],\n",
    "    values='Count',\n",
    "    title=\"Netflix Genre Distribution (Top 20)\",\n",
    "    color='Count',\n",
    "    color_continuous_scale=['#8B0000', '#FF7F7F']   # same colors as your code\n",
    ")\n",
    "\n",
    "# Disable hover info\n",
    "fig7.update_traces(\n",
    "    hoverinfo=\"none\",\n",
    "    hovertemplate=None\n",
    ")\n",
    "\n",
    "fig7.show()"
   ]
  },
  {
   "cell_type": "code",
   "execution_count": 14,
   "id": "24df5a64-9647-4d6b-aae2-b1b4416aed5e",
   "metadata": {},
   "outputs": [
    {
     "data": {
      "application/vnd.plotly.v1+json": {
       "config": {
        "plotlyServerURL": "https://plot.ly"
       },
       "data": [
        {
         "hoverinfo": "none",
         "legendgroup": "",
         "marker": {
          "color": {
           "bdata": "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",
           "dtype": "i2"
          },
          "coloraxis": "coloraxis",
          "opacity": 0.6,
          "size": 8,
          "symbol": "circle"
         },
         "mode": "markers",
         "name": "",
         "showlegend": false,
         "type": "scattergl",
         "x": {
          "bdata": "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",
          "dtype": "i2"
         },
         "xaxis": "x",
         "y": {
          "bdata": "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",
          "dtype": "i2"
         },
         "yaxis": "y"
        }
       ],
       "layout": {
        "coloraxis": {
         "colorbar": {
          "title": {
           "text": "duration_mins"
          }
         },
         "colorscale": [
          [
           0,
           "#B22222"
          ],
          [
           1,
           "#FF7F7F"
          ]
         ]
        },
        "legend": {
         "tracegroupgap": 0
        },
        "template": {
         "data": {
          "bar": [
           {
            "error_x": {
             "color": "#2a3f5f"
            },
            "error_y": {
             "color": "#2a3f5f"
            },
            "marker": {
             "line": {
              "color": "#E5ECF6",
              "width": 0.5
             },
             "pattern": {
              "fillmode": "overlay",
              "size": 10,
              "solidity": 0.2
             }
            },
            "type": "bar"
           }
          ],
          "barpolar": [
           {
            "marker": {
             "line": {
              "color": "#E5ECF6",
              "width": 0.5
             },
             "pattern": {
              "fillmode": "overlay",
              "size": 10,
              "solidity": 0.2
             }
            },
            "type": "barpolar"
           }
          ],
          "carpet": [
           {
            "aaxis": {
             "endlinecolor": "#2a3f5f",
             "gridcolor": "white",
             "linecolor": "white",
             "minorgridcolor": "white",
             "startlinecolor": "#2a3f5f"
            },
            "baxis": {
             "endlinecolor": "#2a3f5f",
             "gridcolor": "white",
             "linecolor": "white",
             "minorgridcolor": "white",
             "startlinecolor": "#2a3f5f"
            },
            "type": "carpet"
           }
          ],
          "choropleth": [
           {
            "colorbar": {
             "outlinewidth": 0,
             "ticks": ""
            },
            "type": "choropleth"
           }
          ],
          "contour": [
           {
            "colorbar": {
             "outlinewidth": 0,
             "ticks": ""
            },
            "colorscale": [
             [
              0,
              "#0d0887"
             ],
             [
              0.1111111111111111,
              "#46039f"
             ],
             [
              0.2222222222222222,
              "#7201a8"
             ],
             [
              0.3333333333333333,
              "#9c179e"
             ],
             [
              0.4444444444444444,
              "#bd3786"
             ],
             [
              0.5555555555555556,
              "#d8576b"
             ],
             [
              0.6666666666666666,
              "#ed7953"
             ],
             [
              0.7777777777777778,
              "#fb9f3a"
             ],
             [
              0.8888888888888888,
              "#fdca26"
             ],
             [
              1,
              "#f0f921"
             ]
            ],
            "type": "contour"
           }
          ],
          "contourcarpet": [
           {
            "colorbar": {
             "outlinewidth": 0,
             "ticks": ""
            },
            "type": "contourcarpet"
           }
          ],
          "heatmap": [
           {
            "colorbar": {
             "outlinewidth": 0,
             "ticks": ""
            },
            "colorscale": [
             [
              0,
              "#0d0887"
             ],
             [
              0.1111111111111111,
              "#46039f"
             ],
             [
              0.2222222222222222,
              "#7201a8"
             ],
             [
              0.3333333333333333,
              "#9c179e"
             ],
             [
              0.4444444444444444,
              "#bd3786"
             ],
             [
              0.5555555555555556,
              "#d8576b"
             ],
             [
              0.6666666666666666,
              "#ed7953"
             ],
             [
              0.7777777777777778,
              "#fb9f3a"
             ],
             [
              0.8888888888888888,
              "#fdca26"
             ],
             [
              1,
              "#f0f921"
             ]
            ],
            "type": "heatmap"
           }
          ],
          "histogram": [
           {
            "marker": {
             "pattern": {
              "fillmode": "overlay",
              "size": 10,
              "solidity": 0.2
             }
            },
            "type": "histogram"
           }
          ],
          "histogram2d": [
           {
            "colorbar": {
             "outlinewidth": 0,
             "ticks": ""
            },
            "colorscale": [
             [
              0,
              "#0d0887"
             ],
             [
              0.1111111111111111,
              "#46039f"
             ],
             [
              0.2222222222222222,
              "#7201a8"
             ],
             [
              0.3333333333333333,
              "#9c179e"
             ],
             [
              0.4444444444444444,
              "#bd3786"
             ],
             [
              0.5555555555555556,
              "#d8576b"
             ],
             [
              0.6666666666666666,
              "#ed7953"
             ],
             [
              0.7777777777777778,
              "#fb9f3a"
             ],
             [
              0.8888888888888888,
              "#fdca26"
             ],
             [
              1,
              "#f0f921"
             ]
            ],
            "type": "histogram2d"
           }
          ],
          "histogram2dcontour": [
           {
            "colorbar": {
             "outlinewidth": 0,
             "ticks": ""
            },
            "colorscale": [
             [
              0,
              "#0d0887"
             ],
             [
              0.1111111111111111,
              "#46039f"
             ],
             [
              0.2222222222222222,
              "#7201a8"
             ],
             [
              0.3333333333333333,
              "#9c179e"
             ],
             [
              0.4444444444444444,
              "#bd3786"
             ],
             [
              0.5555555555555556,
              "#d8576b"
             ],
             [
              0.6666666666666666,
              "#ed7953"
             ],
             [
              0.7777777777777778,
              "#fb9f3a"
             ],
             [
              0.8888888888888888,
              "#fdca26"
             ],
             [
              1,
              "#f0f921"
             ]
            ],
            "type": "histogram2dcontour"
           }
          ],
          "mesh3d": [
           {
            "colorbar": {
             "outlinewidth": 0,
             "ticks": ""
            },
            "type": "mesh3d"
           }
          ],
          "parcoords": [
           {
            "line": {
             "colorbar": {
              "outlinewidth": 0,
              "ticks": ""
             }
            },
            "type": "parcoords"
           }
          ],
          "pie": [
           {
            "automargin": true,
            "type": "pie"
           }
          ],
          "scatter": [
           {
            "fillpattern": {
             "fillmode": "overlay",
             "size": 10,
             "solidity": 0.2
            },
            "type": "scatter"
           }
          ],
          "scatter3d": [
           {
            "line": {
             "colorbar": {
              "outlinewidth": 0,
              "ticks": ""
             }
            },
            "marker": {
             "colorbar": {
              "outlinewidth": 0,
              "ticks": ""
             }
            },
            "type": "scatter3d"
           }
          ],
          "scattercarpet": [
           {
            "marker": {
             "colorbar": {
              "outlinewidth": 0,
              "ticks": ""
             }
            },
            "type": "scattercarpet"
           }
          ],
          "scattergeo": [
           {
            "marker": {
             "colorbar": {
              "outlinewidth": 0,
              "ticks": ""
             }
            },
            "type": "scattergeo"
           }
          ],
          "scattergl": [
           {
            "marker": {
             "colorbar": {
              "outlinewidth": 0,
              "ticks": ""
             }
            },
            "type": "scattergl"
           }
          ],
          "scattermap": [
           {
            "marker": {
             "colorbar": {
              "outlinewidth": 0,
              "ticks": ""
             }
            },
            "type": "scattermap"
           }
          ],
          "scattermapbox": [
           {
            "marker": {
             "colorbar": {
              "outlinewidth": 0,
              "ticks": ""
             }
            },
            "type": "scattermapbox"
           }
          ],
          "scatterpolar": [
           {
            "marker": {
             "colorbar": {
              "outlinewidth": 0,
              "ticks": ""
             }
            },
            "type": "scatterpolar"
           }
          ],
          "scatterpolargl": [
           {
            "marker": {
             "colorbar": {
              "outlinewidth": 0,
              "ticks": ""
             }
            },
            "type": "scatterpolargl"
           }
          ],
          "scatterternary": [
           {
            "marker": {
             "colorbar": {
              "outlinewidth": 0,
              "ticks": ""
             }
            },
            "type": "scatterternary"
           }
          ],
          "surface": [
           {
            "colorbar": {
             "outlinewidth": 0,
             "ticks": ""
            },
            "colorscale": [
             [
              0,
              "#0d0887"
             ],
             [
              0.1111111111111111,
              "#46039f"
             ],
             [
              0.2222222222222222,
              "#7201a8"
             ],
             [
              0.3333333333333333,
              "#9c179e"
             ],
             [
              0.4444444444444444,
              "#bd3786"
             ],
             [
              0.5555555555555556,
              "#d8576b"
             ],
             [
              0.6666666666666666,
              "#ed7953"
             ],
             [
              0.7777777777777778,
              "#fb9f3a"
             ],
             [
              0.8888888888888888,
              "#fdca26"
             ],
             [
              1,
              "#f0f921"
             ]
            ],
            "type": "surface"
           }
          ],
          "table": [
           {
            "cells": {
             "fill": {
              "color": "#EBF0F8"
             },
             "line": {
              "color": "white"
             }
            },
            "header": {
             "fill": {
              "color": "#C8D4E3"
             },
             "line": {
              "color": "white"
             }
            },
            "type": "table"
           }
          ]
         },
         "layout": {
          "annotationdefaults": {
           "arrowcolor": "#2a3f5f",
           "arrowhead": 0,
           "arrowwidth": 1
          },
          "autotypenumbers": "strict",
          "coloraxis": {
           "colorbar": {
            "outlinewidth": 0,
            "ticks": ""
           }
          },
          "colorscale": {
           "diverging": [
            [
             0,
             "#8e0152"
            ],
            [
             0.1,
             "#c51b7d"
            ],
            [
             0.2,
             "#de77ae"
            ],
            [
             0.3,
             "#f1b6da"
            ],
            [
             0.4,
             "#fde0ef"
            ],
            [
             0.5,
             "#f7f7f7"
            ],
            [
             0.6,
             "#e6f5d0"
            ],
            [
             0.7,
             "#b8e186"
            ],
            [
             0.8,
             "#7fbc41"
            ],
            [
             0.9,
             "#4d9221"
            ],
            [
             1,
             "#276419"
            ]
           ],
           "sequential": [
            [
             0,
             "#0d0887"
            ],
            [
             0.1111111111111111,
             "#46039f"
            ],
            [
             0.2222222222222222,
             "#7201a8"
            ],
            [
             0.3333333333333333,
             "#9c179e"
            ],
            [
             0.4444444444444444,
             "#bd3786"
            ],
            [
             0.5555555555555556,
             "#d8576b"
            ],
            [
             0.6666666666666666,
             "#ed7953"
            ],
            [
             0.7777777777777778,
             "#fb9f3a"
            ],
            [
             0.8888888888888888,
             "#fdca26"
            ],
            [
             1,
             "#f0f921"
            ]
           ],
           "sequentialminus": [
            [
             0,
             "#0d0887"
            ],
            [
             0.1111111111111111,
             "#46039f"
            ],
            [
             0.2222222222222222,
             "#7201a8"
            ],
            [
             0.3333333333333333,
             "#9c179e"
            ],
            [
             0.4444444444444444,
             "#bd3786"
            ],
            [
             0.5555555555555556,
             "#d8576b"
            ],
            [
             0.6666666666666666,
             "#ed7953"
            ],
            [
             0.7777777777777778,
             "#fb9f3a"
            ],
            [
             0.8888888888888888,
             "#fdca26"
            ],
            [
             1,
             "#f0f921"
            ]
           ]
          },
          "colorway": [
           "#636efa",
           "#EF553B",
           "#00cc96",
           "#ab63fa",
           "#FFA15A",
           "#19d3f3",
           "#FF6692",
           "#B6E880",
           "#FF97FF",
           "#FECB52"
          ],
          "font": {
           "color": "#2a3f5f"
          },
          "geo": {
           "bgcolor": "white",
           "lakecolor": "white",
           "landcolor": "#E5ECF6",
           "showlakes": true,
           "showland": true,
           "subunitcolor": "white"
          },
          "hoverlabel": {
           "align": "left"
          },
          "hovermode": "closest",
          "mapbox": {
           "style": "light"
          },
          "paper_bgcolor": "white",
          "plot_bgcolor": "#E5ECF6",
          "polar": {
           "angularaxis": {
            "gridcolor": "white",
            "linecolor": "white",
            "ticks": ""
           },
           "bgcolor": "#E5ECF6",
           "radialaxis": {
            "gridcolor": "white",
            "linecolor": "white",
            "ticks": ""
           }
          },
          "scene": {
           "xaxis": {
            "backgroundcolor": "#E5ECF6",
            "gridcolor": "white",
            "gridwidth": 2,
            "linecolor": "white",
            "showbackground": true,
            "ticks": "",
            "zerolinecolor": "white"
           },
           "yaxis": {
            "backgroundcolor": "#E5ECF6",
            "gridcolor": "white",
            "gridwidth": 2,
            "linecolor": "white",
            "showbackground": true,
            "ticks": "",
            "zerolinecolor": "white"
           },
           "zaxis": {
            "backgroundcolor": "#E5ECF6",
            "gridcolor": "white",
            "gridwidth": 2,
            "linecolor": "white",
            "showbackground": true,
            "ticks": "",
            "zerolinecolor": "white"
           }
          },
          "shapedefaults": {
           "line": {
            "color": "#2a3f5f"
           }
          },
          "ternary": {
           "aaxis": {
            "gridcolor": "white",
            "linecolor": "white",
            "ticks": ""
           },
           "baxis": {
            "gridcolor": "white",
            "linecolor": "white",
            "ticks": ""
           },
           "bgcolor": "#E5ECF6",
           "caxis": {
            "gridcolor": "white",
            "linecolor": "white",
            "ticks": ""
           }
          },
          "title": {
           "x": 0.05
          },
          "xaxis": {
           "automargin": true,
           "gridcolor": "white",
           "linecolor": "white",
           "ticks": "",
           "title": {
            "standoff": 15
           },
           "zerolinecolor": "white",
           "zerolinewidth": 2
          },
          "yaxis": {
           "automargin": true,
           "gridcolor": "white",
           "linecolor": "white",
           "ticks": "",
           "title": {
            "standoff": 15
           },
           "zerolinecolor": "white",
           "zerolinewidth": 2
          }
         }
        },
        "title": {
         "text": "Movie Duration Trends Over Release Years"
        },
        "xaxis": {
         "anchor": "y",
         "domain": [
          0,
          1
         ],
         "title": {
          "text": "release_year"
         }
        },
        "yaxis": {
         "anchor": "x",
         "domain": [
          0,
          1
         ],
         "title": {
          "text": "duration_mins"
         }
        }
       }
      },
      "image/png": "[encoded data removed]"
     },
     "metadata": {},
     "output_type": "display_data"
    }
   ],
   "source": [
    "import plotly.express as px\n",
    "\n",
    "# Filter only Movies with numeric duration\n",
    "movies = data[data['type'] == 'Movie'].copy()\n",
    "movies['duration_mins'] = movies['duration'].str.replace(' min','', regex=True)\n",
    "movies = movies[movies['duration_mins'].str.isnumeric()]\n",
    "movies['duration_mins'] = movies['duration_mins'].astype(int)\n",
    "\n",
    "# Scatter plot\n",
    "fig8 = px.scatter(\n",
    "    movies,\n",
    "    x='release_year',\n",
    "    y='duration_mins',\n",
    "    title=\"Movie Duration Trends Over Release Years\",\n",
    "    color='duration_mins',\n",
    "    color_continuous_scale=['#B22222', '#FF7F7F']  # same colors as your code\n",
    ")\n",
    "\n",
    "# Marker style + disable hover\n",
    "fig8.update_traces(\n",
    "    marker=dict(size=8, opacity=0.6),\n",
    "    hoverinfo=\"none\",       #  disable hover info\n",
    "    hovertemplate=None     #  Ensure no tooltip shows\n",
    ")\n",
    "\n",
    "fig8.show()\n"
   ]
  },
  {
   "cell_type": "code",
   "execution_count": 15,
   "id": "e19231ef-e2e0-400a-8ca3-6be4e309cb4f",
   "metadata": {},
   "outputs": [
    {
     "data": {
      "application/vnd.plotly.v1+json": {
       "config": {
        "plotlyServerURL": "https://plot.ly"
       },
       "data": [
        {
         "hoverinfo": "none",
         "legendgroup": "United States",
         "marker": {
          "color": "#FF6F61",
          "size": {
           "bdata": "qAw=",
           "dtype": "i2"
          },
          "sizemode": "area",
          "sizeref": 8.1,
          "symbol": "circle"
         },
         "mode": "markers",
         "name": "United States",
         "orientation": "v",
         "showlegend": true,
         "type": "scatter",
         "x": [
          "United States"
         ],
         "xaxis": "x",
         "y": {
          "bdata": "qAw=",
          "dtype": "i2"
         },
         "yaxis": "y"
        },
        {
         "hoverinfo": "none",
         "legendgroup": "India",
         "marker": {
          "color": "#FF7F7F",
          "size": {
           "bdata": "IQQ=",
           "dtype": "i2"
          },
          "sizemode": "area",
          "sizeref": 8.1,
          "symbol": "circle"
         },
         "mode": "markers",
         "name": "India",
         "orientation": "v",
         "showlegend": true,
         "type": "scatter",
         "x": [
          "India"
         ],
         "xaxis": "x",
         "y": {
          "bdata": "IQQ=",
          "dtype": "i2"
         },
         "yaxis": "y"
        },
        {
         "hoverinfo": "none",
         "legendgroup": "United Kingdom",
         "marker": {
          "color": "#FF8C8C",
          "size": {
           "bdata": "fgI=",
           "dtype": "i2"
          },
          "sizemode": "area",
          "sizeref": 8.1,
          "symbol": "circle"
         },
         "mode": "markers",
         "name": "United Kingdom",
         "orientation": "v",
         "showlegend": true,
         "type": "scatter",
         "x": [
          "United Kingdom"
         ],
         "xaxis": "x",
         "y": {
          "bdata": "fgI=",
          "dtype": "i2"
         },
         "yaxis": "y"
        },
        {
         "hoverinfo": "none",
         "legendgroup": "Pakistan",
         "marker": {
          "color": "#FF9999",
          "size": {
           "bdata": "pQE=",
           "dtype": "i2"
          },
          "sizemode": "area",
          "sizeref": 8.1,
          "symbol": "circle"
         },
         "mode": "markers",
         "name": "Pakistan",
         "orientation": "v",
         "showlegend": true,
         "type": "scatter",
         "x": [
          "Pakistan"
         ],
         "xaxis": "x",
         "y": {
          "bdata": "pQE=",
          "dtype": "i2"
         },
         "yaxis": "y"
        },
        {
         "hoverinfo": "none",
         "legendgroup": "Not Given",
         "marker": {
          "color": "#FFA3A3",
          "size": {
           "bdata": "HwE=",
           "dtype": "i2"
          },
          "sizemode": "area",
          "sizeref": 8.1,
          "symbol": "circle"
         },
         "mode": "markers",
         "name": "Not Given",
         "orientation": "v",
         "showlegend": true,
         "type": "scatter",
         "x": [
          "Not Given"
         ],
         "xaxis": "x",
         "y": {
          "bdata": "HwE=",
          "dtype": "i2"
         },
         "yaxis": "y"
        },
        {
         "hoverinfo": "none",
         "legendgroup": "Canada",
         "marker": {
          "color": "#FFB3B3",
          "size": {
           "bdata": "DwE=",
           "dtype": "i2"
          },
          "sizemode": "area",
          "sizeref": 8.1,
          "symbol": "circle"
         },
         "mode": "markers",
         "name": "Canada",
         "orientation": "v",
         "showlegend": true,
         "type": "scatter",
         "x": [
          "Canada"
         ],
         "xaxis": "x",
         "y": {
          "bdata": "DwE=",
          "dtype": "i2"
         },
         "yaxis": "y"
        },
        {
         "hoverinfo": "none",
         "legendgroup": "Japan",
         "marker": {
          "color": "#FFC2C2",
          "size": {
           "bdata": "AwE=",
           "dtype": "i2"
          },
          "sizemode": "area",
          "sizeref": 8.1,
          "symbol": "circle"
         },
         "mode": "markers",
         "name": "Japan",
         "orientation": "v",
         "showlegend": true,
         "type": "scatter",
         "x": [
          "Japan"
         ],
         "xaxis": "x",
         "y": {
          "bdata": "AwE=",
          "dtype": "i2"
         },
         "yaxis": "y"
        },
        {
         "hoverinfo": "none",
         "legendgroup": "South Korea",
         "marker": {
          "color": "#FFD6D6",
          "size": {
           "bdata": "1gA=",
           "dtype": "i2"
          },
          "sizemode": "area",
          "sizeref": 8.1,
          "symbol": "circle"
         },
         "mode": "markers",
         "name": "South Korea",
         "orientation": "v",
         "showlegend": true,
         "type": "scatter",
         "x": [
          "South Korea"
         ],
         "xaxis": "x",
         "y": {
          "bdata": "1gA=",
          "dtype": "i2"
         },
         "yaxis": "y"
        },
        {
         "hoverinfo": "none",
         "legendgroup": "France",
         "marker": {
          "color": "#FF6F61",
          "size": {
           "bdata": "1QA=",
           "dtype": "i2"
          },
          "sizemode": "area",
          "sizeref": 8.1,
          "symbol": "circle"
         },
         "mode": "markers",
         "name": "France",
         "orientation": "v",
         "showlegend": true,
         "type": "scatter",
         "x": [
          "France"
         ],
         "xaxis": "x",
         "y": {
          "bdata": "1QA=",
          "dtype": "i2"
         },
         "yaxis": "y"
        },
        {
         "hoverinfo": "none",
         "legendgroup": "Spain",
         "marker": {
          "color": "#FF7F7F",
          "size": {
           "bdata": "tgA=",
           "dtype": "i2"
          },
          "sizemode": "area",
          "sizeref": 8.1,
          "symbol": "circle"
         },
         "mode": "markers",
         "name": "Spain",
         "orientation": "v",
         "showlegend": true,
         "type": "scatter",
         "x": [
          "Spain"
         ],
         "xaxis": "x",
         "y": {
          "bdata": "tgA=",
          "dtype": "i2"
         },
         "yaxis": "y"
        },
        {
         "hoverinfo": "none",
         "legendgroup": "Mexico",
         "marker": {
          "color": "#FF8C8C",
          "size": {
           "bdata": "igA=",
           "dtype": "i2"
          },
          "sizemode": "area",
          "sizeref": 8.1,
          "symbol": "circle"
         },
         "mode": "markers",
         "name": "Mexico",
         "orientation": "v",
         "showlegend": true,
         "type": "scatter",
         "x": [
          "Mexico"
         ],
         "xaxis": "x",
         "y": {
          "bdata": "igA=",
          "dtype": "i2"
         },
         "yaxis": "y"
        },
        {
         "hoverinfo": "none",
         "legendgroup": "Egypt",
         "marker": {
          "color": "#FF9999",
          "size": {
           "bdata": "ew==",
           "dtype": "i1"
          },
          "sizemode": "area",
          "sizeref": 8.1,
          "symbol": "circle"
         },
         "mode": "markers",
         "name": "Egypt",
         "orientation": "v",
         "showlegend": true,
         "type": "scatter",
         "x": [
          "Egypt"
         ],
         "xaxis": "x",
         "y": {
          "bdata": "ew==",
          "dtype": "i1"
         },
         "yaxis": "y"
        },
        {
         "hoverinfo": "none",
         "legendgroup": "Australia",
         "marker": {
          "color": "#FFA3A3",
          "size": {
           "bdata": "cg==",
           "dtype": "i1"
          },
          "sizemode": "area",
          "sizeref": 8.1,
          "symbol": "circle"
         },
         "mode": "markers",
         "name": "Australia",
         "orientation": "v",
         "showlegend": true,
         "type": "scatter",
         "x": [
          "Australia"
         ],
         "xaxis": "x",
         "y": {
          "bdata": "cg==",
          "dtype": "i1"
         },
         "yaxis": "y"
        },
        {
         "hoverinfo": "none",
         "legendgroup": "Turkey",
         "marker": {
          "color": "#FFB3B3",
          "size": {
           "bdata": "cA==",
           "dtype": "i1"
          },
          "sizemode": "area",
          "sizeref": 8.1,
          "symbol": "circle"
         },
         "mode": "markers",
         "name": "Turkey",
         "orientation": "v",
         "showlegend": true,
         "type": "scatter",
         "x": [
          "Turkey"
         ],
         "xaxis": "x",
         "y": {
          "bdata": "cA==",
          "dtype": "i1"
         },
         "yaxis": "y"
        },
        {
         "hoverinfo": "none",
         "legendgroup": "Nigeria",
         "marker": {
          "color": "#FFC2C2",
          "size": {
           "bdata": "aQ==",
           "dtype": "i1"
          },
          "sizemode": "area",
          "sizeref": 8.1,
          "symbol": "circle"
         },
         "mode": "markers",
         "name": "Nigeria",
         "orientation": "v",
         "showlegend": true,
         "type": "scatter",
         "x": [
          "Nigeria"
         ],
         "xaxis": "x",
         "y": {
          "bdata": "aQ==",
          "dtype": "i1"
         },
         "yaxis": "y"
        }
       ],
       "layout": {
        "legend": {
         "itemsizing": "constant",
         "title": {
          "text": "Country"
         },
         "tracegroupgap": 0
        },
        "template": {
         "data": {
          "bar": [
           {
            "error_x": {
             "color": "#2a3f5f"
            },
            "error_y": {
             "color": "#2a3f5f"
            },
            "marker": {
             "line": {
              "color": "#E5ECF6",
              "width": 0.5
             },
             "pattern": {
              "fillmode": "overlay",
              "size": 10,
              "solidity": 0.2
             }
            },
            "type": "bar"
           }
          ],
          "barpolar": [
           {
            "marker": {
             "line": {
              "color": "#E5ECF6",
              "width": 0.5
             },
             "pattern": {
              "fillmode": "overlay",
              "size": 10,
              "solidity": 0.2
             }
            },
            "type": "barpolar"
           }
          ],
          "carpet": [
           {
            "aaxis": {
             "endlinecolor": "#2a3f5f",
             "gridcolor": "white",
             "linecolor": "white",
             "minorgridcolor": "white",
             "startlinecolor": "#2a3f5f"
            },
            "baxis": {
             "endlinecolor": "#2a3f5f",
             "gridcolor": "white",
             "linecolor": "white",
             "minorgridcolor": "white",
             "startlinecolor": "#2a3f5f"
            },
            "type": "carpet"
           }
          ],
          "choropleth": [
           {
            "colorbar": {
             "outlinewidth": 0,
             "ticks": ""
            },
            "type": "choropleth"
           }
          ],
          "contour": [
           {
            "colorbar": {
             "outlinewidth": 0,
             "ticks": ""
            },
            "colorscale": [
             [
              0,
              "#0d0887"
             ],
             [
              0.1111111111111111,
              "#46039f"
             ],
             [
              0.2222222222222222,
              "#7201a8"
             ],
             [
              0.3333333333333333,
              "#9c179e"
             ],
             [
              0.4444444444444444,
              "#bd3786"
             ],
             [
              0.5555555555555556,
              "#d8576b"
             ],
             [
              0.6666666666666666,
              "#ed7953"
             ],
             [
              0.7777777777777778,
              "#fb9f3a"
             ],
             [
              0.8888888888888888,
              "#fdca26"
             ],
             [
              1,
              "#f0f921"
             ]
            ],
            "type": "contour"
           }
          ],
          "contourcarpet": [
           {
            "colorbar": {
             "outlinewidth": 0,
             "ticks": ""
            },
            "type": "contourcarpet"
           }
          ],
          "heatmap": [
           {
            "colorbar": {
             "outlinewidth": 0,
             "ticks": ""
            },
            "colorscale": [
             [
              0,
              "#0d0887"
             ],
             [
              0.1111111111111111,
              "#46039f"
             ],
             [
              0.2222222222222222,
              "#7201a8"
             ],
             [
              0.3333333333333333,
              "#9c179e"
             ],
             [
              0.4444444444444444,
              "#bd3786"
             ],
             [
              0.5555555555555556,
              "#d8576b"
             ],
             [
              0.6666666666666666,
              "#ed7953"
             ],
             [
              0.7777777777777778,
              "#fb9f3a"
             ],
             [
              0.8888888888888888,
              "#fdca26"
             ],
             [
              1,
              "#f0f921"
             ]
            ],
            "type": "heatmap"
           }
          ],
          "histogram": [
           {
            "marker": {
             "pattern": {
              "fillmode": "overlay",
              "size": 10,
              "solidity": 0.2
             }
            },
            "type": "histogram"
           }
          ],
          "histogram2d": [
           {
            "colorbar": {
             "outlinewidth": 0,
             "ticks": ""
            },
            "colorscale": [
             [
              0,
              "#0d0887"
             ],
             [
              0.1111111111111111,
              "#46039f"
             ],
             [
              0.2222222222222222,
              "#7201a8"
             ],
             [
              0.3333333333333333,
              "#9c179e"
             ],
             [
              0.4444444444444444,
              "#bd3786"
             ],
             [
              0.5555555555555556,
              "#d8576b"
             ],
             [
              0.6666666666666666,
              "#ed7953"
             ],
             [
              0.7777777777777778,
              "#fb9f3a"
             ],
             [
              0.8888888888888888,
              "#fdca26"
             ],
             [
              1,
              "#f0f921"
             ]
            ],
            "type": "histogram2d"
           }
          ],
          "histogram2dcontour": [
           {
            "colorbar": {
             "outlinewidth": 0,
             "ticks": ""
            },
            "colorscale": [
             [
              0,
              "#0d0887"
             ],
             [
              0.1111111111111111,
              "#46039f"
             ],
             [
              0.2222222222222222,
              "#7201a8"
             ],
             [
              0.3333333333333333,
              "#9c179e"
             ],
             [
              0.4444444444444444,
              "#bd3786"
             ],
             [
              0.5555555555555556,
              "#d8576b"
             ],
             [
              0.6666666666666666,
              "#ed7953"
             ],
             [
              0.7777777777777778,
              "#fb9f3a"
             ],
             [
              0.8888888888888888,
              "#fdca26"
             ],
             [
              1,
              "#f0f921"
             ]
            ],
            "type": "histogram2dcontour"
           }
          ],
          "mesh3d": [
           {
            "colorbar": {
             "outlinewidth": 0,
             "ticks": ""
            },
            "type": "mesh3d"
           }
          ],
          "parcoords": [
           {
            "line": {
             "colorbar": {
              "outlinewidth": 0,
              "ticks": ""
             }
            },
            "type": "parcoords"
           }
          ],
          "pie": [
           {
            "automargin": true,
            "type": "pie"
           }
          ],
          "scatter": [
           {
            "fillpattern": {
             "fillmode": "overlay",
             "size": 10,
             "solidity": 0.2
            },
            "type": "scatter"
           }
          ],
          "scatter3d": [
           {
            "line": {
             "colorbar": {
              "outlinewidth": 0,
              "ticks": ""
             }
            },
            "marker": {
             "colorbar": {
              "outlinewidth": 0,
              "ticks": ""
             }
            },
            "type": "scatter3d"
           }
          ],
          "scattercarpet": [
           {
            "marker": {
             "colorbar": {
              "outlinewidth": 0,
              "ticks": ""
             }
            },
            "type": "scattercarpet"
           }
          ],
          "scattergeo": [
           {
            "marker": {
             "colorbar": {
              "outlinewidth": 0,
              "ticks": ""
             }
            },
            "type": "scattergeo"
           }
          ],
          "scattergl": [
           {
            "marker": {
             "colorbar": {
              "outlinewidth": 0,
              "ticks": ""
             }
            },
            "type": "scattergl"
           }
          ],
          "scattermap": [
           {
            "marker": {
             "colorbar": {
              "outlinewidth": 0,
              "ticks": ""
             }
            },
            "type": "scattermap"
           }
          ],
          "scattermapbox": [
           {
            "marker": {
             "colorbar": {
              "outlinewidth": 0,
              "ticks": ""
             }
            },
            "type": "scattermapbox"
           }
          ],
          "scatterpolar": [
           {
            "marker": {
             "colorbar": {
              "outlinewidth": 0,
              "ticks": ""
             }
            },
            "type": "scatterpolar"
           }
          ],
          "scatterpolargl": [
           {
            "marker": {
             "colorbar": {
              "outlinewidth": 0,
              "ticks": ""
             }
            },
            "type": "scatterpolargl"
           }
          ],
          "scatterternary": [
           {
            "marker": {
             "colorbar": {
              "outlinewidth": 0,
              "ticks": ""
             }
            },
            "type": "scatterternary"
           }
          ],
          "surface": [
           {
            "colorbar": {
             "outlinewidth": 0,
             "ticks": ""
            },
            "colorscale": [
             [
              0,
              "#0d0887"
             ],
             [
              0.1111111111111111,
              "#46039f"
             ],
             [
              0.2222222222222222,
              "#7201a8"
             ],
             [
              0.3333333333333333,
              "#9c179e"
             ],
             [
              0.4444444444444444,
              "#bd3786"
             ],
             [
              0.5555555555555556,
              "#d8576b"
             ],
             [
              0.6666666666666666,
              "#ed7953"
             ],
             [
              0.7777777777777778,
              "#fb9f3a"
             ],
             [
              0.8888888888888888,
              "#fdca26"
             ],
             [
              1,
              "#f0f921"
             ]
            ],
            "type": "surface"
           }
          ],
          "table": [
           {
            "cells": {
             "fill": {
              "color": "#EBF0F8"
             },
             "line": {
              "color": "white"
             }
            },
            "header": {
             "fill": {
              "color": "#C8D4E3"
             },
             "line": {
              "color": "white"
             }
            },
            "type": "table"
           }
          ]
         },
         "layout": {
          "annotationdefaults": {
           "arrowcolor": "#2a3f5f",
           "arrowhead": 0,
           "arrowwidth": 1
          },
          "autotypenumbers": "strict",
          "coloraxis": {
           "colorbar": {
            "outlinewidth": 0,
            "ticks": ""
           }
          },
          "colorscale": {
           "diverging": [
            [
             0,
             "#8e0152"
            ],
            [
             0.1,
             "#c51b7d"
            ],
            [
             0.2,
             "#de77ae"
            ],
            [
             0.3,
             "#f1b6da"
            ],
            [
             0.4,
             "#fde0ef"
            ],
            [
             0.5,
             "#f7f7f7"
            ],
            [
             0.6,
             "#e6f5d0"
            ],
            [
             0.7,
             "#b8e186"
            ],
            [
             0.8,
             "#7fbc41"
            ],
            [
             0.9,
             "#4d9221"
            ],
            [
             1,
             "#276419"
            ]
           ],
           "sequential": [
            [
             0,
             "#0d0887"
            ],
            [
             0.1111111111111111,
             "#46039f"
            ],
            [
             0.2222222222222222,
             "#7201a8"
            ],
            [
             0.3333333333333333,
             "#9c179e"
            ],
            [
             0.4444444444444444,
             "#bd3786"
            ],
            [
             0.5555555555555556,
             "#d8576b"
            ],
            [
             0.6666666666666666,
             "#ed7953"
            ],
            [
             0.7777777777777778,
             "#fb9f3a"
            ],
            [
             0.8888888888888888,
             "#fdca26"
            ],
            [
             1,
             "#f0f921"
            ]
           ],
           "sequentialminus": [
            [
             0,
             "#0d0887"
            ],
            [
             0.1111111111111111,
             "#46039f"
            ],
            [
             0.2222222222222222,
             "#7201a8"
            ],
            [
             0.3333333333333333,
             "#9c179e"
            ],
            [
             0.4444444444444444,
             "#bd3786"
            ],
            [
             0.5555555555555556,
             "#d8576b"
            ],
            [
             0.6666666666666666,
             "#ed7953"
            ],
            [
             0.7777777777777778,
             "#fb9f3a"
            ],
            [
             0.8888888888888888,
             "#fdca26"
            ],
            [
             1,
             "#f0f921"
            ]
           ]
          },
          "colorway": [
           "#636efa",
           "#EF553B",
           "#00cc96",
           "#ab63fa",
           "#FFA15A",
           "#19d3f3",
           "#FF6692",
           "#B6E880",
           "#FF97FF",
           "#FECB52"
          ],
          "font": {
           "color": "#2a3f5f"
          },
          "geo": {
           "bgcolor": "white",
           "lakecolor": "white",
           "landcolor": "#E5ECF6",
           "showlakes": true,
           "showland": true,
           "subunitcolor": "white"
          },
          "hoverlabel": {
           "align": "left"
          },
          "hovermode": "closest",
          "mapbox": {
           "style": "light"
          },
          "paper_bgcolor": "white",
          "plot_bgcolor": "#E5ECF6",
          "polar": {
           "angularaxis": {
            "gridcolor": "white",
            "linecolor": "white",
            "ticks": ""
           },
           "bgcolor": "#E5ECF6",
           "radialaxis": {
            "gridcolor": "white",
            "linecolor": "white",
            "ticks": ""
           }
          },
          "scene": {
           "xaxis": {
            "backgroundcolor": "#E5ECF6",
            "gridcolor": "white",
            "gridwidth": 2,
            "linecolor": "white",
            "showbackground": true,
            "ticks": "",
            "zerolinecolor": "white"
           },
           "yaxis": {
            "backgroundcolor": "#E5ECF6",
            "gridcolor": "white",
            "gridwidth": 2,
            "linecolor": "white",
            "showbackground": true,
            "ticks": "",
            "zerolinecolor": "white"
           },
           "zaxis": {
            "backgroundcolor": "#E5ECF6",
            "gridcolor": "white",
            "gridwidth": 2,
            "linecolor": "white",
            "showbackground": true,
            "ticks": "",
            "zerolinecolor": "white"
           }
          },
          "shapedefaults": {
           "line": {
            "color": "#2a3f5f"
           }
          },
          "ternary": {
           "aaxis": {
            "gridcolor": "white",
            "linecolor": "white",
            "ticks": ""
           },
           "baxis": {
            "gridcolor": "white",
            "linecolor": "white",
            "ticks": ""
           },
           "bgcolor": "#E5ECF6",
           "caxis": {
            "gridcolor": "white",
            "linecolor": "white",
            "ticks": ""
           }
          },
          "title": {
           "x": 0.05
          },
          "xaxis": {
           "automargin": true,
           "gridcolor": "white",
           "linecolor": "white",
           "ticks": "",
           "title": {
            "standoff": 15
           },
           "zerolinecolor": "white",
           "zerolinewidth": 2
          },
          "yaxis": {
           "automargin": true,
           "gridcolor": "white",
           "linecolor": "white",
           "ticks": "",
           "title": {
            "standoff": 15
           },
           "zerolinecolor": "white",
           "zerolinewidth": 2
          }
         }
        },
        "title": {
         "text": "Top 15 Countries by Netflix Content"
        },
        "xaxis": {
         "anchor": "y",
         "categoryarray": [
          "United States",
          "India",
          "United Kingdom",
          "Pakistan",
          "Not Given",
          "Canada",
          "Japan",
          "South Korea",
          "France",
          "Spain",
          "Mexico",
          "Egypt",
          "Australia",
          "Turkey",
          "Nigeria"
         ],
         "categoryorder": "array",
         "domain": [
          0,
          1
         ],
         "tickangle": -45,
         "title": {
          "text": "Country"
         }
        },
        "yaxis": {
         "anchor": "x",
         "domain": [
          0,
          1
         ],
         "title": {
          "text": "Count"
         }
        }
       }
      },
      "image/png": "[encoded data removed]"
     },
     "metadata": {},
     "output_type": "display_data"
    }
   ],
   "source": [
    "import plotly.express as px\n",
    "\n",
    "# Top 15 countries\n",
    "top_countries = data['country'].value_counts().reset_index().head(15)\n",
    "top_countries.columns = ['Country', 'Count']\n",
    "\n",
    "# Scatter bubble plot\n",
    "fig9 = px.scatter(\n",
    "    top_countries,\n",
    "    x='Country',\n",
    "    y='Count',\n",
    "    size='Count',\n",
    "    color='Country',\n",
    "    title=\"Top 15 Countries by Netflix Content\",\n",
    "    color_discrete_sequence=netflix_reds\n",
    ")\n",
    "\n",
    "# Layout and disable hover\n",
    "fig9.update_layout(\n",
    "    xaxis_tickangle=-45\n",
    ")\n",
    "fig9.update_traces(\n",
    "    hoverinfo=\"none\",   #  Disable hover info\n",
    "    hovertemplate=None  #  Ensure no tooltip shows\n",
    ")\n",
    "\n",
    "fig9.show()"
   ]
  },
  {
   "cell_type": "code",
   "execution_count": 16,
   "id": "b23bf8ab-c18b-4f27-93ee-aa9757364b1e",
   "metadata": {},
   "outputs": [
    {
     "data": {
      "application/vnd.plotly.v1+json": {
       "config": {
        "plotlyServerURL": "https://plot.ly"
       },
       "data": [
        {
         "coloraxis": "coloraxis",
         "hovertemplate": "Month: %{x}<br>Year: %{y}<br>Number of Releases: %{z}<extra></extra>",
         "name": "0",
         "texttemplate": "%{z}",
         "type": "heatmap",
         "x": [
          "Jan",
          "Feb",
          "Mar",
          "Apr",
          "May",
          "Jun",
          "Jul",
          "Aug",
          "Sep",
          "Oct",
          "Nov",
          "Dec"
         ],
         "xaxis": "x",
         "y": {
          "bdata": "2wcAANwHAADdBwAA3gcAAN8HAADgBwAA4QcAAOIHAADjBwAA5AcAAOUHAAA=",
          "dtype": "i4"
         },
         "yaxis": "y",
         "z": {
          "bdata": "AAAAAAAAAAAAAAAAAAAAAAAAAAAAAAAAAAAAAAAAAAAAAAAAAADwPwAAAAAAAAAAAAAAAAAAAAAAAAAAAAAAAAAAAAAAAPA/AAAAAAAAJkAAAAAAAAAAAAAAAAAAAAAAAAAAAAAAAAAAAAAAAADwPwAAAAAAAAAAAAAAAAAAAAAAAAAAAAAAAAAAAAAAAAAAAAAAAAAAAAAAAAAAAAAAAAAAAAAAAAAAAAAAAAAAAAAAAAAAAADwPwAAAAAAAPA/AAAAAAAAAAAAAAAAAAAAAAAAAAAAAPA/AAAAAAAAAAAAAAAAAAAAAAAAAAAAAAAAAAAAAAAAAAAAAAAAAADwPwAAAAAAAABAAAAAAAAACEAAAAAAAAAAQAAAAAAAAABAAAAAAAAAAEAAAAAAAAAAQAAAAAAAAAAAAAAAAAAAAEAAAAAAAAAAAAAAAAAAAPA/AAAAAAAA8D8AAAAAAADwPwAAAAAAAPA/AAAAAAAAEEAAAAAAAAAQQAAAAAAAABhAAAAAAAAA8D8AAAAAAAAQQAAAAAAAABRAAAAAAAAAFEAAAAAAAAAYQAAAAAAAABhAAAAAAAAAHEAAAAAAAAAAQAAAAAAAABxAAAAAAAAALEAAAAAAAAAQQAAAAAAAADVAAAAAAACARUAAAAAAAAAuQAAAAAAAADFAAAAAAAAANkAAAAAAAAAqQAAAAAAAADJAAAAAAAAAPEAAAAAAAIBAQAAAAAAAgEdAAAAAAACASUAAAAAAAABGQAAAAAAAwFdAAAAAAADAUUAAAAAAAIBUQAAAAAAAAF9AAAAAAAAAV0AAAAAAAIBVQAAAAAAAgFdAAAAAAADAU0AAAAAAAMBcQAAAAAAAQFxAAAAAAACAX0AAAAAAAEBVQAAAAAAAgF1AAAAAAAAgYEAAAAAAAIBVQAAAAAAAoGVAAAAAAADAXEAAAAAAAEBYQAAAAAAAgFNAAAAAAAAAY0AAAAAAAIBkQAAAAAAAAF9AAAAAAADgZ0AAAAAAAEBjQAAAAAAAIGdAAAAAAAAgY0AAAAAAAIBiQAAAAAAAgGVAAAAAAABAZEAAAAAAAGBhQAAAAAAAAGVAAAAAAACgY0AAAAAAAGBgQAAAAAAAwF5AAAAAAAAgaEAAAAAAAOBvQAAAAAAA4GpAAAAAAACgaUAAAAAAAIBcQAAAAAAAIGFAAAAAAAAgZkAAAAAAAKBjQAAAAAAAgGNAAAAAAABAYkAAAAAAACBgQAAAAAAAAGVAAAAAAADgZEAAAAAAAEBjQAAAAAAAIGVAAAAAAACAYEAAAAAAAEBbQAAAAAAAAFxAAAAAAACAZ0AAAAAAAIBgQAAAAAAA4GlAAAAAAAAQcEAAAAAAAEBmQAAAAAAA4GZAAAAAAAAAAAAAAAAAAAAAAAAAAAAAAAAA",
          "dtype": "f8",
          "shape": "11, 12"
         }
        }
       ],
       "layout": {
        "coloraxis": {
         "colorbar": {
          "title": {
           "text": "Number of Releases"
          }
         },
         "colorscale": [
          [
           0,
           "#330000"
          ],
          [
           0.2,
           "#800000"
          ],
          [
           0.4,
           "#B22222"
          ],
          [
           0.6,
           "#DC143C"
          ],
          [
           0.8,
           "#FF6347"
          ],
          [
           1,
           "#FF9999"
          ]
         ]
        },
        "font": {
         "color": "white",
         "size": 12
        },
        "margin": {
         "b": 60,
         "l": 60,
         "r": 40,
         "t": 80
        },
        "template": {
         "data": {
          "bar": [
           {
            "error_x": {
             "color": "#2a3f5f"
            },
            "error_y": {
             "color": "#2a3f5f"
            },
            "marker": {
             "line": {
              "color": "#E5ECF6",
              "width": 0.5
             },
             "pattern": {
              "fillmode": "overlay",
              "size": 10,
              "solidity": 0.2
             }
            },
            "type": "bar"
           }
          ],
          "barpolar": [
           {
            "marker": {
             "line": {
              "color": "#E5ECF6",
              "width": 0.5
             },
             "pattern": {
              "fillmode": "overlay",
              "size": 10,
              "solidity": 0.2
             }
            },
            "type": "barpolar"
           }
          ],
          "carpet": [
           {
            "aaxis": {
             "endlinecolor": "#2a3f5f",
             "gridcolor": "white",
             "linecolor": "white",
             "minorgridcolor": "white",
             "startlinecolor": "#2a3f5f"
            },
            "baxis": {
             "endlinecolor": "#2a3f5f",
             "gridcolor": "white",
             "linecolor": "white",
             "minorgridcolor": "white",
             "startlinecolor": "#2a3f5f"
            },
            "type": "carpet"
           }
          ],
          "choropleth": [
           {
            "colorbar": {
             "outlinewidth": 0,
             "ticks": ""
            },
            "type": "choropleth"
           }
          ],
          "contour": [
           {
            "colorbar": {
             "outlinewidth": 0,
             "ticks": ""
            },
            "colorscale": [
             [
              0,
              "#0d0887"
             ],
             [
              0.1111111111111111,
              "#46039f"
             ],
             [
              0.2222222222222222,
              "#7201a8"
             ],
             [
              0.3333333333333333,
              "#9c179e"
             ],
             [
              0.4444444444444444,
              "#bd3786"
             ],
             [
              0.5555555555555556,
              "#d8576b"
             ],
             [
              0.6666666666666666,
              "#ed7953"
             ],
             [
              0.7777777777777778,
              "#fb9f3a"
             ],
             [
              0.8888888888888888,
              "#fdca26"
             ],
             [
              1,
              "#f0f921"
             ]
            ],
            "type": "contour"
           }
          ],
          "contourcarpet": [
           {
            "colorbar": {
             "outlinewidth": 0,
             "ticks": ""
            },
            "type": "contourcarpet"
           }
          ],
          "heatmap": [
           {
            "colorbar": {
             "outlinewidth": 0,
             "ticks": ""
            },
            "colorscale": [
             [
              0,
              "#0d0887"
             ],
             [
              0.1111111111111111,
              "#46039f"
             ],
             [
              0.2222222222222222,
              "#7201a8"
             ],
             [
              0.3333333333333333,
              "#9c179e"
             ],
             [
              0.4444444444444444,
              "#bd3786"
             ],
             [
              0.5555555555555556,
              "#d8576b"
             ],
             [
              0.6666666666666666,
              "#ed7953"
             ],
             [
              0.7777777777777778,
              "#fb9f3a"
             ],
             [
              0.8888888888888888,
              "#fdca26"
             ],
             [
              1,
              "#f0f921"
             ]
            ],
            "type": "heatmap"
           }
          ],
          "histogram": [
           {
            "marker": {
             "pattern": {
              "fillmode": "overlay",
              "size": 10,
              "solidity": 0.2
             }
            },
            "type": "histogram"
           }
          ],
          "histogram2d": [
           {
            "colorbar": {
             "outlinewidth": 0,
             "ticks": ""
            },
            "colorscale": [
             [
              0,
              "#0d0887"
             ],
             [
              0.1111111111111111,
              "#46039f"
             ],
             [
              0.2222222222222222,
              "#7201a8"
             ],
             [
              0.3333333333333333,
              "#9c179e"
             ],
             [
              0.4444444444444444,
              "#bd3786"
             ],
             [
              0.5555555555555556,
              "#d8576b"
             ],
             [
              0.6666666666666666,
              "#ed7953"
             ],
             [
              0.7777777777777778,
              "#fb9f3a"
             ],
             [
              0.8888888888888888,
              "#fdca26"
             ],
             [
              1,
              "#f0f921"
             ]
            ],
            "type": "histogram2d"
           }
          ],
          "histogram2dcontour": [
           {
            "colorbar": {
             "outlinewidth": 0,
             "ticks": ""
            },
            "colorscale": [
             [
              0,
              "#0d0887"
             ],
             [
              0.1111111111111111,
              "#46039f"
             ],
             [
              0.2222222222222222,
              "#7201a8"
             ],
             [
              0.3333333333333333,
              "#9c179e"
             ],
             [
              0.4444444444444444,
              "#bd3786"
             ],
             [
              0.5555555555555556,
              "#d8576b"
             ],
             [
              0.6666666666666666,
              "#ed7953"
             ],
             [
              0.7777777777777778,
              "#fb9f3a"
             ],
             [
              0.8888888888888888,
              "#fdca26"
             ],
             [
              1,
              "#f0f921"
             ]
            ],
            "type": "histogram2dcontour"
           }
          ],
          "mesh3d": [
           {
            "colorbar": {
             "outlinewidth": 0,
             "ticks": ""
            },
            "type": "mesh3d"
           }
          ],
          "parcoords": [
           {
            "line": {
             "colorbar": {
              "outlinewidth": 0,
              "ticks": ""
             }
            },
            "type": "parcoords"
           }
          ],
          "pie": [
           {
            "automargin": true,
            "type": "pie"
           }
          ],
          "scatter": [
           {
            "fillpattern": {
             "fillmode": "overlay",
             "size": 10,
             "solidity": 0.2
            },
            "type": "scatter"
           }
          ],
          "scatter3d": [
           {
            "line": {
             "colorbar": {
              "outlinewidth": 0,
              "ticks": ""
             }
            },
            "marker": {
             "colorbar": {
              "outlinewidth": 0,
              "ticks": ""
             }
            },
            "type": "scatter3d"
           }
          ],
          "scattercarpet": [
           {
            "marker": {
             "colorbar": {
              "outlinewidth": 0,
              "ticks": ""
             }
            },
            "type": "scattercarpet"
           }
          ],
          "scattergeo": [
           {
            "marker": {
             "colorbar": {
              "outlinewidth": 0,
              "ticks": ""
             }
            },
            "type": "scattergeo"
           }
          ],
          "scattergl": [
           {
            "marker": {
             "colorbar": {
              "outlinewidth": 0,
              "ticks": ""
             }
            },
            "type": "scattergl"
           }
          ],
          "scattermap": [
           {
            "marker": {
             "colorbar": {
              "outlinewidth": 0,
              "ticks": ""
             }
            },
            "type": "scattermap"
           }
          ],
          "scattermapbox": [
           {
            "marker": {
             "colorbar": {
              "outlinewidth": 0,
              "ticks": ""
             }
            },
            "type": "scattermapbox"
           }
          ],
          "scatterpolar": [
           {
            "marker": {
             "colorbar": {
              "outlinewidth": 0,
              "ticks": ""
             }
            },
            "type": "scatterpolar"
           }
          ],
          "scatterpolargl": [
           {
            "marker": {
             "colorbar": {
              "outlinewidth": 0,
              "ticks": ""
             }
            },
            "type": "scatterpolargl"
           }
          ],
          "scatterternary": [
           {
            "marker": {
             "colorbar": {
              "outlinewidth": 0,
              "ticks": ""
             }
            },
            "type": "scatterternary"
           }
          ],
          "surface": [
           {
            "colorbar": {
             "outlinewidth": 0,
             "ticks": ""
            },
            "colorscale": [
             [
              0,
              "#0d0887"
             ],
             [
              0.1111111111111111,
              "#46039f"
             ],
             [
              0.2222222222222222,
              "#7201a8"
             ],
             [
              0.3333333333333333,
              "#9c179e"
             ],
             [
              0.4444444444444444,
              "#bd3786"
             ],
             [
              0.5555555555555556,
              "#d8576b"
             ],
             [
              0.6666666666666666,
              "#ed7953"
             ],
             [
              0.7777777777777778,
              "#fb9f3a"
             ],
             [
              0.8888888888888888,
              "#fdca26"
             ],
             [
              1,
              "#f0f921"
             ]
            ],
            "type": "surface"
           }
          ],
          "table": [
           {
            "cells": {
             "fill": {
              "color": "#EBF0F8"
             },
             "line": {
              "color": "white"
             }
            },
            "header": {
             "fill": {
              "color": "#C8D4E3"
             },
             "line": {
              "color": "white"
             }
            },
            "type": "table"
           }
          ]
         },
         "layout": {
          "annotationdefaults": {
           "arrowcolor": "#2a3f5f",
           "arrowhead": 0,
           "arrowwidth": 1
          },
          "autotypenumbers": "strict",
          "coloraxis": {
           "colorbar": {
            "outlinewidth": 0,
            "ticks": ""
           }
          },
          "colorscale": {
           "diverging": [
            [
             0,
             "#8e0152"
            ],
            [
             0.1,
             "#c51b7d"
            ],
            [
             0.2,
             "#de77ae"
            ],
            [
             0.3,
             "#f1b6da"
            ],
            [
             0.4,
             "#fde0ef"
            ],
            [
             0.5,
             "#f7f7f7"
            ],
            [
             0.6,
             "#e6f5d0"
            ],
            [
             0.7,
             "#b8e186"
            ],
            [
             0.8,
             "#7fbc41"
            ],
            [
             0.9,
             "#4d9221"
            ],
            [
             1,
             "#276419"
            ]
           ],
           "sequential": [
            [
             0,
             "#0d0887"
            ],
            [
             0.1111111111111111,
             "#46039f"
            ],
            [
             0.2222222222222222,
             "#7201a8"
            ],
            [
             0.3333333333333333,
             "#9c179e"
            ],
            [
             0.4444444444444444,
             "#bd3786"
            ],
            [
             0.5555555555555556,
             "#d8576b"
            ],
            [
             0.6666666666666666,
             "#ed7953"
            ],
            [
             0.7777777777777778,
             "#fb9f3a"
            ],
            [
             0.8888888888888888,
             "#fdca26"
            ],
            [
             1,
             "#f0f921"
            ]
           ],
           "sequentialminus": [
            [
             0,
             "#0d0887"
            ],
            [
             0.1111111111111111,
             "#46039f"
            ],
            [
             0.2222222222222222,
             "#7201a8"
            ],
            [
             0.3333333333333333,
             "#9c179e"
            ],
            [
             0.4444444444444444,
             "#bd3786"
            ],
            [
             0.5555555555555556,
             "#d8576b"
            ],
            [
             0.6666666666666666,
             "#ed7953"
            ],
            [
             0.7777777777777778,
             "#fb9f3a"
            ],
            [
             0.8888888888888888,
             "#fdca26"
            ],
            [
             1,
             "#f0f921"
            ]
           ]
          },
          "colorway": [
           "#636efa",
           "#EF553B",
           "#00cc96",
           "#ab63fa",
           "#FFA15A",
           "#19d3f3",
           "#FF6692",
           "#B6E880",
           "#FF97FF",
           "#FECB52"
          ],
          "font": {
           "color": "#2a3f5f"
          },
          "geo": {
           "bgcolor": "white",
           "lakecolor": "white",
           "landcolor": "#E5ECF6",
           "showlakes": true,
           "showland": true,
           "subunitcolor": "white"
          },
          "hoverlabel": {
           "align": "left"
          },
          "hovermode": "closest",
          "mapbox": {
           "style": "light"
          },
          "paper_bgcolor": "white",
          "plot_bgcolor": "#E5ECF6",
          "polar": {
           "angularaxis": {
            "gridcolor": "white",
            "linecolor": "white",
            "ticks": ""
           },
           "bgcolor": "#E5ECF6",
           "radialaxis": {
            "gridcolor": "white",
            "linecolor": "white",
            "ticks": ""
           }
          },
          "scene": {
           "xaxis": {
            "backgroundcolor": "#E5ECF6",
            "gridcolor": "white",
            "gridwidth": 2,
            "linecolor": "white",
            "showbackground": true,
            "ticks": "",
            "zerolinecolor": "white"
           },
           "yaxis": {
            "backgroundcolor": "#E5ECF6",
            "gridcolor": "white",
            "gridwidth": 2,
            "linecolor": "white",
            "showbackground": true,
            "ticks": "",
            "zerolinecolor": "white"
           },
           "zaxis": {
            "backgroundcolor": "#E5ECF6",
            "gridcolor": "white",
            "gridwidth": 2,
            "linecolor": "white",
            "showbackground": true,
            "ticks": "",
            "zerolinecolor": "white"
           }
          },
          "shapedefaults": {
           "line": {
            "color": "#2a3f5f"
           }
          },
          "ternary": {
           "aaxis": {
            "gridcolor": "white",
            "linecolor": "white",
            "ticks": ""
           },
           "baxis": {
            "gridcolor": "white",
            "linecolor": "white",
            "ticks": ""
           },
           "bgcolor": "#E5ECF6",
           "caxis": {
            "gridcolor": "white",
            "linecolor": "white",
            "ticks": ""
           }
          },
          "title": {
           "x": 0.05
          },
          "xaxis": {
           "automargin": true,
           "gridcolor": "white",
           "linecolor": "white",
           "ticks": "",
           "title": {
            "standoff": 15
           },
           "zerolinecolor": "white",
           "zerolinewidth": 2
          },
          "yaxis": {
           "automargin": true,
           "gridcolor": "white",
           "linecolor": "white",
           "ticks": "",
           "title": {
            "standoff": 15
           },
           "zerolinecolor": "white",
           "zerolinewidth": 2
          }
         }
        },
        "title": {
         "font": {
          "color": "red",
          "size": 18
         },
         "text": "Netflix Content Releases by Year & Month (Clear View)"
        },
        "xaxis": {
         "anchor": "y",
         "constrain": "domain",
         "domain": [
          0,
          1
         ],
         "scaleanchor": "y",
         "title": {
          "text": "Month"
         }
        },
        "yaxis": {
         "anchor": "x",
         "autorange": "reversed",
         "constrain": "domain",
         "domain": [
          0,
          1
         ],
         "title": {
          "text": "Year"
         }
        }
       }
      },
      "image/png": "[encoded data removed]"
     },
     "metadata": {},
     "output_type": "display_data"
    }
   ],
   "source": [
    "# Drop missing dates\n",
    "data = data.dropna(subset=['date_added'])\n",
    "data['year_added'] = data['date_added'].dt.year\n",
    "data['month_added'] = data['date_added'].dt.month\n",
    "\n",
    "# Group by Year & Month\n",
    "heatmap_data = data.groupby(['year_added','month_added']).size().reset_index(name='Count')\n",
    "\n",
    "# Month labels\n",
    "month_labels = ['Jan','Feb','Mar','Apr','May','Jun','Jul','Aug','Sep','Oct','Nov','Dec']\n",
    "\n",
    "# Create pivot table\n",
    "heatmap_pivot = heatmap_data.pivot(index=\"year_added\", columns=\"month_added\", values=\"Count\").fillna(0)\n",
    "\n",
    "# Limit to recent years (optional: last 10 years for clarity)\n",
    "heatmap_pivot = heatmap_pivot.loc[heatmap_pivot.index >= (heatmap_pivot.index.max() - 10)]\n",
    "\n",
    "# Plot Heatmap\n",
    "fig_heatmap = px.imshow(\n",
    "    heatmap_pivot,\n",
    "    labels=dict(x=\"Month\", y=\"Year\", color=\"Number of Releases\"),\n",
    "    x=month_labels,\n",
    "    y=heatmap_pivot.index,\n",
    "    text_auto=True,  # show values inside cells\n",
    "    color_continuous_scale=[\"#330000\", \"#800000\", \"#B22222\", \"#DC143C\", \"#FF6347\", \"#FF9999\"],\n",
    "    title=\"Netflix Content Releases by Year & Month (Clear View)\"\n",
    ")\n",
    "# Layout adjustments\n",
    "fig_heatmap.update_layout(\n",
    "    xaxis_title=\"Month\",\n",
    "    yaxis_title=\"Year\",\n",
    "    font=dict(size=12, color=\"white\"),\n",
    "    title_font=dict(size=18, color=\"red\"),\n",
    "    margin=dict(l=60, r=40, t=80, b=60)\n",
    ")\n",
    "\n",
    "fig_heatmap.show()"
   ]
  },
  {
   "cell_type": "code",
   "execution_count": null,
   "id": "e1800b99-8966-4784-9e82-d60c2e64083f",
   "metadata": {},
   "outputs": [],
   "source": []
  }
 ],
 "metadata": {
  "kernelspec": {
   "display_name": "Python 3 (ipykernel)",
   "language": "python",
   "name": "python3"
  },
  "language_info": {
   "codemirror_mode": {
    "name": "ipython",
    "version": 3
   },
   "file_extension": ".py",
   "mimetype": "text/x-python",
   "name": "python",
   "nbconvert_exporter": "python",
   "pygments_lexer": "ipython3",
   "version": "3.13.7"
  }
 },
 "nbformat": 4,
 "nbformat_minor": 5
}
